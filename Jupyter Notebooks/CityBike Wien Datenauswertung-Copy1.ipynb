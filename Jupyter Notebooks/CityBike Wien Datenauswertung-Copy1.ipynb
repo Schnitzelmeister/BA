{
 "cells": [
  {
   "cell_type": "markdown",
   "metadata": {},
   "source": [
    "# CityBike Wien Datensetanalye für die Jahre 2016 und 2017"
   ]
  },
  {
   "cell_type": "markdown",
   "metadata": {},
   "source": [
    "== Inhalt und Struktur dieses Notebooks \n",
    "\n"
   ]
  },
  {
   "cell_type": "markdown",
   "metadata": {},
   "source": [
    "## Datenset importieren bereinigen und transformieren"
   ]
  },
  {
   "cell_type": "markdown",
   "metadata": {},
   "source": [
    "Die Daten werden zuerst eingelesen und nötige Transformationen werden vorgenommen. \n",
    "\n",
    "In erste Linie werden alle Fahrten die unter zwei Minuten dauern und an der gleichen Station enden aus dem Datenset herausgenommen da man davon ausgehen kann, dass der Nutzer das System nicht benutzt hat. "
   ]
  },
  {
   "cell_type": "code",
   "execution_count": 1,
   "metadata": {},
   "outputs": [],
   "source": [
    "%matplotlib inline\n",
    "import pandas as pd\n",
    "import datetime\n",
    "import numpy as np\n",
    "import matplotlib.pyplot as plt\n",
    "import seaborn as sns\n",
    "import warnings\n",
    "import math\n",
    "#Warnungen seitens Jupyter sollen ignoriert werden\n",
    "warnings.filterwarnings('ignore')\n",
    "\n",
    "df2016 = pd.read_csv('CityBikeWien/2016trips.csv', error_bad_lines=False, parse_dates=['Startdatum', 'Enddatum'], delimiter=';')\n",
    "df2017 = pd.read_csv('CityBikeWien/2017trips.csv', error_bad_lines=False, parse_dates=['Startdatum', 'Enddatum'], delimiter=';')"
   ]
  },
  {
   "cell_type": "markdown",
   "metadata": {},
   "source": [
    "Die beiden DataFrames für die Jahre 2016 und 2017 werden zusammengeführt"
   ]
  },
  {
   "cell_type": "code",
   "execution_count": 2,
   "metadata": {},
   "outputs": [],
   "source": [
    "df_total = df2016.append(df2017)"
   ]
  },
  {
   "cell_type": "markdown",
   "metadata": {},
   "source": [
    "Bei dem neuen DataFrame wird der Index neu gesetzt"
   ]
  },
  {
   "cell_type": "code",
   "execution_count": 3,
   "metadata": {},
   "outputs": [],
   "source": [
    "df_total = df_total.reset_index(drop=True)"
   ]
  },
  {
   "cell_type": "markdown",
   "metadata": {},
   "source": [
    "Eine neue Spalte für die Fahrtdauer wird hinzugefügt (Enddatum-Startdatum)"
   ]
  },
  {
   "cell_type": "code",
   "execution_count": 4,
   "metadata": {},
   "outputs": [],
   "source": [
    "df_total['Fahrtdauer'] =  df_total['Enddatum'] - df_total['Startdatum']\n",
    "df2016['Fahrtdauer']   =  df2016['Enddatum']   - df2016['Startdatum']\n",
    "df2017['Fahrtdauer']   =  df2017['Enddatum'] - df2017['Startdatum']"
   ]
  },
  {
   "cell_type": "markdown",
   "metadata": {},
   "source": [
    "Uns interessieren nur Fahrten die länger als zwei Minuten dauern und gleichzeitig nicht an der gleichen Station beendet wurden. Die Bereinigung wird für alle dreit Datasets vorgenommen."
   ]
  },
  {
   "cell_type": "code",
   "execution_count": 5,
   "metadata": {},
   "outputs": [],
   "source": [
    "df_total_cleansed = df_total[ (df_total['Fahrtdauer'] > pd.Timedelta('120 sec')) \n",
    "                            & (df_total['Anfangsstation_ID'] != df_total['Endstation_ID'])]\n",
    "\n",
    "df2016            = df2016[ (df2016['Fahrtdauer'] > pd.Timedelta('120 sec'))\n",
    "                            & (df2016['Anfangsstation_ID'] != df2016['Endstation_ID'])]\n",
    "\n",
    "df2017            = df2017[ (df2017['Fahrtdauer'] > pd.Timedelta('120 sec'))\n",
    "                            & (df2017['Anfangsstation_ID'] != df2017['Endstation_ID'])]"
   ]
  },
  {
   "cell_type": "markdown",
   "metadata": {},
   "source": [
    "Das bereinigte DataFrame enthält insgesamt 1.897.764 Einträge für die Jahre 2016 und 2017 mit folgenden Datentypen"
   ]
  },
  {
   "cell_type": "code",
   "execution_count": 6,
   "metadata": {
    "scrolled": true
   },
   "outputs": [
    {
     "name": "stdout",
     "output_type": "stream",
     "text": [
      "<class 'pandas.core.frame.DataFrame'>\n",
      "Int64Index: 1897764 entries, 1 to 2080071\n",
      "Data columns (total 7 columns):\n",
      "Startdatum           datetime64[ns]\n",
      "Enddatum             datetime64[ns]\n",
      "Anfangsstation_ID    int64\n",
      "Endstation_ID        int64\n",
      "Fahrrad_ID           int64\n",
      "Subscriber_ID        object\n",
      "Fahrtdauer           timedelta64[ns]\n",
      "dtypes: datetime64[ns](2), int64(3), object(1), timedelta64[ns](1)\n",
      "memory usage: 115.8+ MB\n"
     ]
    }
   ],
   "source": [
    "df_total_cleansed.info()"
   ]
  },
  {
   "cell_type": "markdown",
   "metadata": {},
   "source": [
    "Erste Zeile des DataFrames als Referenz"
   ]
  },
  {
   "cell_type": "code",
   "execution_count": 7,
   "metadata": {},
   "outputs": [
    {
     "data": {
      "text/html": [
       "<div>\n",
       "<style scoped>\n",
       "    .dataframe tbody tr th:only-of-type {\n",
       "        vertical-align: middle;\n",
       "    }\n",
       "\n",
       "    .dataframe tbody tr th {\n",
       "        vertical-align: top;\n",
       "    }\n",
       "\n",
       "    .dataframe thead th {\n",
       "        text-align: right;\n",
       "    }\n",
       "</style>\n",
       "<table border=\"1\" class=\"dataframe\">\n",
       "  <thead>\n",
       "    <tr style=\"text-align: right;\">\n",
       "      <th></th>\n",
       "      <th>Startdatum</th>\n",
       "      <th>Enddatum</th>\n",
       "      <th>Anfangsstation_ID</th>\n",
       "      <th>Endstation_ID</th>\n",
       "      <th>Fahrrad_ID</th>\n",
       "      <th>Subscriber_ID</th>\n",
       "      <th>Fahrtdauer</th>\n",
       "    </tr>\n",
       "  </thead>\n",
       "  <tbody>\n",
       "    <tr>\n",
       "      <th>1</th>\n",
       "      <td>2016-01-01 00:13:04</td>\n",
       "      <td>2016-01-01 00:38:05</td>\n",
       "      <td>1026</td>\n",
       "      <td>1100</td>\n",
       "      <td>2539</td>\n",
       "      <td>0x04084286D0CC7FA3973C16F8306802A1</td>\n",
       "      <td>00:25:01</td>\n",
       "    </tr>\n",
       "  </tbody>\n",
       "</table>\n",
       "</div>"
      ],
      "text/plain": [
       "           Startdatum            Enddatum  Anfangsstation_ID  Endstation_ID  \\\n",
       "1 2016-01-01 00:13:04 2016-01-01 00:38:05               1026           1100   \n",
       "\n",
       "   Fahrrad_ID                       Subscriber_ID Fahrtdauer  \n",
       "1        2539  0x04084286D0CC7FA3973C16F8306802A1   00:25:01  "
      ]
     },
     "execution_count": 7,
     "metadata": {},
     "output_type": "execute_result"
    }
   ],
   "source": [
    "df_total_cleansed.head(1)"
   ]
  },
  {
   "cell_type": "markdown",
   "metadata": {},
   "source": [
    "## Finde die ersten 10 Benutzer nach Benutzung für den gesamten Zeitraum (2016+2017)"
   ]
  },
  {
   "cell_type": "markdown",
   "metadata": {},
   "source": [
    "\n",
    "In der folgenden Zelle wird das DataFrame anhand der 'Subscriber_ID' gruppiert. \n",
    "\n",
    "Darauffolgend wird eine Aggregatfunktion (np.size) auf das gruppierte Objekt angewendet um die Anzahl der Fahrten je Subscriber zu erhalten. Somit erhält man ein Series-Objekt welches sortiert werden muss. \n",
    "\n",
    "Um die Handhabung zu erleichtern wird das Series-Objekt zu einem DataFrame mit einer einzigen Spalte transformiert."
   ]
  },
  {
   "cell_type": "code",
   "execution_count": 8,
   "metadata": {},
   "outputs": [],
   "source": [
    "grouped_by_subscriber_groups              = df_total.groupby('Subscriber_ID')\n",
    "aggregated_by_subscriber_series           = grouped_by_subscriber_groups['Fahrrad_ID'].agg(np.size)\n",
    "aggregated_sorted_by_subscriber_series    = aggregated_by_subscriber_series.sort_values(ascending=False)\n",
    "aggregated_by_subscriber_dataframe        = aggregated_sorted_by_subscriber_series.to_frame('ANZAHL_FAHRTEN')"
   ]
  },
  {
   "cell_type": "markdown",
   "metadata": {},
   "source": [
    "Die ersten zehn Subscriber werden extrahiert und zudem wird eine Spalte mit dem Rang hinzugefügt. Danach wird das DataFrame ausgegeben. "
   ]
  },
  {
   "cell_type": "code",
   "execution_count": 9,
   "metadata": {},
   "outputs": [
    {
     "data": {
      "text/html": [
       "<div>\n",
       "<style scoped>\n",
       "    .dataframe tbody tr th:only-of-type {\n",
       "        vertical-align: middle;\n",
       "    }\n",
       "\n",
       "    .dataframe tbody tr th {\n",
       "        vertical-align: top;\n",
       "    }\n",
       "\n",
       "    .dataframe thead th {\n",
       "        text-align: right;\n",
       "    }\n",
       "</style>\n",
       "<table border=\"1\" class=\"dataframe\">\n",
       "  <thead>\n",
       "    <tr style=\"text-align: right;\">\n",
       "      <th></th>\n",
       "      <th>ANZAHL_FAHRTEN</th>\n",
       "      <th>RANG</th>\n",
       "    </tr>\n",
       "    <tr>\n",
       "      <th>Subscriber_ID</th>\n",
       "      <th></th>\n",
       "      <th></th>\n",
       "    </tr>\n",
       "  </thead>\n",
       "  <tbody>\n",
       "    <tr>\n",
       "      <th>0x30EF7C4D0C1211B47ADBA3295EF47C61</th>\n",
       "      <td>1790</td>\n",
       "      <td>1</td>\n",
       "    </tr>\n",
       "    <tr>\n",
       "      <th>0xB9AF912E74C4F6602CF849721E28B621</th>\n",
       "      <td>1400</td>\n",
       "      <td>2</td>\n",
       "    </tr>\n",
       "    <tr>\n",
       "      <th>0xAC44D643FD2F8AE0CCD64B35A269DCC1</th>\n",
       "      <td>1297</td>\n",
       "      <td>3</td>\n",
       "    </tr>\n",
       "    <tr>\n",
       "      <th>0x30F9A85D6ADB8CFA380C4EA7D77C574E</th>\n",
       "      <td>1281</td>\n",
       "      <td>4</td>\n",
       "    </tr>\n",
       "    <tr>\n",
       "      <th>0xCA316F5E99321FD79D33C3CAB1000DA5</th>\n",
       "      <td>1193</td>\n",
       "      <td>5</td>\n",
       "    </tr>\n",
       "    <tr>\n",
       "      <th>0xE88FAEE35C9817B6BD91961D8DD186E0</th>\n",
       "      <td>1028</td>\n",
       "      <td>6</td>\n",
       "    </tr>\n",
       "    <tr>\n",
       "      <th>0x62B4268B5D5AB0FD8B0FDC93D79498DD</th>\n",
       "      <td>1025</td>\n",
       "      <td>7</td>\n",
       "    </tr>\n",
       "    <tr>\n",
       "      <th>0x24384492DBD8ACA63F4C29FC8BC3B36A</th>\n",
       "      <td>1011</td>\n",
       "      <td>8</td>\n",
       "    </tr>\n",
       "    <tr>\n",
       "      <th>0xD372854C5186AB811AEE55325547CC85</th>\n",
       "      <td>1009</td>\n",
       "      <td>9</td>\n",
       "    </tr>\n",
       "    <tr>\n",
       "      <th>0x0156CCFCAAF6097587BCB2B1C711F1FE</th>\n",
       "      <td>980</td>\n",
       "      <td>10</td>\n",
       "    </tr>\n",
       "  </tbody>\n",
       "</table>\n",
       "</div>"
      ],
      "text/plain": [
       "                                    ANZAHL_FAHRTEN  RANG\n",
       "Subscriber_ID                                           \n",
       "0x30EF7C4D0C1211B47ADBA3295EF47C61            1790     1\n",
       "0xB9AF912E74C4F6602CF849721E28B621            1400     2\n",
       "0xAC44D643FD2F8AE0CCD64B35A269DCC1            1297     3\n",
       "0x30F9A85D6ADB8CFA380C4EA7D77C574E            1281     4\n",
       "0xCA316F5E99321FD79D33C3CAB1000DA5            1193     5\n",
       "0xE88FAEE35C9817B6BD91961D8DD186E0            1028     6\n",
       "0x62B4268B5D5AB0FD8B0FDC93D79498DD            1025     7\n",
       "0x24384492DBD8ACA63F4C29FC8BC3B36A            1011     8\n",
       "0xD372854C5186AB811AEE55325547CC85            1009     9\n",
       "0x0156CCFCAAF6097587BCB2B1C711F1FE             980    10"
      ]
     },
     "execution_count": 9,
     "metadata": {},
     "output_type": "execute_result"
    }
   ],
   "source": [
    "aggregated_by_subscriber_dataframe_top_10 = aggregated_by_subscriber_dataframe[:10]\n",
    "aggregated_by_subscriber_dataframe_top_10['RANG'] = np.arange(1,11) \n",
    "aggregated_by_subscriber_dataframe_top_10"
   ]
  },
  {
   "cell_type": "markdown",
   "metadata": {},
   "source": [
    "## Was hat der Benutzer mit den meisten Fahrten für die Nutzung des Systems bezahlt?"
   ]
  },
  {
   "cell_type": "markdown",
   "metadata": {},
   "source": [
    "Der 'Citybike Wien'-Nutzer welcher das System innerhalb der beiden Jahren am meisten genutzt hat, fuhr insgesamt 1790 Fahrten. Es wäre interessant zu sehen was ihn die Nutzung des Systems über die Zeitdauer der beiden Jahre gekostet hat. \n",
    "\n",
    "Hierfür ist es nötig den Kostenplan von Citybike Wien zu kennen. Dieser ist progressiv eingestellt, das heißt, dass die erste Stunde kostenlos ist. Die zweite Stunde kostet einen Euro, die dritte das doppelte und die vierte Stunde dann vier Euro. Jede weitere Stunde kostet jeweils vier Euro. "
   ]
  },
  {
   "cell_type": "markdown",
   "metadata": {},
   "source": [
    "Wir suchen alle Fahrten für den Power-User heraus"
   ]
  },
  {
   "cell_type": "code",
   "execution_count": 10,
   "metadata": {},
   "outputs": [],
   "source": [
    "df_user_1 = df_total[df_total['Subscriber_ID'] == '0x30EF7C4D0C1211B47ADBA3295EF47C61']"
   ]
  },
  {
   "cell_type": "markdown",
   "metadata": {},
   "source": [
    "Wie oft hat der Nutzer das Limit der einen Stunde überschritten? Insgesamt 98 mal."
   ]
  },
  {
   "cell_type": "code",
   "execution_count": 11,
   "metadata": {
    "scrolled": true
   },
   "outputs": [
    {
     "data": {
      "text/plain": [
       "98"
      ]
     },
     "execution_count": 11,
     "metadata": {},
     "output_type": "execute_result"
    }
   ],
   "source": [
    "df_user_1[df_user_1['Fahrtdauer'] > pd.Timedelta('60 min')].size"
   ]
  },
  {
   "cell_type": "markdown",
   "metadata": {},
   "source": [
    "Gab es Fälle bei denen die Fahrt länger als zwei Stunden dauerte? Nein"
   ]
  },
  {
   "cell_type": "code",
   "execution_count": 12,
   "metadata": {},
   "outputs": [
    {
     "data": {
      "text/plain": [
       "0"
      ]
     },
     "execution_count": 12,
     "metadata": {},
     "output_type": "execute_result"
    }
   ],
   "source": [
    "df_user_1[df_user_1['Fahrtdauer'] > pd.Timedelta('120 min')].size"
   ]
  },
  {
   "cell_type": "markdown",
   "metadata": {},
   "source": [
    "Insgesamt fielen 98 kostenpflichtige Fahrten an welche weniger als zwei Stunden gedauert haben. Somit hat der Anwender insgesamt 98 Euro für die Nutzung des Systems für die Zeitdauer der beiden Jahren bezahlt da jede Fahrt genau einen Euro gekostet hat.\n",
    "\n",
    "Im Schnitt hat der oder die NutzerIn ~ 5,5 Cent für jede Fahrt bezahl.\n"
   ]
  },
  {
   "cell_type": "markdown",
   "metadata": {},
   "source": [
    "## Welchen Umsatz hat das System für das Jahr 2016 bzw. 2017 generiert?"
   ]
  },
  {
   "cell_type": "markdown",
   "metadata": {},
   "source": [
    "Es wäre interessant zu sehen wie viel Umsatz alleine durch die Nutzung des Systems entstanden ist. \n",
    "\n",
    "Der Betreiber von CityBike Wien, die Gewista GmbH wählt ein hybrides Finanzierungsmodell. Das heißt, dass sich das System nicht nur aus den Beiträgen der einzelnen Nutzer finanziert, sondern auch aus Werbungen welche auf den Fahrrädern angezeigt werden. Inwieweit oder ob das System durch die Stadt Wien subventioniert wird ist nicht bekannt. \n",
    "\n",
    "Wir untersuchen nun die Einnahmen welche durch die Nutzergemeinde des Systems entsteht. Dies ist durch die Kenntniss des Kostenmodells und der Länge der einzelnen Fahrten möglich. Die Anmeldegebühr von einem Euro wird nicht mit in die Berechnung einbezogen da aus dem Datenset nicht bekannt ist wann sich der Nutzer das erste Mal registriert hat. Somit könnte es sein, dass die Anmeldegebühr nicht in den Jahren 2016 oder 2017 verrechnet wurde. "
   ]
  },
  {
   "cell_type": "markdown",
   "metadata": {},
   "source": [
    "Um die Gebühr für die Fahrt zu berechnen ist es nötig eine passende Funktion zu definieren:"
   ]
  },
  {
   "cell_type": "code",
   "execution_count": 21,
   "metadata": {},
   "outputs": [],
   "source": [
    "def calculate_fare(fahrtdauer):\n",
    "    if(fahrtdauer < pd.Timedelta('60 min')):        \n",
    "        return int(0)\n",
    "    elif( (fahrtdauer > pd.Timedelta('60 min')) & (fahrtdauer < pd.Timedelta('120 min'))):\n",
    "        return int(1)\n",
    "    elif( (fahrtdauer > pd.Timedelta('120 min')) & (fahrtdauer < pd.Timedelta('180 min'))):\n",
    "        return int(3)\n",
    "    elif( (fahrtdauer > pd.Timedelta('180 min')) & (fahrtdauer < pd.Timedelta('240 min'))):\n",
    "        return int(7)\n",
    "    elif((fahrtdauer > pd.Timedelta('240 min')) & (fahrtdauer < pd.Timedelta('7200 min'))):\n",
    "        return ( int(7) +  ((math.ceil(fahrtdauer.total_seconds() // 3600))-3)*4)\n",
    "    elif(fahrtdauer > pd.Timedelta('7200 min')):\n",
    "        return int(600)"
   ]
  },
  {
   "cell_type": "markdown",
   "metadata": {},
   "source": [
    "Der Fahrtpreis wird für 2016 berechnet"
   ]
  },
  {
   "cell_type": "code",
   "execution_count": 38,
   "metadata": {},
   "outputs": [],
   "source": [
    "df2016['Fahrtpreis'] = df2016['Fahrtdauer'].apply(calculate_fare)\n",
    "df2017['Fahrtpreis'] = df2017['Fahrtdauer'].apply(calculate_fare)\n",
    "df_total_cleansed['Fahrtpreis'] = df_total_cleansed['Fahrtdauer'].apply(calculate_fare)"
   ]
  },
  {
   "cell_type": "markdown",
   "metadata": {},
   "source": [
    "Ersten drei Zeilen als Referenz (kostenpflichtig)"
   ]
  },
  {
   "cell_type": "code",
   "execution_count": 39,
   "metadata": {},
   "outputs": [
    {
     "data": {
      "text/html": [
       "<div>\n",
       "<style scoped>\n",
       "    .dataframe tbody tr th:only-of-type {\n",
       "        vertical-align: middle;\n",
       "    }\n",
       "\n",
       "    .dataframe tbody tr th {\n",
       "        vertical-align: top;\n",
       "    }\n",
       "\n",
       "    .dataframe thead th {\n",
       "        text-align: right;\n",
       "    }\n",
       "</style>\n",
       "<table border=\"1\" class=\"dataframe\">\n",
       "  <thead>\n",
       "    <tr style=\"text-align: right;\">\n",
       "      <th></th>\n",
       "      <th>Startdatum</th>\n",
       "      <th>Enddatum</th>\n",
       "      <th>Anfangsstation_ID</th>\n",
       "      <th>Endstation_ID</th>\n",
       "      <th>Fahrrad_ID</th>\n",
       "      <th>Subscriber_ID</th>\n",
       "      <th>Fahrtdauer</th>\n",
       "      <th>Fahrtpreis</th>\n",
       "    </tr>\n",
       "  </thead>\n",
       "  <tbody>\n",
       "    <tr>\n",
       "      <th>71</th>\n",
       "      <td>2016-01-01 05:03:33</td>\n",
       "      <td>2016-01-01 12:05:51</td>\n",
       "      <td>1046</td>\n",
       "      <td>1085</td>\n",
       "      <td>3302</td>\n",
       "      <td>0xE67FE030A7B68D78E684228397BE7688</td>\n",
       "      <td>07:02:18</td>\n",
       "      <td>23.0</td>\n",
       "    </tr>\n",
       "    <tr>\n",
       "      <th>77</th>\n",
       "      <td>2016-01-01 05:58:09</td>\n",
       "      <td>2016-01-01 13:50:14</td>\n",
       "      <td>1024</td>\n",
       "      <td>1105</td>\n",
       "      <td>2869</td>\n",
       "      <td>0x68574B0A9190005828ABE9C9425E3020</td>\n",
       "      <td>07:52:05</td>\n",
       "      <td>23.0</td>\n",
       "    </tr>\n",
       "    <tr>\n",
       "      <th>106</th>\n",
       "      <td>2016-01-01 11:59:46</td>\n",
       "      <td>2016-01-01 16:52:39</td>\n",
       "      <td>1063</td>\n",
       "      <td>1103</td>\n",
       "      <td>2881</td>\n",
       "      <td>0x99C0CC9FCD2A71F48479149CDBA7AAAF</td>\n",
       "      <td>04:52:53</td>\n",
       "      <td>11.0</td>\n",
       "    </tr>\n",
       "  </tbody>\n",
       "</table>\n",
       "</div>"
      ],
      "text/plain": [
       "             Startdatum            Enddatum  Anfangsstation_ID  Endstation_ID  \\\n",
       "71  2016-01-01 05:03:33 2016-01-01 12:05:51               1046           1085   \n",
       "77  2016-01-01 05:58:09 2016-01-01 13:50:14               1024           1105   \n",
       "106 2016-01-01 11:59:46 2016-01-01 16:52:39               1063           1103   \n",
       "\n",
       "     Fahrrad_ID                       Subscriber_ID Fahrtdauer  Fahrtpreis  \n",
       "71         3302  0xE67FE030A7B68D78E684228397BE7688   07:02:18        23.0  \n",
       "77         2869  0x68574B0A9190005828ABE9C9425E3020   07:52:05        23.0  \n",
       "106        2881  0x99C0CC9FCD2A71F48479149CDBA7AAAF   04:52:53        11.0  "
      ]
     },
     "execution_count": 39,
     "metadata": {},
     "output_type": "execute_result"
    }
   ],
   "source": [
    "df2016[df2016['Fahrtdauer'] > pd.Timedelta('60 min')].head(3)"
   ]
  },
  {
   "cell_type": "markdown",
   "metadata": {},
   "source": [
    "Gesamtsumme für das Jahr 2016:"
   ]
  },
  {
   "cell_type": "code",
   "execution_count": 40,
   "metadata": {},
   "outputs": [
    {
     "data": {
      "text/plain": [
       "200391.0"
      ]
     },
     "execution_count": 40,
     "metadata": {},
     "output_type": "execute_result"
    }
   ],
   "source": [
    "df2016['Fahrtpreis'].sum()"
   ]
  },
  {
   "cell_type": "markdown",
   "metadata": {},
   "source": [
    "Gesamtsumme für das Jahr 2017:"
   ]
  },
  {
   "cell_type": "code",
   "execution_count": 41,
   "metadata": {},
   "outputs": [
    {
     "data": {
      "text/plain": [
       "197716.0"
      ]
     },
     "execution_count": 41,
     "metadata": {},
     "output_type": "execute_result"
    }
   ],
   "source": [
    "df2017['Fahrtpreis'].sum()"
   ]
  },
  {
   "cell_type": "markdown",
   "metadata": {},
   "source": [
    "## Kennzahlen zur Nutzung des Systems"
   ]
  },
  {
   "cell_type": "markdown",
   "metadata": {},
   "source": [
    "### Was ist das Verhältnis zwischen einmaligen Benutzern und regelmäßigen Nutzern (2016+2017)"
   ]
  },
  {
   "cell_type": "code",
   "execution_count": 137,
   "metadata": {},
   "outputs": [],
   "source": [
    "df_total_groups = df_total_cleansed.groupby('Subscriber_ID')"
   ]
  },
  {
   "cell_type": "code",
   "execution_count": 138,
   "metadata": {},
   "outputs": [],
   "source": [
    "aggregated_by_subscriber_series    = df_total_groups['Fahrrad_ID'].agg(np.size)\n",
    "aggregated_by_subscriber_dataframe = aggregated_by_subscriber_series.to_frame('ANZAHL_FAHRTEN')"
   ]
  },
  {
   "cell_type": "code",
   "execution_count": 148,
   "metadata": {},
   "outputs": [],
   "source": [
    "def categorize(number_trips):\n",
    "    if(number_trips == 1):\n",
    "        return 'A'\n",
    "    elif((number_trips > 1) & (number_trips < 11)):\n",
    "        return 'B'\n",
    "    elif((number_trips > 10) & (number_trips < 51)):\n",
    "        return 'C'\n",
    "    elif((number_trips > 50) & (number_trips < 101)):\n",
    "        return 'D'\n",
    "    elif((number_trips > 100) & (number_trips < 2000)):\n",
    "        return 'E'"
   ]
  },
  {
   "cell_type": "code",
   "execution_count": 149,
   "metadata": {},
   "outputs": [],
   "source": [
    "aggregated_by_subscriber_dataframe['Kategorie'] = aggregated_by_subscriber_dataframe['ANZAHL_FAHRTEN'].apply(categorize)"
   ]
  },
  {
   "cell_type": "code",
   "execution_count": 150,
   "metadata": {},
   "outputs": [],
   "source": [
    "aggregated_by_subscriber_dataframe['Kategorie'] = aggregated_by_subscriber_dataframe['Kategorie']"
   ]
  },
  {
   "cell_type": "code",
   "execution_count": 151,
   "metadata": {},
   "outputs": [
    {
     "data": {
      "text/plain": [
       "ANZAHL_FAHRTEN     int64\n",
       "Kategorie         object\n",
       "dtype: object"
      ]
     },
     "execution_count": 151,
     "metadata": {},
     "output_type": "execute_result"
    }
   ],
   "source": [
    "aggregated_by_subscriber_dataframe.dtypes"
   ]
  },
  {
   "cell_type": "code",
   "execution_count": 152,
   "metadata": {},
   "outputs": [],
   "source": [
    "grouped_by_category_dataframe = aggregated_by_subscriber_dataframe.groupby('Kategorie')"
   ]
  },
  {
   "cell_type": "code",
   "execution_count": 153,
   "metadata": {},
   "outputs": [],
   "source": [
    "aggregated_by_category_dataframe = grouped_by_category_dataframe.agg(np.size)"
   ]
  },
  {
   "cell_type": "code",
   "execution_count": 154,
   "metadata": {},
   "outputs": [
    {
     "data": {
      "text/plain": [
       "227959"
      ]
     },
     "execution_count": 154,
     "metadata": {},
     "output_type": "execute_result"
    }
   ],
   "source": [
    "aggregated_by_category_dataframe['ANZAHL_FAHRTEN'].sum()"
   ]
  },
  {
   "cell_type": "code",
   "execution_count": 155,
   "metadata": {},
   "outputs": [
    {
     "data": {
      "text/plain": [
       "227959"
      ]
     },
     "execution_count": 155,
     "metadata": {},
     "output_type": "execute_result"
    }
   ],
   "source": [
    "df_total_cleansed['Subscriber_ID'].nunique()"
   ]
  },
  {
   "cell_type": "code",
   "execution_count": 156,
   "metadata": {},
   "outputs": [
    {
     "data": {
      "text/plain": [
       "<matplotlib.axes._subplots.AxesSubplot at 0x1ba98dc2710>"
      ]
     },
     "execution_count": 156,
     "metadata": {},
     "output_type": "execute_result"
    },
    {
     "data": {
      "image/png": "[encoded data removed]",
      "text/plain": [
       "<matplotlib.figure.Figure at 0x1ba98db7f98>"
      ]
     },
     "metadata": {},
     "output_type": "display_data"
    }
   ],
   "source": [
    "sns.set(style=\"whitegrid\")\n",
    "aggregated_by_category_series = aggregated_by_category_dataframe['ANZAHL_FAHRTEN']\n",
    "aggregated_by_category_series.plot(kind='Bar')"
   ]
  },
  {
   "cell_type": "markdown",
   "metadata": {},
   "source": [
    "Aus dem Graphen ist ersichtlich, dass ein beträchtlicher Anteil der Nutzer One-Time User sind. Der größte Ant In der Arbeit Beschreiben"
   ]
  },
  {
   "cell_type": "markdown",
   "metadata": {},
   "source": [
    "### Statistische Kennzahlen zur Fahrtdauer"
   ]
  },
  {
   "cell_type": "code",
   "execution_count": 158,
   "metadata": {},
   "outputs": [
    {
     "data": {
      "text/plain": [
       "count                   1897764\n",
       "mean     0 days 00:26:06.235559\n",
       "std      0 days 00:48:40.033084\n",
       "min      0 days 00:02:00.103000\n",
       "25%             0 days 00:09:42\n",
       "50%             0 days 00:16:22\n",
       "75%             0 days 00:28:21\n",
       "max             6 days 08:24:51\n",
       "Name: Fahrtdauer, dtype: object"
      ]
     },
     "execution_count": 158,
     "metadata": {},
     "output_type": "execute_result"
    }
   ],
   "source": [
    "df_total_cleansed['Fahrtdauer'].describe()"
   ]
  },
  {
   "cell_type": "markdown",
   "metadata": {},
   "source": [
    "### Statistische Kennzahlen zum Fahrtpreis 2016 bei Fahrten die mehr als 7 Euro gekostet haben"
   ]
  },
  {
   "cell_type": "code",
   "execution_count": 167,
   "metadata": {},
   "outputs": [
    {
     "data": {
      "text/plain": [
       "count    4220.000000\n",
       "mean       18.635308\n",
       "std        28.181630\n",
       "min        11.000000\n",
       "25%        11.000000\n",
       "50%        15.000000\n",
       "75%        19.000000\n",
       "max       600.000000\n",
       "Name: Fahrtpreis, dtype: float64"
      ]
     },
     "execution_count": 167,
     "metadata": {},
     "output_type": "execute_result"
    }
   ],
   "source": [
    "df2016[df2016['Fahrtpreis'] > 7]['Fahrtpreis'].describe()"
   ]
  },
  {
   "cell_type": "markdown",
   "metadata": {},
   "source": [
    "### Sind einmalige Kunden mehr bereit für Fahrten zu zahlen als Ofmalsnutzer?"
   ]
  },
  {
   "cell_type": "code",
   "execution_count": null,
   "metadata": {},
   "outputs": [],
   "source": []
  }
 ],
 "metadata": {
  "kernelspec": {
   "display_name": "Python 3",
   "language": "python",
   "name": "python3"
  },
  "language_info": {
   "codemirror_mode": {
    "name": "ipython",
    "version": 3
   },
   "file_extension": ".py",
   "mimetype": "text/x-python",
   "name": "python",
   "nbconvert_exporter": "python",
   "pygments_lexer": "ipython3",
   "version": "3.6.4"
  }
 },
 "nbformat": 4,
 "nbformat_minor": 2
}
