{
 "cells": [
  {
   "cell_type": "markdown",
   "metadata": {},
   "source": [
    "# CityBike Wien Datensetanalye für die Jahre 2016 und 2017"
   ]
  },
  {
   "cell_type": "markdown",
   "metadata": {},
   "source": [
    "== Inhalt und Struktur dieses Notebooks \n",
    "\n"
   ]
  },
  {
   "cell_type": "markdown",
   "metadata": {},
   "source": [
    "## Datenset importieren bereinigen und transformieren"
   ]
  },
  {
   "cell_type": "markdown",
   "metadata": {},
   "source": [
    "Die Daten werden zuerst eingelesen und nötige Transformationen werden vorgenommen. \n",
    "\n",
    "In erste Linie werden alle Fahrten die unter zwei Minuten dauern und an der gleichen Station enden aus dem Datenset herausgenommen da man davon ausgehen kann, dass der Nutzer das System nicht benutzt hat. "
   ]
  },
  {
   "cell_type": "code",
   "execution_count": 2,
   "metadata": {},
   "outputs": [],
   "source": [
    "%matplotlib inline\n",
    "import pandas as pd\n",
    "import datetime\n",
    "import numpy as np\n",
    "import matplotlib.pyplot as plt\n",
    "import seaborn as sns\n",
    "import warnings\n",
    "import math\n",
    "#Warnungen seitens Jupyter sollen ignoriert werden\n",
    "warnings.filterwarnings('ignore')\n",
    "\n",
    "df2016 = pd.read_csv('CityBikeWien/2016trips.csv', error_bad_lines=False, parse_dates=['Startdatum', 'Enddatum'], delimiter=';')\n",
    "df2017 = pd.read_csv('CityBikeWien/2017trips.csv', error_bad_lines=False, parse_dates=['Startdatum', 'Enddatum'], delimiter=';')"
   ]
  },
  {
   "cell_type": "markdown",
   "metadata": {},
   "source": [
    "Die beiden DataFrames für die Jahre 2016 und 2017 werden zusammengeführt"
   ]
  },
  {
   "cell_type": "code",
   "execution_count": 3,
   "metadata": {},
   "outputs": [],
   "source": [
    "df_total = df2016.append(df2017)"
   ]
  },
  {
   "cell_type": "markdown",
   "metadata": {},
   "source": [
    "Bei dem neuen DataFrame wird der Index neu gesetzt"
   ]
  },
  {
   "cell_type": "code",
   "execution_count": 4,
   "metadata": {},
   "outputs": [],
   "source": [
    "df_total = df_total.reset_index(drop=True)"
   ]
  },
  {
   "cell_type": "markdown",
   "metadata": {},
   "source": [
    "Eine neue Spalte für die Fahrtdauer wird hinzugefügt (Enddatum-Startdatum)"
   ]
  },
  {
   "cell_type": "code",
   "execution_count": 5,
   "metadata": {},
   "outputs": [],
   "source": [
    "df_total['Fahrtdauer'] =  df_total['Enddatum'] - df_total['Startdatum']\n",
    "df2016['Fahrtdauer']   =  df2016['Enddatum']   - df2016['Startdatum']\n",
    "df2017['Fahrtdauer']   =  df2017['Enddatum'] - df2017['Startdatum']"
   ]
  },
  {
   "cell_type": "markdown",
   "metadata": {},
   "source": [
    "Uns interessieren nur Fahrten die länger als zwei Minuten dauern und gleichzeitig nicht an der gleichen Station beendet wurden. Die Bereinigung wird für alle dreit Datasets vorgenommen."
   ]
  },
  {
   "cell_type": "code",
   "execution_count": 6,
   "metadata": {},
   "outputs": [],
   "source": [
    "df_total_cleansed = df_total[ (df_total['Fahrtdauer'] > pd.Timedelta('120 sec')) \n",
    "                            & (df_total['Anfangsstation_ID'] != df_total['Endstation_ID'])]\n",
    "\n",
    "df2016            = df2016[ (df2016['Fahrtdauer'] > pd.Timedelta('120 sec'))\n",
    "                            & (df2016['Anfangsstation_ID'] != df2016['Endstation_ID'])]\n",
    "\n",
    "df2017            = df2017[ (df2017['Fahrtdauer'] > pd.Timedelta('120 sec'))\n",
    "                            & (df2017['Anfangsstation_ID'] != df2017['Endstation_ID'])]"
   ]
  },
  {
   "cell_type": "markdown",
   "metadata": {},
   "source": [
    "Das bereinigte DataFrame enthält insgesamt 1.897.764 Einträge für die Jahre 2016 und 2017 mit folgenden Datentypen"
   ]
  },
  {
   "cell_type": "code",
   "execution_count": 7,
   "metadata": {
    "scrolled": true
   },
   "outputs": [
    {
     "name": "stdout",
     "output_type": "stream",
     "text": [
      "<class 'pandas.core.frame.DataFrame'>\n",
      "Int64Index: 1897764 entries, 1 to 2080071\n",
      "Data columns (total 7 columns):\n",
      "Startdatum           datetime64[ns]\n",
      "Enddatum             datetime64[ns]\n",
      "Anfangsstation_ID    int64\n",
      "Endstation_ID        int64\n",
      "Fahrrad_ID           int64\n",
      "Subscriber_ID        object\n",
      "Fahrtdauer           timedelta64[ns]\n",
      "dtypes: datetime64[ns](2), int64(3), object(1), timedelta64[ns](1)\n",
      "memory usage: 115.8+ MB\n"
     ]
    }
   ],
   "source": [
    "df_total_cleansed.info()"
   ]
  },
  {
   "cell_type": "markdown",
   "metadata": {},
   "source": [
    "Erste Zeile des DataFrames als Referenz"
   ]
  },
  {
   "cell_type": "code",
   "execution_count": 8,
   "metadata": {},
   "outputs": [
    {
     "data": {
      "text/html": [
       "<div>\n",
       "<style scoped>\n",
       "    .dataframe tbody tr th:only-of-type {\n",
       "        vertical-align: middle;\n",
       "    }\n",
       "\n",
       "    .dataframe tbody tr th {\n",
       "        vertical-align: top;\n",
       "    }\n",
       "\n",
       "    .dataframe thead th {\n",
       "        text-align: right;\n",
       "    }\n",
       "</style>\n",
       "<table border=\"1\" class=\"dataframe\">\n",
       "  <thead>\n",
       "    <tr style=\"text-align: right;\">\n",
       "      <th></th>\n",
       "      <th>Startdatum</th>\n",
       "      <th>Enddatum</th>\n",
       "      <th>Anfangsstation_ID</th>\n",
       "      <th>Endstation_ID</th>\n",
       "      <th>Fahrrad_ID</th>\n",
       "      <th>Subscriber_ID</th>\n",
       "      <th>Fahrtdauer</th>\n",
       "    </tr>\n",
       "  </thead>\n",
       "  <tbody>\n",
       "    <tr>\n",
       "      <th>1</th>\n",
       "      <td>2016-01-01 00:13:04</td>\n",
       "      <td>2016-01-01 00:38:05</td>\n",
       "      <td>1026</td>\n",
       "      <td>1100</td>\n",
       "      <td>2539</td>\n",
       "      <td>0x04084286D0CC7FA3973C16F8306802A1</td>\n",
       "      <td>00:25:01</td>\n",
       "    </tr>\n",
       "  </tbody>\n",
       "</table>\n",
       "</div>"
      ],
      "text/plain": [
       "           Startdatum            Enddatum  Anfangsstation_ID  Endstation_ID  \\\n",
       "1 2016-01-01 00:13:04 2016-01-01 00:38:05               1026           1100   \n",
       "\n",
       "   Fahrrad_ID                       Subscriber_ID Fahrtdauer  \n",
       "1        2539  0x04084286D0CC7FA3973C16F8306802A1   00:25:01  "
      ]
     },
     "execution_count": 8,
     "metadata": {},
     "output_type": "execute_result"
    }
   ],
   "source": [
    "df_total_cleansed.head(1)"
   ]
  },
  {
   "cell_type": "markdown",
   "metadata": {},
   "source": [
    "## Finde die ersten 10 Benutzer nach Benutzung für den gesamten Zeitraum (2016+2017)"
   ]
  },
  {
   "cell_type": "markdown",
   "metadata": {},
   "source": [
    "\n",
    "In der folgenden Zelle wird das DataFrame anhand der 'Subscriber_ID' gruppiert. \n",
    "\n",
    "Darauffolgend wird eine Aggregatfunktion (np.size) auf das gruppierte Objekt angewendet um die Anzahl der Fahrten je Subscriber zu erhalten. Somit erhält man ein Series-Objekt welches sortiert werden muss. \n",
    "\n",
    "Um die Handhabung zu erleichtern wird das Series-Objekt zu einem DataFrame mit einer einzigen Spalte transformiert."
   ]
  },
  {
   "cell_type": "code",
   "execution_count": 9,
   "metadata": {},
   "outputs": [],
   "source": [
    "grouped_by_subscriber_groups              = df_total.groupby('Subscriber_ID')\n",
    "aggregated_by_subscriber_series           = grouped_by_subscriber_groups['Fahrrad_ID'].agg(np.size)\n",
    "aggregated_sorted_by_subscriber_series    = aggregated_by_subscriber_series.sort_values(ascending=False)\n",
    "aggregated_by_subscriber_dataframe        = aggregated_sorted_by_subscriber_series.to_frame('ANZAHL_FAHRTEN')"
   ]
  },
  {
   "cell_type": "markdown",
   "metadata": {},
   "source": [
    "Die ersten zehn Subscriber werden extrahiert und zudem wird eine Spalte mit dem Rang hinzugefügt. Danach wird das DataFrame ausgegeben. "
   ]
  },
  {
   "cell_type": "code",
   "execution_count": 10,
   "metadata": {},
   "outputs": [
    {
     "data": {
      "text/html": [
       "<div>\n",
       "<style scoped>\n",
       "    .dataframe tbody tr th:only-of-type {\n",
       "        vertical-align: middle;\n",
       "    }\n",
       "\n",
       "    .dataframe tbody tr th {\n",
       "        vertical-align: top;\n",
       "    }\n",
       "\n",
       "    .dataframe thead th {\n",
       "        text-align: right;\n",
       "    }\n",
       "</style>\n",
       "<table border=\"1\" class=\"dataframe\">\n",
       "  <thead>\n",
       "    <tr style=\"text-align: right;\">\n",
       "      <th></th>\n",
       "      <th>ANZAHL_FAHRTEN</th>\n",
       "      <th>RANG</th>\n",
       "    </tr>\n",
       "    <tr>\n",
       "      <th>Subscriber_ID</th>\n",
       "      <th></th>\n",
       "      <th></th>\n",
       "    </tr>\n",
       "  </thead>\n",
       "  <tbody>\n",
       "    <tr>\n",
       "      <th>0x30EF7C4D0C1211B47ADBA3295EF47C61</th>\n",
       "      <td>1790</td>\n",
       "      <td>1</td>\n",
       "    </tr>\n",
       "    <tr>\n",
       "      <th>0xB9AF912E74C4F6602CF849721E28B621</th>\n",
       "      <td>1400</td>\n",
       "      <td>2</td>\n",
       "    </tr>\n",
       "    <tr>\n",
       "      <th>0xAC44D643FD2F8AE0CCD64B35A269DCC1</th>\n",
       "      <td>1297</td>\n",
       "      <td>3</td>\n",
       "    </tr>\n",
       "    <tr>\n",
       "      <th>0x30F9A85D6ADB8CFA380C4EA7D77C574E</th>\n",
       "      <td>1281</td>\n",
       "      <td>4</td>\n",
       "    </tr>\n",
       "    <tr>\n",
       "      <th>0xCA316F5E99321FD79D33C3CAB1000DA5</th>\n",
       "      <td>1193</td>\n",
       "      <td>5</td>\n",
       "    </tr>\n",
       "    <tr>\n",
       "      <th>0xE88FAEE35C9817B6BD91961D8DD186E0</th>\n",
       "      <td>1028</td>\n",
       "      <td>6</td>\n",
       "    </tr>\n",
       "    <tr>\n",
       "      <th>0x62B4268B5D5AB0FD8B0FDC93D79498DD</th>\n",
       "      <td>1025</td>\n",
       "      <td>7</td>\n",
       "    </tr>\n",
       "    <tr>\n",
       "      <th>0x24384492DBD8ACA63F4C29FC8BC3B36A</th>\n",
       "      <td>1011</td>\n",
       "      <td>8</td>\n",
       "    </tr>\n",
       "    <tr>\n",
       "      <th>0xD372854C5186AB811AEE55325547CC85</th>\n",
       "      <td>1009</td>\n",
       "      <td>9</td>\n",
       "    </tr>\n",
       "    <tr>\n",
       "      <th>0x0156CCFCAAF6097587BCB2B1C711F1FE</th>\n",
       "      <td>980</td>\n",
       "      <td>10</td>\n",
       "    </tr>\n",
       "  </tbody>\n",
       "</table>\n",
       "</div>"
      ],
      "text/plain": [
       "                                    ANZAHL_FAHRTEN  RANG\n",
       "Subscriber_ID                                           \n",
       "0x30EF7C4D0C1211B47ADBA3295EF47C61            1790     1\n",
       "0xB9AF912E74C4F6602CF849721E28B621            1400     2\n",
       "0xAC44D643FD2F8AE0CCD64B35A269DCC1            1297     3\n",
       "0x30F9A85D6ADB8CFA380C4EA7D77C574E            1281     4\n",
       "0xCA316F5E99321FD79D33C3CAB1000DA5            1193     5\n",
       "0xE88FAEE35C9817B6BD91961D8DD186E0            1028     6\n",
       "0x62B4268B5D5AB0FD8B0FDC93D79498DD            1025     7\n",
       "0x24384492DBD8ACA63F4C29FC8BC3B36A            1011     8\n",
       "0xD372854C5186AB811AEE55325547CC85            1009     9\n",
       "0x0156CCFCAAF6097587BCB2B1C711F1FE             980    10"
      ]
     },
     "execution_count": 10,
     "metadata": {},
     "output_type": "execute_result"
    }
   ],
   "source": [
    "aggregated_by_subscriber_dataframe_top_10 = aggregated_by_subscriber_dataframe[:10]\n",
    "aggregated_by_subscriber_dataframe_top_10['RANG'] = np.arange(1,11) \n",
    "aggregated_by_subscriber_dataframe_top_10"
   ]
  },
  {
   "cell_type": "markdown",
   "metadata": {},
   "source": [
    "## Was hat der Benutzer mit den meisten Fahrten für die Nutzung des Systems bezahlt?"
   ]
  },
  {
   "cell_type": "markdown",
   "metadata": {},
   "source": [
    "Der 'Citybike Wien'-Nutzer welcher das System innerhalb der beiden Jahren am meisten genutzt hat, fuhr insgesamt 1790 Fahrten. Es wäre interessant zu sehen was ihn die Nutzung des Systems über die Zeitdauer der beiden Jahre gekostet hat. \n",
    "\n",
    "Hierfür ist es nötig den Kostenplan von Citybike Wien zu kennen. Dieser ist progressiv eingestellt, das heißt, dass die erste Stunde kostenlos ist. Die zweite Stunde kostet einen Euro, die dritte das doppelte und die vierte Stunde dann vier Euro. Jede weitere Stunde kostet jeweils vier Euro. "
   ]
  },
  {
   "cell_type": "markdown",
   "metadata": {},
   "source": [
    "Wir suchen alle Fahrten für den Power-User heraus"
   ]
  },
  {
   "cell_type": "code",
   "execution_count": 11,
   "metadata": {},
   "outputs": [],
   "source": [
    "df_user_1 = df_total[df_total['Subscriber_ID'] == '0x30EF7C4D0C1211B47ADBA3295EF47C61']"
   ]
  },
  {
   "cell_type": "markdown",
   "metadata": {},
   "source": [
    "Wie oft hat der Nutzer das Limit der einen Stunde überschritten? Insgesamt 98 mal."
   ]
  },
  {
   "cell_type": "code",
   "execution_count": 12,
   "metadata": {
    "scrolled": true
   },
   "outputs": [
    {
     "data": {
      "text/plain": [
       "98"
      ]
     },
     "execution_count": 12,
     "metadata": {},
     "output_type": "execute_result"
    }
   ],
   "source": [
    "df_user_1[df_user_1['Fahrtdauer'] > pd.Timedelta('60 min')].size"
   ]
  },
  {
   "cell_type": "markdown",
   "metadata": {},
   "source": [
    "Gab es Fälle bei denen die Fahrt länger als zwei Stunden dauerte? Nein"
   ]
  },
  {
   "cell_type": "code",
   "execution_count": 13,
   "metadata": {},
   "outputs": [
    {
     "data": {
      "text/plain": [
       "0"
      ]
     },
     "execution_count": 13,
     "metadata": {},
     "output_type": "execute_result"
    }
   ],
   "source": [
    "df_user_1[df_user_1['Fahrtdauer'] > pd.Timedelta('120 min')].size"
   ]
  },
  {
   "cell_type": "markdown",
   "metadata": {},
   "source": [
    "Insgesamt fielen 98 kostenpflichtige Fahrten an welche weniger als zwei Stunden gedauert haben. Somit hat der Anwender insgesamt 98 Euro für die Nutzung des Systems für die Zeitdauer der beiden Jahren bezahlt da jede Fahrt genau einen Euro gekostet hat.\n",
    "\n",
    "Im Schnitt hat der oder die NutzerIn ~ 5,5 Cent für jede Fahrt bezahl.\n"
   ]
  },
  {
   "cell_type": "markdown",
   "metadata": {},
   "source": [
    "## Welchen Umsatz hat das System für das Jahr 2016 bzw. 2017 generiert?"
   ]
  },
  {
   "cell_type": "markdown",
   "metadata": {},
   "source": [
    "Es wäre interessant zu sehen wie viel Umsatz alleine durch die Nutzung des Systems entstanden ist. \n",
    "\n",
    "Der Betreiber von CityBike Wien, die Gewista GmbH wählt ein hybrides Finanzierungsmodell. Das heißt, dass sich das System nicht nur aus den Beiträgen der einzelnen Nutzer finanziert, sondern auch aus Werbungen welche auf den Fahrrädern angezeigt werden. Inwieweit oder ob das System durch die Stadt Wien subventioniert wird ist nicht bekannt. \n",
    "\n",
    "Wir untersuchen nun die Einnahmen welche durch die Nutzergemeinde des Systems entsteht. Dies ist durch die Kenntniss des Kostenmodells und der Länge der einzelnen Fahrten möglich. Die Anmeldegebühr von einem Euro wird nicht mit in die Berechnung einbezogen da aus dem Datenset nicht bekannt ist wann sich der Nutzer das erste Mal registriert hat. Somit könnte es sein, dass die Anmeldegebühr nicht in den Jahren 2016 oder 2017 verrechnet wurde. "
   ]
  },
  {
   "cell_type": "markdown",
   "metadata": {},
   "source": [
    "Um die Gebühr für die Fahrt zu berechnen ist es nötig eine passende Funktion zu definieren:"
   ]
  },
  {
   "cell_type": "code",
   "execution_count": 14,
   "metadata": {},
   "outputs": [],
   "source": [
    "def calculate_fare(fahrtdauer):\n",
    "    if(fahrtdauer < pd.Timedelta('60 min')):        \n",
    "        return int(0)\n",
    "    elif( (fahrtdauer > pd.Timedelta('60 min')) & (fahrtdauer < pd.Timedelta('120 min'))):\n",
    "        return int(1)\n",
    "    elif( (fahrtdauer > pd.Timedelta('120 min')) & (fahrtdauer < pd.Timedelta('180 min'))):\n",
    "        return int(3)\n",
    "    elif( (fahrtdauer > pd.Timedelta('180 min')) & (fahrtdauer < pd.Timedelta('240 min'))):\n",
    "        return int(7)\n",
    "    elif((fahrtdauer > pd.Timedelta('240 min')) & (fahrtdauer < pd.Timedelta('7200 min'))):\n",
    "        return ( int(7) +  ((math.ceil(fahrtdauer.total_seconds() // 3600))-3)*4)\n",
    "    elif(fahrtdauer > pd.Timedelta('7200 min')):\n",
    "        return int(600)"
   ]
  },
  {
   "cell_type": "markdown",
   "metadata": {},
   "source": [
    "Der Fahrtpreis wird für 2016 berechnet"
   ]
  },
  {
   "cell_type": "code",
   "execution_count": 15,
   "metadata": {},
   "outputs": [],
   "source": [
    "df2016['Fahrtpreis'] = df2016['Fahrtdauer'].apply(calculate_fare)\n",
    "df2017['Fahrtpreis'] = df2017['Fahrtdauer'].apply(calculate_fare)\n",
    "df_total_cleansed['Fahrtpreis'] = df_total_cleansed['Fahrtdauer'].apply(calculate_fare)"
   ]
  },
  {
   "cell_type": "markdown",
   "metadata": {},
   "source": [
    "Umsatz aus Fahrtpreisen 2016:"
   ]
  },
  {
   "cell_type": "code",
   "execution_count": 97,
   "metadata": {},
   "outputs": [
    {
     "data": {
      "text/plain": [
       "200391.0"
      ]
     },
     "execution_count": 97,
     "metadata": {},
     "output_type": "execute_result"
    }
   ],
   "source": [
    "df2016['Fahrtpreis'].sum()"
   ]
  },
  {
   "cell_type": "markdown",
   "metadata": {},
   "source": [
    "Umsatz aus Fahrtpreisen 2017:"
   ]
  },
  {
   "cell_type": "code",
   "execution_count": 98,
   "metadata": {},
   "outputs": [
    {
     "data": {
      "text/plain": [
       "197716.0"
      ]
     },
     "execution_count": 98,
     "metadata": {},
     "output_type": "execute_result"
    }
   ],
   "source": [
    "df2017['Fahrtpreis'].sum()"
   ]
  },
  {
   "cell_type": "markdown",
   "metadata": {},
   "source": [
    "## Wie viele Fahrräder wurden 2016/2017 entwendet?"
   ]
  },
  {
   "cell_type": "markdown",
   "metadata": {},
   "source": [
    "Auf der Webseite von CityBike Wien wird angegebeben, dass eine Gebühr von 600 Euro verrechnet wird sollte das Fahrrad nicht innerhalb von 120 Stunden (5 Tagen) zurückgegeben werden. Ob aus Gründen von Diebstahl oder Zeitüberschreitung spielt keine Rolle."
   ]
  },
  {
   "cell_type": "code",
   "execution_count": 17,
   "metadata": {
    "scrolled": true
   },
   "outputs": [
    {
     "data": {
      "text/html": [
       "<div>\n",
       "<style scoped>\n",
       "    .dataframe tbody tr th:only-of-type {\n",
       "        vertical-align: middle;\n",
       "    }\n",
       "\n",
       "    .dataframe tbody tr th {\n",
       "        vertical-align: top;\n",
       "    }\n",
       "\n",
       "    .dataframe thead th {\n",
       "        text-align: right;\n",
       "    }\n",
       "</style>\n",
       "<table border=\"1\" class=\"dataframe\">\n",
       "  <thead>\n",
       "    <tr style=\"text-align: right;\">\n",
       "      <th></th>\n",
       "      <th>Startdatum</th>\n",
       "      <th>Enddatum</th>\n",
       "      <th>Anfangsstation_ID</th>\n",
       "      <th>Endstation_ID</th>\n",
       "      <th>Fahrrad_ID</th>\n",
       "      <th>Subscriber_ID</th>\n",
       "      <th>Fahrtdauer</th>\n",
       "      <th>Fahrtpreis</th>\n",
       "    </tr>\n",
       "  </thead>\n",
       "  <tbody>\n",
       "    <tr>\n",
       "      <th>135485</th>\n",
       "      <td>2016-04-04 03:16:37</td>\n",
       "      <td>2016-04-10 11:41:28</td>\n",
       "      <td>1033</td>\n",
       "      <td>11</td>\n",
       "      <td>3392</td>\n",
       "      <td>0x07C6A16845C84A5C763075C0AC4D68D8</td>\n",
       "      <td>6 days 08:24:51</td>\n",
       "      <td>600.0</td>\n",
       "    </tr>\n",
       "    <tr>\n",
       "      <th>135486</th>\n",
       "      <td>2016-04-04 03:20:11</td>\n",
       "      <td>2016-04-10 11:41:28</td>\n",
       "      <td>1033</td>\n",
       "      <td>11</td>\n",
       "      <td>3191</td>\n",
       "      <td>0x07C6A16845C84A5C763075C0AC4D68D8</td>\n",
       "      <td>6 days 08:21:17</td>\n",
       "      <td>600.0</td>\n",
       "    </tr>\n",
       "    <tr>\n",
       "      <th>568650</th>\n",
       "      <td>2016-07-18 01:02:17</td>\n",
       "      <td>2016-07-24 09:20:04</td>\n",
       "      <td>1032</td>\n",
       "      <td>11</td>\n",
       "      <td>1982</td>\n",
       "      <td>0x79FDEEFD920B3B353F3757273D97529B</td>\n",
       "      <td>6 days 08:17:47</td>\n",
       "      <td>600.0</td>\n",
       "    </tr>\n",
       "    <tr>\n",
       "      <th>708929</th>\n",
       "      <td>2016-08-16 15:36:22</td>\n",
       "      <td>2016-08-22 23:51:36</td>\n",
       "      <td>1086</td>\n",
       "      <td>11</td>\n",
       "      <td>1948</td>\n",
       "      <td>0x57C66E447D19E7F0EEC1B89995018D6C</td>\n",
       "      <td>6 days 08:15:14</td>\n",
       "      <td>600.0</td>\n",
       "    </tr>\n",
       "    <tr>\n",
       "      <th>965089</th>\n",
       "      <td>2016-10-21 12:18:58</td>\n",
       "      <td>2016-10-27 20:39:43</td>\n",
       "      <td>1128</td>\n",
       "      <td>11</td>\n",
       "      <td>2190</td>\n",
       "      <td>0xCB802DA7BE64212DA28B2B6602D01B21</td>\n",
       "      <td>6 days 08:20:45</td>\n",
       "      <td>600.0</td>\n",
       "    </tr>\n",
       "  </tbody>\n",
       "</table>\n",
       "</div>"
      ],
      "text/plain": [
       "                Startdatum            Enddatum  Anfangsstation_ID  \\\n",
       "135485 2016-04-04 03:16:37 2016-04-10 11:41:28               1033   \n",
       "135486 2016-04-04 03:20:11 2016-04-10 11:41:28               1033   \n",
       "568650 2016-07-18 01:02:17 2016-07-24 09:20:04               1032   \n",
       "708929 2016-08-16 15:36:22 2016-08-22 23:51:36               1086   \n",
       "965089 2016-10-21 12:18:58 2016-10-27 20:39:43               1128   \n",
       "\n",
       "        Endstation_ID  Fahrrad_ID                       Subscriber_ID  \\\n",
       "135485             11        3392  0x07C6A16845C84A5C763075C0AC4D68D8   \n",
       "135486             11        3191  0x07C6A16845C84A5C763075C0AC4D68D8   \n",
       "568650             11        1982  0x79FDEEFD920B3B353F3757273D97529B   \n",
       "708929             11        1948  0x57C66E447D19E7F0EEC1B89995018D6C   \n",
       "965089             11        2190  0xCB802DA7BE64212DA28B2B6602D01B21   \n",
       "\n",
       "            Fahrtdauer  Fahrtpreis  \n",
       "135485 6 days 08:24:51       600.0  \n",
       "135486 6 days 08:21:17       600.0  \n",
       "568650 6 days 08:17:47       600.0  \n",
       "708929 6 days 08:15:14       600.0  \n",
       "965089 6 days 08:20:45       600.0  "
      ]
     },
     "execution_count": 17,
     "metadata": {},
     "output_type": "execute_result"
    }
   ],
   "source": [
    "df2016[df2016['Fahrtdauer'] > pd.Timedelta('7200 min')]"
   ]
  },
  {
   "cell_type": "markdown",
   "metadata": {},
   "source": [
    "Die Fahrräder mit den IDs: 3392, 3191, 1948, 2190 wurden nach dem Enddatum im System nicht wieder benutzt, somit können wir mit Sicherheit sagen, dass diese entwendet wurden. Das Fahrrad mit der ID: 1982 taucht im System wieder auf. Der Nutzer hat die Frist von 120 Stunden überschritten. In diesem Fall fällt die Pauschale von 600 Euro an.\n",
    "\n",
    "Interessanterweise wurden die Fahrräder mit den IDs 3392 und 3191 von der gleichen Person ausgeliehen und darauffolgends entwendet.\n",
    "\n",
    "Somit wurden im Jahr 2016 vier Fahrräder gestohlen. "
   ]
  },
  {
   "cell_type": "markdown",
   "metadata": {},
   "source": [
    "### Wie sieht die Lage für das darauffolgende Jahr aus?"
   ]
  },
  {
   "cell_type": "code",
   "execution_count": 18,
   "metadata": {},
   "outputs": [
    {
     "data": {
      "text/html": [
       "<div>\n",
       "<style scoped>\n",
       "    .dataframe tbody tr th:only-of-type {\n",
       "        vertical-align: middle;\n",
       "    }\n",
       "\n",
       "    .dataframe tbody tr th {\n",
       "        vertical-align: top;\n",
       "    }\n",
       "\n",
       "    .dataframe thead th {\n",
       "        text-align: right;\n",
       "    }\n",
       "</style>\n",
       "<table border=\"1\" class=\"dataframe\">\n",
       "  <thead>\n",
       "    <tr style=\"text-align: right;\">\n",
       "      <th></th>\n",
       "      <th>Startdatum</th>\n",
       "      <th>Enddatum</th>\n",
       "      <th>Anfangsstation_ID</th>\n",
       "      <th>Endstation_ID</th>\n",
       "      <th>Fahrrad_ID</th>\n",
       "      <th>Subscriber_ID</th>\n",
       "      <th>Fahrtdauer</th>\n",
       "      <th>Fahrtpreis</th>\n",
       "    </tr>\n",
       "  </thead>\n",
       "  <tbody>\n",
       "    <tr>\n",
       "      <th>16034</th>\n",
       "      <td>2017-01-18 20:54:05</td>\n",
       "      <td>2017-01-25 05:14:14</td>\n",
       "      <td>1054</td>\n",
       "      <td>11</td>\n",
       "      <td>2138</td>\n",
       "      <td>0x7DBDD6C7B20622B8AD58D70B9D431BB4</td>\n",
       "      <td>6 days 08:20:09</td>\n",
       "      <td>600.0</td>\n",
       "    </tr>\n",
       "    <tr>\n",
       "      <th>19124</th>\n",
       "      <td>2017-04-05 03:35:45</td>\n",
       "      <td>2017-04-11 11:51:48</td>\n",
       "      <td>1112</td>\n",
       "      <td>11</td>\n",
       "      <td>2408</td>\n",
       "      <td>0xF7521820428B7F25DBA5345EDDA1025C</td>\n",
       "      <td>6 days 08:16:03</td>\n",
       "      <td>600.0</td>\n",
       "    </tr>\n",
       "    <tr>\n",
       "      <th>22298</th>\n",
       "      <td>2017-05-21 01:18:01</td>\n",
       "      <td>2017-05-27 09:34:32</td>\n",
       "      <td>1025</td>\n",
       "      <td>11</td>\n",
       "      <td>2075</td>\n",
       "      <td>0x88F29882B4614746033E13829EBEBD1C</td>\n",
       "      <td>6 days 08:16:31</td>\n",
       "      <td>600.0</td>\n",
       "    </tr>\n",
       "    <tr>\n",
       "      <th>28927</th>\n",
       "      <td>2017-08-27 02:08:03</td>\n",
       "      <td>2017-09-02 10:19:44</td>\n",
       "      <td>1055</td>\n",
       "      <td>11</td>\n",
       "      <td>3157</td>\n",
       "      <td>0xB60B30694F42EA56652BEFEA6A3BD249</td>\n",
       "      <td>6 days 08:11:41</td>\n",
       "      <td>600.0</td>\n",
       "    </tr>\n",
       "    <tr>\n",
       "      <th>29801</th>\n",
       "      <td>2017-09-20 13:42:46</td>\n",
       "      <td>2017-09-26 21:57:17</td>\n",
       "      <td>1145</td>\n",
       "      <td>11</td>\n",
       "      <td>55</td>\n",
       "      <td>0x3F2B5608F8E8A6B9DD556CECFA87E3FC</td>\n",
       "      <td>6 days 08:14:31</td>\n",
       "      <td>600.0</td>\n",
       "    </tr>\n",
       "    <tr>\n",
       "      <th>30038</th>\n",
       "      <td>2017-09-29 11:19:42</td>\n",
       "      <td>2017-10-05 19:33:43</td>\n",
       "      <td>1077</td>\n",
       "      <td>11</td>\n",
       "      <td>2065</td>\n",
       "      <td>0x17779C3C345DE2E12172556CF244EFE3</td>\n",
       "      <td>6 days 08:14:01</td>\n",
       "      <td>600.0</td>\n",
       "    </tr>\n",
       "    <tr>\n",
       "      <th>30047</th>\n",
       "      <td>2017-09-29 14:31:20</td>\n",
       "      <td>2017-10-05 22:49:35</td>\n",
       "      <td>1115</td>\n",
       "      <td>11</td>\n",
       "      <td>2271</td>\n",
       "      <td>0x1E10D94BEEB562ADCC948444A85FE9BF</td>\n",
       "      <td>6 days 08:18:15</td>\n",
       "      <td>600.0</td>\n",
       "    </tr>\n",
       "    <tr>\n",
       "      <th>31389</th>\n",
       "      <td>2017-12-09 02:07:45</td>\n",
       "      <td>2017-12-15 10:29:34</td>\n",
       "      <td>1075</td>\n",
       "      <td>11</td>\n",
       "      <td>2798</td>\n",
       "      <td>0x2F27BFD4FC7D8FEC7E302C5339CC63F5</td>\n",
       "      <td>6 days 08:21:49</td>\n",
       "      <td>600.0</td>\n",
       "    </tr>\n",
       "    <tr>\n",
       "      <th>196136</th>\n",
       "      <td>2017-07-22 02:52:42</td>\n",
       "      <td>2017-07-27 10:57:33</td>\n",
       "      <td>1124</td>\n",
       "      <td>1047</td>\n",
       "      <td>3147</td>\n",
       "      <td>0x0834153F0DFCB7459BD1A51702EFD545</td>\n",
       "      <td>5 days 08:04:51</td>\n",
       "      <td>600.0</td>\n",
       "    </tr>\n",
       "    <tr>\n",
       "      <th>310575</th>\n",
       "      <td>2017-05-05 18:37:44</td>\n",
       "      <td>2017-05-11 18:35:36</td>\n",
       "      <td>1140</td>\n",
       "      <td>1044</td>\n",
       "      <td>3640</td>\n",
       "      <td>0x7A6B8C49112A4CAD9D873101D28EAFE0</td>\n",
       "      <td>5 days 23:57:52</td>\n",
       "      <td>600.0</td>\n",
       "    </tr>\n",
       "  </tbody>\n",
       "</table>\n",
       "</div>"
      ],
      "text/plain": [
       "                Startdatum            Enddatum  Anfangsstation_ID  \\\n",
       "16034  2017-01-18 20:54:05 2017-01-25 05:14:14               1054   \n",
       "19124  2017-04-05 03:35:45 2017-04-11 11:51:48               1112   \n",
       "22298  2017-05-21 01:18:01 2017-05-27 09:34:32               1025   \n",
       "28927  2017-08-27 02:08:03 2017-09-02 10:19:44               1055   \n",
       "29801  2017-09-20 13:42:46 2017-09-26 21:57:17               1145   \n",
       "30038  2017-09-29 11:19:42 2017-10-05 19:33:43               1077   \n",
       "30047  2017-09-29 14:31:20 2017-10-05 22:49:35               1115   \n",
       "31389  2017-12-09 02:07:45 2017-12-15 10:29:34               1075   \n",
       "196136 2017-07-22 02:52:42 2017-07-27 10:57:33               1124   \n",
       "310575 2017-05-05 18:37:44 2017-05-11 18:35:36               1140   \n",
       "\n",
       "        Endstation_ID  Fahrrad_ID                       Subscriber_ID  \\\n",
       "16034              11        2138  0x7DBDD6C7B20622B8AD58D70B9D431BB4   \n",
       "19124              11        2408  0xF7521820428B7F25DBA5345EDDA1025C   \n",
       "22298              11        2075  0x88F29882B4614746033E13829EBEBD1C   \n",
       "28927              11        3157  0xB60B30694F42EA56652BEFEA6A3BD249   \n",
       "29801              11          55  0x3F2B5608F8E8A6B9DD556CECFA87E3FC   \n",
       "30038              11        2065  0x17779C3C345DE2E12172556CF244EFE3   \n",
       "30047              11        2271  0x1E10D94BEEB562ADCC948444A85FE9BF   \n",
       "31389              11        2798  0x2F27BFD4FC7D8FEC7E302C5339CC63F5   \n",
       "196136           1047        3147  0x0834153F0DFCB7459BD1A51702EFD545   \n",
       "310575           1044        3640  0x7A6B8C49112A4CAD9D873101D28EAFE0   \n",
       "\n",
       "            Fahrtdauer  Fahrtpreis  \n",
       "16034  6 days 08:20:09       600.0  \n",
       "19124  6 days 08:16:03       600.0  \n",
       "22298  6 days 08:16:31       600.0  \n",
       "28927  6 days 08:11:41       600.0  \n",
       "29801  6 days 08:14:31       600.0  \n",
       "30038  6 days 08:14:01       600.0  \n",
       "30047  6 days 08:18:15       600.0  \n",
       "31389  6 days 08:21:49       600.0  \n",
       "196136 5 days 08:04:51       600.0  \n",
       "310575 5 days 23:57:52       600.0  "
      ]
     },
     "execution_count": 18,
     "metadata": {},
     "output_type": "execute_result"
    }
   ],
   "source": [
    "df2017[df2017['Fahrtdauer'] > pd.Timedelta('7200 min')]"
   ]
  },
  {
   "cell_type": "markdown",
   "metadata": {},
   "source": [
    "Gesamtsumme für das Jahr 2016:"
   ]
  },
  {
   "cell_type": "markdown",
   "metadata": {},
   "source": [
    "Gesamtsumme für das Jahr 2017:"
   ]
  },
  {
   "cell_type": "code",
   "execution_count": 20,
   "metadata": {
    "scrolled": true
   },
   "outputs": [
    {
     "data": {
      "text/plain": [
       "197716.0"
      ]
     },
     "execution_count": 20,
     "metadata": {},
     "output_type": "execute_result"
    }
   ],
   "source": [
    "df2017['Fahrtpreis'].sum()"
   ]
  },
  {
   "cell_type": "code",
   "execution_count": 21,
   "metadata": {},
   "outputs": [
    {
     "data": {
      "text/html": [
       "<div>\n",
       "<style scoped>\n",
       "    .dataframe tbody tr th:only-of-type {\n",
       "        vertical-align: middle;\n",
       "    }\n",
       "\n",
       "    .dataframe tbody tr th {\n",
       "        vertical-align: top;\n",
       "    }\n",
       "\n",
       "    .dataframe thead th {\n",
       "        text-align: right;\n",
       "    }\n",
       "</style>\n",
       "<table border=\"1\" class=\"dataframe\">\n",
       "  <thead>\n",
       "    <tr style=\"text-align: right;\">\n",
       "      <th></th>\n",
       "      <th>Startdatum</th>\n",
       "      <th>Enddatum</th>\n",
       "      <th>Anfangsstation_ID</th>\n",
       "      <th>Endstation_ID</th>\n",
       "      <th>Fahrrad_ID</th>\n",
       "      <th>Subscriber_ID</th>\n",
       "      <th>Fahrtdauer</th>\n",
       "      <th>Fahrtpreis</th>\n",
       "    </tr>\n",
       "  </thead>\n",
       "  <tbody>\n",
       "    <tr>\n",
       "      <th>109378</th>\n",
       "      <td>2016-03-26 10:25:48</td>\n",
       "      <td>2016-03-26 10:37:48</td>\n",
       "      <td>1143</td>\n",
       "      <td>1116</td>\n",
       "      <td>1982</td>\n",
       "      <td>0x0689FC43A03EAE0077B58707E03BBC62</td>\n",
       "      <td>00:12:00</td>\n",
       "      <td>0.0</td>\n",
       "    </tr>\n",
       "    <tr>\n",
       "      <th>109460</th>\n",
       "      <td>2016-03-26 11:03:20</td>\n",
       "      <td>2016-03-26 11:49:41</td>\n",
       "      <td>1116</td>\n",
       "      <td>1071</td>\n",
       "      <td>1982</td>\n",
       "      <td>0x8F77C1BFC0DB0C45AD4BABF33E71ACF9</td>\n",
       "      <td>00:46:21</td>\n",
       "      <td>0.0</td>\n",
       "    </tr>\n",
       "    <tr>\n",
       "      <th>110253</th>\n",
       "      <td>2016-03-26 16:53:01</td>\n",
       "      <td>2016-03-26 17:56:20</td>\n",
       "      <td>1071</td>\n",
       "      <td>1143</td>\n",
       "      <td>1982</td>\n",
       "      <td>0xB35719BFB4453A4E5B0E5F8CF262652A</td>\n",
       "      <td>01:03:19</td>\n",
       "      <td>1.0</td>\n",
       "    </tr>\n",
       "    <tr>\n",
       "      <th>111181</th>\n",
       "      <td>2016-03-27 11:22:29</td>\n",
       "      <td>2016-03-27 11:40:54</td>\n",
       "      <td>1143</td>\n",
       "      <td>1109</td>\n",
       "      <td>1982</td>\n",
       "      <td>0xC4240D2D6B7D672170B09FE05F598511</td>\n",
       "      <td>00:18:25</td>\n",
       "      <td>0.0</td>\n",
       "    </tr>\n",
       "    <tr>\n",
       "      <th>111546</th>\n",
       "      <td>2016-03-27 13:18:51</td>\n",
       "      <td>2016-03-27 13:34:28</td>\n",
       "      <td>1109</td>\n",
       "      <td>1028</td>\n",
       "      <td>1982</td>\n",
       "      <td>0x42F5C019ADFBAEC5C909837A00B7DF50</td>\n",
       "      <td>00:15:37</td>\n",
       "      <td>0.0</td>\n",
       "    </tr>\n",
       "    <tr>\n",
       "      <th>111664</th>\n",
       "      <td>2016-03-27 13:55:04</td>\n",
       "      <td>2016-03-27 14:53:59</td>\n",
       "      <td>1028</td>\n",
       "      <td>1074</td>\n",
       "      <td>1982</td>\n",
       "      <td>0x59E50CD91921A338AE8F1F296C859D9F</td>\n",
       "      <td>00:58:55</td>\n",
       "      <td>0.0</td>\n",
       "    </tr>\n",
       "    <tr>\n",
       "      <th>112565</th>\n",
       "      <td>2016-03-27 16:59:35</td>\n",
       "      <td>2016-03-27 17:48:47</td>\n",
       "      <td>1074</td>\n",
       "      <td>1053</td>\n",
       "      <td>1982</td>\n",
       "      <td>0x4D16E310E8843F500FB15EC6D69464BC</td>\n",
       "      <td>00:49:12</td>\n",
       "      <td>0.0</td>\n",
       "    </tr>\n",
       "    <tr>\n",
       "      <th>113409</th>\n",
       "      <td>2016-03-27 22:42:45</td>\n",
       "      <td>2016-03-27 22:54:02</td>\n",
       "      <td>1053</td>\n",
       "      <td>1024</td>\n",
       "      <td>1982</td>\n",
       "      <td>0xF8E884A68975D1B60D54D692E7CE27D0</td>\n",
       "      <td>00:11:17</td>\n",
       "      <td>0.0</td>\n",
       "    </tr>\n",
       "    <tr>\n",
       "      <th>113817</th>\n",
       "      <td>2016-03-28 11:21:21</td>\n",
       "      <td>2016-03-28 12:03:18</td>\n",
       "      <td>1024</td>\n",
       "      <td>1074</td>\n",
       "      <td>1982</td>\n",
       "      <td>0xD824001FAC45C4B5A23B7BA9DD180FB5</td>\n",
       "      <td>00:41:57</td>\n",
       "      <td>0.0</td>\n",
       "    </tr>\n",
       "    <tr>\n",
       "      <th>114524</th>\n",
       "      <td>2016-03-28 14:22:55</td>\n",
       "      <td>2016-03-28 15:50:50</td>\n",
       "      <td>1074</td>\n",
       "      <td>1030</td>\n",
       "      <td>1982</td>\n",
       "      <td>0xC0810978F87BF244A24EAB33B5C545C5</td>\n",
       "      <td>01:27:55</td>\n",
       "      <td>1.0</td>\n",
       "    </tr>\n",
       "    <tr>\n",
       "      <th>125087</th>\n",
       "      <td>2016-03-31 19:20:54</td>\n",
       "      <td>2016-03-31 19:29:18</td>\n",
       "      <td>1031</td>\n",
       "      <td>1118</td>\n",
       "      <td>1982</td>\n",
       "      <td>0x865D1F739B7F09701C06CD12405DB93F</td>\n",
       "      <td>00:08:24</td>\n",
       "      <td>0.0</td>\n",
       "    </tr>\n",
       "    <tr>\n",
       "      <th>125511</th>\n",
       "      <td>2016-03-31 21:13:08</td>\n",
       "      <td>2016-03-31 21:18:11</td>\n",
       "      <td>1118</td>\n",
       "      <td>1128</td>\n",
       "      <td>1982</td>\n",
       "      <td>0xAF8C495DD44F2EBE13DECB7A4B5BB42B</td>\n",
       "      <td>00:05:03</td>\n",
       "      <td>0.0</td>\n",
       "    </tr>\n",
       "    <tr>\n",
       "      <th>125609</th>\n",
       "      <td>2016-03-31 21:45:14</td>\n",
       "      <td>2016-03-31 22:01:55</td>\n",
       "      <td>1128</td>\n",
       "      <td>1086</td>\n",
       "      <td>1982</td>\n",
       "      <td>0xF86655CDAE7B7C24003B58BCEC47BA13</td>\n",
       "      <td>00:16:41</td>\n",
       "      <td>0.0</td>\n",
       "    </tr>\n",
       "    <tr>\n",
       "      <th>126363</th>\n",
       "      <td>2016-04-01 14:41:04</td>\n",
       "      <td>2016-04-01 14:49:15</td>\n",
       "      <td>1086</td>\n",
       "      <td>1080</td>\n",
       "      <td>1982</td>\n",
       "      <td>0xBA8904C15E285BA26F22DF71CFAFC752</td>\n",
       "      <td>00:08:11</td>\n",
       "      <td>0.0</td>\n",
       "    </tr>\n",
       "    <tr>\n",
       "      <th>127902</th>\n",
       "      <td>2016-04-02 10:42:42</td>\n",
       "      <td>2016-04-02 11:05:18</td>\n",
       "      <td>1080</td>\n",
       "      <td>1119</td>\n",
       "      <td>1982</td>\n",
       "      <td>0xA0B524026C54151CB27D8ACBD636D5EB</td>\n",
       "      <td>00:22:36</td>\n",
       "      <td>0.0</td>\n",
       "    </tr>\n",
       "    <tr>\n",
       "      <th>132007</th>\n",
       "      <td>2016-04-03 13:03:03</td>\n",
       "      <td>2016-04-03 13:10:46</td>\n",
       "      <td>1119</td>\n",
       "      <td>1046</td>\n",
       "      <td>1982</td>\n",
       "      <td>0xB89A2469333122893E8084E98304901E</td>\n",
       "      <td>00:07:43</td>\n",
       "      <td>0.0</td>\n",
       "    </tr>\n",
       "    <tr>\n",
       "      <th>136310</th>\n",
       "      <td>2016-04-04 12:12:03</td>\n",
       "      <td>2016-04-04 13:55:44</td>\n",
       "      <td>1046</td>\n",
       "      <td>1077</td>\n",
       "      <td>1982</td>\n",
       "      <td>0xFB10F11B5845579609970F2B0D647E0A</td>\n",
       "      <td>01:43:41</td>\n",
       "      <td>1.0</td>\n",
       "    </tr>\n",
       "    <tr>\n",
       "      <th>138896</th>\n",
       "      <td>2016-04-04 19:47:01</td>\n",
       "      <td>2016-04-04 19:59:52</td>\n",
       "      <td>1077</td>\n",
       "      <td>1051</td>\n",
       "      <td>1982</td>\n",
       "      <td>0xA5E9252080FDFEADF20A7A95FD04E159</td>\n",
       "      <td>00:12:51</td>\n",
       "      <td>0.0</td>\n",
       "    </tr>\n",
       "    <tr>\n",
       "      <th>139668</th>\n",
       "      <td>2016-04-05 00:36:05</td>\n",
       "      <td>2016-04-05 00:47:48</td>\n",
       "      <td>1051</td>\n",
       "      <td>1020</td>\n",
       "      <td>1982</td>\n",
       "      <td>0x094849C45626DA5FF3F6B3A519FC28A5</td>\n",
       "      <td>00:11:43</td>\n",
       "      <td>0.0</td>\n",
       "    </tr>\n",
       "    <tr>\n",
       "      <th>140337</th>\n",
       "      <td>2016-04-05 10:10:02</td>\n",
       "      <td>2016-04-05 13:02:27</td>\n",
       "      <td>1020</td>\n",
       "      <td>1077</td>\n",
       "      <td>1982</td>\n",
       "      <td>0x6847AC566E3173C261C616674EC243C5</td>\n",
       "      <td>02:52:25</td>\n",
       "      <td>3.0</td>\n",
       "    </tr>\n",
       "    <tr>\n",
       "      <th>141008</th>\n",
       "      <td>2016-04-05 13:06:01</td>\n",
       "      <td>2016-04-05 13:28:19</td>\n",
       "      <td>1077</td>\n",
       "      <td>1067</td>\n",
       "      <td>1982</td>\n",
       "      <td>0x1D37039555162F6DE518413DA34FB6F4</td>\n",
       "      <td>00:22:18</td>\n",
       "      <td>0.0</td>\n",
       "    </tr>\n",
       "    <tr>\n",
       "      <th>141170</th>\n",
       "      <td>2016-04-05 13:39:51</td>\n",
       "      <td>2016-04-05 14:17:04</td>\n",
       "      <td>1067</td>\n",
       "      <td>1109</td>\n",
       "      <td>1982</td>\n",
       "      <td>0x4D02BFD4F725FC7EA3AAAE7C00AB50F6</td>\n",
       "      <td>00:37:13</td>\n",
       "      <td>0.0</td>\n",
       "    </tr>\n",
       "    <tr>\n",
       "      <th>141438</th>\n",
       "      <td>2016-04-05 14:31:27</td>\n",
       "      <td>2016-04-05 14:44:18</td>\n",
       "      <td>1109</td>\n",
       "      <td>1134</td>\n",
       "      <td>1982</td>\n",
       "      <td>0xB817E71F48F3F81EB8123C06D145192D</td>\n",
       "      <td>00:12:51</td>\n",
       "      <td>0.0</td>\n",
       "    </tr>\n",
       "    <tr>\n",
       "      <th>141587</th>\n",
       "      <td>2016-04-05 14:57:04</td>\n",
       "      <td>2016-04-05 15:11:51</td>\n",
       "      <td>1134</td>\n",
       "      <td>1029</td>\n",
       "      <td>1982</td>\n",
       "      <td>0x2583AFF5DC69CB613593B47A776BCD15</td>\n",
       "      <td>00:14:47</td>\n",
       "      <td>0.0</td>\n",
       "    </tr>\n",
       "    <tr>\n",
       "      <th>142423</th>\n",
       "      <td>2016-04-05 16:56:11</td>\n",
       "      <td>2016-04-05 17:05:28</td>\n",
       "      <td>1029</td>\n",
       "      <td>1105</td>\n",
       "      <td>1982</td>\n",
       "      <td>0xF717E42D2CA711FF4C33D18340F661DD</td>\n",
       "      <td>00:09:17</td>\n",
       "      <td>0.0</td>\n",
       "    </tr>\n",
       "    <tr>\n",
       "      <th>143401</th>\n",
       "      <td>2016-04-05 18:52:06</td>\n",
       "      <td>2016-04-05 19:03:50</td>\n",
       "      <td>1105</td>\n",
       "      <td>1066</td>\n",
       "      <td>1982</td>\n",
       "      <td>0x8EF59B684ED807613F4E9DB5FA747256</td>\n",
       "      <td>00:11:44</td>\n",
       "      <td>0.0</td>\n",
       "    </tr>\n",
       "    <tr>\n",
       "      <th>145156</th>\n",
       "      <td>2016-04-06 09:08:41</td>\n",
       "      <td>2016-04-06 09:25:17</td>\n",
       "      <td>1066</td>\n",
       "      <td>1032</td>\n",
       "      <td>1982</td>\n",
       "      <td>0x4F3417E328B104B237ABBA8AD3B7320A</td>\n",
       "      <td>00:16:36</td>\n",
       "      <td>0.0</td>\n",
       "    </tr>\n",
       "    <tr>\n",
       "      <th>146792</th>\n",
       "      <td>2016-04-06 16:20:40</td>\n",
       "      <td>2016-04-06 19:17:52</td>\n",
       "      <td>1032</td>\n",
       "      <td>1033</td>\n",
       "      <td>1982</td>\n",
       "      <td>0x4AAA43EA82FD98C0F771858F18BB146E</td>\n",
       "      <td>02:57:12</td>\n",
       "      <td>3.0</td>\n",
       "    </tr>\n",
       "    <tr>\n",
       "      <th>149615</th>\n",
       "      <td>2016-04-07 11:30:01</td>\n",
       "      <td>2016-04-07 12:10:55</td>\n",
       "      <td>1033</td>\n",
       "      <td>1105</td>\n",
       "      <td>1982</td>\n",
       "      <td>0x52E60F21556FF9D2180F6586B7DB10FF</td>\n",
       "      <td>00:40:54</td>\n",
       "      <td>0.0</td>\n",
       "    </tr>\n",
       "    <tr>\n",
       "      <th>149997</th>\n",
       "      <td>2016-04-07 13:22:37</td>\n",
       "      <td>2016-04-07 13:33:40</td>\n",
       "      <td>1105</td>\n",
       "      <td>1023</td>\n",
       "      <td>1982</td>\n",
       "      <td>0xF8B36B76D28D14084F2F364827FFF1D2</td>\n",
       "      <td>00:11:03</td>\n",
       "      <td>0.0</td>\n",
       "    </tr>\n",
       "    <tr>\n",
       "      <th>...</th>\n",
       "      <td>...</td>\n",
       "      <td>...</td>\n",
       "      <td>...</td>\n",
       "      <td>...</td>\n",
       "      <td>...</td>\n",
       "      <td>...</td>\n",
       "      <td>...</td>\n",
       "      <td>...</td>\n",
       "    </tr>\n",
       "    <tr>\n",
       "      <th>1028622</th>\n",
       "      <td>2016-11-24 19:52:51</td>\n",
       "      <td>2016-11-24 20:00:58</td>\n",
       "      <td>1138</td>\n",
       "      <td>1069</td>\n",
       "      <td>1982</td>\n",
       "      <td>0x5383BBF2B69421DB3DB2E15DC96871E5</td>\n",
       "      <td>00:08:07</td>\n",
       "      <td>0.0</td>\n",
       "    </tr>\n",
       "    <tr>\n",
       "      <th>1029066</th>\n",
       "      <td>2016-11-25 08:48:55</td>\n",
       "      <td>2016-11-25 08:54:24</td>\n",
       "      <td>1069</td>\n",
       "      <td>1138</td>\n",
       "      <td>1982</td>\n",
       "      <td>0x904432DF6AE7A6218E11D39C586FA373</td>\n",
       "      <td>00:05:29</td>\n",
       "      <td>0.0</td>\n",
       "    </tr>\n",
       "    <tr>\n",
       "      <th>1031631</th>\n",
       "      <td>2016-11-26 18:22:40</td>\n",
       "      <td>2016-11-26 18:30:38</td>\n",
       "      <td>1138</td>\n",
       "      <td>1086</td>\n",
       "      <td>1982</td>\n",
       "      <td>0x5A40813601493528453415638DCB12CF</td>\n",
       "      <td>00:07:58</td>\n",
       "      <td>0.0</td>\n",
       "    </tr>\n",
       "    <tr>\n",
       "      <th>1031698</th>\n",
       "      <td>2016-11-26 19:07:56</td>\n",
       "      <td>2016-11-26 19:17:32</td>\n",
       "      <td>1086</td>\n",
       "      <td>1029</td>\n",
       "      <td>1982</td>\n",
       "      <td>0x34C418411AB7EFF022B5B26E6067F69D</td>\n",
       "      <td>00:09:36</td>\n",
       "      <td>0.0</td>\n",
       "    </tr>\n",
       "    <tr>\n",
       "      <th>1032394</th>\n",
       "      <td>2016-11-27 09:14:15</td>\n",
       "      <td>2016-11-27 09:49:44</td>\n",
       "      <td>1029</td>\n",
       "      <td>1074</td>\n",
       "      <td>1982</td>\n",
       "      <td>0xBB689C50FC10B2D8D1B86167E4FF1A91</td>\n",
       "      <td>00:35:29</td>\n",
       "      <td>0.0</td>\n",
       "    </tr>\n",
       "    <tr>\n",
       "      <th>1032754</th>\n",
       "      <td>2016-11-27 12:54:08</td>\n",
       "      <td>2016-11-27 12:59:25</td>\n",
       "      <td>1074</td>\n",
       "      <td>1071</td>\n",
       "      <td>1982</td>\n",
       "      <td>0xAED5F3719528B27872DB934D7280E0A4</td>\n",
       "      <td>00:05:17</td>\n",
       "      <td>0.0</td>\n",
       "    </tr>\n",
       "    <tr>\n",
       "      <th>1033685</th>\n",
       "      <td>2016-11-28 09:15:04</td>\n",
       "      <td>2016-11-28 09:26:12</td>\n",
       "      <td>1071</td>\n",
       "      <td>1032</td>\n",
       "      <td>1982</td>\n",
       "      <td>0x83AC1CB100C19369990349D3CDF75201</td>\n",
       "      <td>00:11:08</td>\n",
       "      <td>0.0</td>\n",
       "    </tr>\n",
       "    <tr>\n",
       "      <th>1033800</th>\n",
       "      <td>2016-11-28 10:33:03</td>\n",
       "      <td>2016-11-28 11:11:28</td>\n",
       "      <td>1032</td>\n",
       "      <td>1144</td>\n",
       "      <td>1982</td>\n",
       "      <td>0xA3FBCD0182D8CAEBD621AA7F57FCF7BF</td>\n",
       "      <td>00:38:25</td>\n",
       "      <td>0.0</td>\n",
       "    </tr>\n",
       "    <tr>\n",
       "      <th>1034499</th>\n",
       "      <td>2016-11-28 18:27:24</td>\n",
       "      <td>2016-11-28 18:49:41</td>\n",
       "      <td>1144</td>\n",
       "      <td>1057</td>\n",
       "      <td>1982</td>\n",
       "      <td>0x5270CF3C58F5E889C450FA9B7C918C30</td>\n",
       "      <td>00:22:17</td>\n",
       "      <td>0.0</td>\n",
       "    </tr>\n",
       "    <tr>\n",
       "      <th>1034883</th>\n",
       "      <td>2016-11-29 07:44:03</td>\n",
       "      <td>2016-11-29 08:09:15</td>\n",
       "      <td>1057</td>\n",
       "      <td>1068</td>\n",
       "      <td>1982</td>\n",
       "      <td>0x82BE405D324C1A6010E5357554FCD4C8</td>\n",
       "      <td>00:25:12</td>\n",
       "      <td>0.0</td>\n",
       "    </tr>\n",
       "    <tr>\n",
       "      <th>1035031</th>\n",
       "      <td>2016-11-29 09:39:48</td>\n",
       "      <td>2016-11-29 09:52:32</td>\n",
       "      <td>1068</td>\n",
       "      <td>1123</td>\n",
       "      <td>1982</td>\n",
       "      <td>0x528E3CDB01D572556100A2E866A0AFA9</td>\n",
       "      <td>00:12:44</td>\n",
       "      <td>0.0</td>\n",
       "    </tr>\n",
       "    <tr>\n",
       "      <th>1036319</th>\n",
       "      <td>2016-11-30 08:56:52</td>\n",
       "      <td>2016-11-30 09:02:25</td>\n",
       "      <td>1123</td>\n",
       "      <td>1029</td>\n",
       "      <td>1982</td>\n",
       "      <td>0x3D6D5C74B9C750E45ADFC029E1042E68</td>\n",
       "      <td>00:05:33</td>\n",
       "      <td>0.0</td>\n",
       "    </tr>\n",
       "    <tr>\n",
       "      <th>1036469</th>\n",
       "      <td>2016-11-30 10:42:27</td>\n",
       "      <td>2016-11-30 10:51:32</td>\n",
       "      <td>1029</td>\n",
       "      <td>1061</td>\n",
       "      <td>1982</td>\n",
       "      <td>0x64D9F6E9A6B9627CF424AAFF9ECEA5D0</td>\n",
       "      <td>00:09:05</td>\n",
       "      <td>0.0</td>\n",
       "    </tr>\n",
       "    <tr>\n",
       "      <th>1037289</th>\n",
       "      <td>2016-11-30 22:03:41</td>\n",
       "      <td>2016-11-30 22:13:41</td>\n",
       "      <td>1061</td>\n",
       "      <td>1090</td>\n",
       "      <td>1982</td>\n",
       "      <td>0xAC1324E0E71CA990CC620475477B4BB1</td>\n",
       "      <td>00:10:00</td>\n",
       "      <td>0.0</td>\n",
       "    </tr>\n",
       "    <tr>\n",
       "      <th>1038336</th>\n",
       "      <td>2016-12-02 00:30:13</td>\n",
       "      <td>2016-12-02 00:54:44</td>\n",
       "      <td>1090</td>\n",
       "      <td>1062</td>\n",
       "      <td>1982</td>\n",
       "      <td>0xE69AB9C38EF69EA282310F7DA7F9DC9C</td>\n",
       "      <td>00:24:31</td>\n",
       "      <td>0.0</td>\n",
       "    </tr>\n",
       "    <tr>\n",
       "      <th>1039529</th>\n",
       "      <td>2016-12-03 02:10:59</td>\n",
       "      <td>2016-12-03 02:16:33</td>\n",
       "      <td>1062</td>\n",
       "      <td>1060</td>\n",
       "      <td>1982</td>\n",
       "      <td>0xF0E8D5F88CE447301DE63DB823C55A68</td>\n",
       "      <td>00:05:34</td>\n",
       "      <td>0.0</td>\n",
       "    </tr>\n",
       "    <tr>\n",
       "      <th>1039669</th>\n",
       "      <td>2016-12-03 08:53:42</td>\n",
       "      <td>2016-12-03 09:05:12</td>\n",
       "      <td>1060</td>\n",
       "      <td>1032</td>\n",
       "      <td>1982</td>\n",
       "      <td>0x944802D74DEDB50E438D8C74B8CE5AEA</td>\n",
       "      <td>00:11:30</td>\n",
       "      <td>0.0</td>\n",
       "    </tr>\n",
       "    <tr>\n",
       "      <th>1040706</th>\n",
       "      <td>2016-12-04 01:56:25</td>\n",
       "      <td>2016-12-04 02:10:14</td>\n",
       "      <td>1032</td>\n",
       "      <td>1053</td>\n",
       "      <td>1982</td>\n",
       "      <td>0xB81A8A8EAE87009703433CFA5A63D7A5</td>\n",
       "      <td>00:13:49</td>\n",
       "      <td>0.0</td>\n",
       "    </tr>\n",
       "    <tr>\n",
       "      <th>1040908</th>\n",
       "      <td>2016-12-04 11:11:18</td>\n",
       "      <td>2016-12-04 11:17:31</td>\n",
       "      <td>1053</td>\n",
       "      <td>1086</td>\n",
       "      <td>1982</td>\n",
       "      <td>0x07C2C2818BFEC84B14D180AAA177CE7F</td>\n",
       "      <td>00:06:13</td>\n",
       "      <td>0.0</td>\n",
       "    </tr>\n",
       "    <tr>\n",
       "      <th>1041549</th>\n",
       "      <td>2016-12-05 00:30:19</td>\n",
       "      <td>2016-12-05 00:47:41</td>\n",
       "      <td>1086</td>\n",
       "      <td>1025</td>\n",
       "      <td>1982</td>\n",
       "      <td>0x73DEDD82796A52CC4391564DFC8DB58A</td>\n",
       "      <td>00:17:22</td>\n",
       "      <td>0.0</td>\n",
       "    </tr>\n",
       "    <tr>\n",
       "      <th>1041816</th>\n",
       "      <td>2016-12-05 10:21:31</td>\n",
       "      <td>2016-12-05 10:37:29</td>\n",
       "      <td>1025</td>\n",
       "      <td>1032</td>\n",
       "      <td>1982</td>\n",
       "      <td>0xCC9169CC3E553FEA2EF6234897A55F45</td>\n",
       "      <td>00:15:58</td>\n",
       "      <td>0.0</td>\n",
       "    </tr>\n",
       "    <tr>\n",
       "      <th>1041841</th>\n",
       "      <td>2016-12-05 10:47:11</td>\n",
       "      <td>2016-12-05 11:26:41</td>\n",
       "      <td>1032</td>\n",
       "      <td>1134</td>\n",
       "      <td>1982</td>\n",
       "      <td>0xC37A326E10E7F7CA74D43DEF4DE2B12C</td>\n",
       "      <td>00:39:30</td>\n",
       "      <td>0.0</td>\n",
       "    </tr>\n",
       "    <tr>\n",
       "      <th>1042700</th>\n",
       "      <td>2016-12-06 01:47:57</td>\n",
       "      <td>2016-12-06 02:09:14</td>\n",
       "      <td>1134</td>\n",
       "      <td>1068</td>\n",
       "      <td>1982</td>\n",
       "      <td>0x096E2503624AEB9037AC5602C72B79A4</td>\n",
       "      <td>00:21:17</td>\n",
       "      <td>0.0</td>\n",
       "    </tr>\n",
       "    <tr>\n",
       "      <th>1043255</th>\n",
       "      <td>2016-12-06 15:04:51</td>\n",
       "      <td>2016-12-06 15:30:08</td>\n",
       "      <td>1068</td>\n",
       "      <td>1065</td>\n",
       "      <td>1982</td>\n",
       "      <td>0xEB8116C9731C649F3006FF18ACF2ADD3</td>\n",
       "      <td>00:25:17</td>\n",
       "      <td>0.0</td>\n",
       "    </tr>\n",
       "    <tr>\n",
       "      <th>1044171</th>\n",
       "      <td>2016-12-07 10:23:07</td>\n",
       "      <td>2016-12-07 11:14:49</td>\n",
       "      <td>1065</td>\n",
       "      <td>1121</td>\n",
       "      <td>1982</td>\n",
       "      <td>0x721387B70173A1E4DF3C8E6AD8BE7832</td>\n",
       "      <td>00:51:42</td>\n",
       "      <td>0.0</td>\n",
       "    </tr>\n",
       "    <tr>\n",
       "      <th>1044272</th>\n",
       "      <td>2016-12-07 11:47:40</td>\n",
       "      <td>2016-12-07 12:30:14</td>\n",
       "      <td>1121</td>\n",
       "      <td>1065</td>\n",
       "      <td>1982</td>\n",
       "      <td>0x721387B70173A1E4DF3C8E6AD8BE7832</td>\n",
       "      <td>00:42:34</td>\n",
       "      <td>0.0</td>\n",
       "    </tr>\n",
       "    <tr>\n",
       "      <th>1047693</th>\n",
       "      <td>2016-12-10 09:02:02</td>\n",
       "      <td>2016-12-10 09:16:32</td>\n",
       "      <td>1065</td>\n",
       "      <td>1055</td>\n",
       "      <td>1982</td>\n",
       "      <td>0xD21B9912CF7BF85A56BA1366E2A15D55</td>\n",
       "      <td>00:14:30</td>\n",
       "      <td>0.0</td>\n",
       "    </tr>\n",
       "    <tr>\n",
       "      <th>1049053</th>\n",
       "      <td>2016-12-11 00:07:52</td>\n",
       "      <td>2016-12-11 00:21:45</td>\n",
       "      <td>1055</td>\n",
       "      <td>1100</td>\n",
       "      <td>1982</td>\n",
       "      <td>0xF9B0BDAAA5A874F8C8A8190A629390BB</td>\n",
       "      <td>00:13:53</td>\n",
       "      <td>0.0</td>\n",
       "    </tr>\n",
       "    <tr>\n",
       "      <th>1063631</th>\n",
       "      <td>2016-12-28 01:33:32</td>\n",
       "      <td>2016-12-28 01:39:54</td>\n",
       "      <td>1100</td>\n",
       "      <td>1146</td>\n",
       "      <td>1982</td>\n",
       "      <td>0x1C3FB737E486C40B68F0363FF8DD31AB</td>\n",
       "      <td>00:06:22</td>\n",
       "      <td>0.0</td>\n",
       "    </tr>\n",
       "    <tr>\n",
       "      <th>1063706</th>\n",
       "      <td>2016-12-28 09:27:28</td>\n",
       "      <td>2016-12-28 09:55:21</td>\n",
       "      <td>1146</td>\n",
       "      <td>1033</td>\n",
       "      <td>1982</td>\n",
       "      <td>0x069D121179BFDF42D3B8DD2ED04790C9</td>\n",
       "      <td>00:27:53</td>\n",
       "      <td>0.0</td>\n",
       "    </tr>\n",
       "  </tbody>\n",
       "</table>\n",
       "<p>721 rows × 8 columns</p>\n",
       "</div>"
      ],
      "text/plain": [
       "                 Startdatum            Enddatum  Anfangsstation_ID  \\\n",
       "109378  2016-03-26 10:25:48 2016-03-26 10:37:48               1143   \n",
       "109460  2016-03-26 11:03:20 2016-03-26 11:49:41               1116   \n",
       "110253  2016-03-26 16:53:01 2016-03-26 17:56:20               1071   \n",
       "111181  2016-03-27 11:22:29 2016-03-27 11:40:54               1143   \n",
       "111546  2016-03-27 13:18:51 2016-03-27 13:34:28               1109   \n",
       "111664  2016-03-27 13:55:04 2016-03-27 14:53:59               1028   \n",
       "112565  2016-03-27 16:59:35 2016-03-27 17:48:47               1074   \n",
       "113409  2016-03-27 22:42:45 2016-03-27 22:54:02               1053   \n",
       "113817  2016-03-28 11:21:21 2016-03-28 12:03:18               1024   \n",
       "114524  2016-03-28 14:22:55 2016-03-28 15:50:50               1074   \n",
       "125087  2016-03-31 19:20:54 2016-03-31 19:29:18               1031   \n",
       "125511  2016-03-31 21:13:08 2016-03-31 21:18:11               1118   \n",
       "125609  2016-03-31 21:45:14 2016-03-31 22:01:55               1128   \n",
       "126363  2016-04-01 14:41:04 2016-04-01 14:49:15               1086   \n",
       "127902  2016-04-02 10:42:42 2016-04-02 11:05:18               1080   \n",
       "132007  2016-04-03 13:03:03 2016-04-03 13:10:46               1119   \n",
       "136310  2016-04-04 12:12:03 2016-04-04 13:55:44               1046   \n",
       "138896  2016-04-04 19:47:01 2016-04-04 19:59:52               1077   \n",
       "139668  2016-04-05 00:36:05 2016-04-05 00:47:48               1051   \n",
       "140337  2016-04-05 10:10:02 2016-04-05 13:02:27               1020   \n",
       "141008  2016-04-05 13:06:01 2016-04-05 13:28:19               1077   \n",
       "141170  2016-04-05 13:39:51 2016-04-05 14:17:04               1067   \n",
       "141438  2016-04-05 14:31:27 2016-04-05 14:44:18               1109   \n",
       "141587  2016-04-05 14:57:04 2016-04-05 15:11:51               1134   \n",
       "142423  2016-04-05 16:56:11 2016-04-05 17:05:28               1029   \n",
       "143401  2016-04-05 18:52:06 2016-04-05 19:03:50               1105   \n",
       "145156  2016-04-06 09:08:41 2016-04-06 09:25:17               1066   \n",
       "146792  2016-04-06 16:20:40 2016-04-06 19:17:52               1032   \n",
       "149615  2016-04-07 11:30:01 2016-04-07 12:10:55               1033   \n",
       "149997  2016-04-07 13:22:37 2016-04-07 13:33:40               1105   \n",
       "...                     ...                 ...                ...   \n",
       "1028622 2016-11-24 19:52:51 2016-11-24 20:00:58               1138   \n",
       "1029066 2016-11-25 08:48:55 2016-11-25 08:54:24               1069   \n",
       "1031631 2016-11-26 18:22:40 2016-11-26 18:30:38               1138   \n",
       "1031698 2016-11-26 19:07:56 2016-11-26 19:17:32               1086   \n",
       "1032394 2016-11-27 09:14:15 2016-11-27 09:49:44               1029   \n",
       "1032754 2016-11-27 12:54:08 2016-11-27 12:59:25               1074   \n",
       "1033685 2016-11-28 09:15:04 2016-11-28 09:26:12               1071   \n",
       "1033800 2016-11-28 10:33:03 2016-11-28 11:11:28               1032   \n",
       "1034499 2016-11-28 18:27:24 2016-11-28 18:49:41               1144   \n",
       "1034883 2016-11-29 07:44:03 2016-11-29 08:09:15               1057   \n",
       "1035031 2016-11-29 09:39:48 2016-11-29 09:52:32               1068   \n",
       "1036319 2016-11-30 08:56:52 2016-11-30 09:02:25               1123   \n",
       "1036469 2016-11-30 10:42:27 2016-11-30 10:51:32               1029   \n",
       "1037289 2016-11-30 22:03:41 2016-11-30 22:13:41               1061   \n",
       "1038336 2016-12-02 00:30:13 2016-12-02 00:54:44               1090   \n",
       "1039529 2016-12-03 02:10:59 2016-12-03 02:16:33               1062   \n",
       "1039669 2016-12-03 08:53:42 2016-12-03 09:05:12               1060   \n",
       "1040706 2016-12-04 01:56:25 2016-12-04 02:10:14               1032   \n",
       "1040908 2016-12-04 11:11:18 2016-12-04 11:17:31               1053   \n",
       "1041549 2016-12-05 00:30:19 2016-12-05 00:47:41               1086   \n",
       "1041816 2016-12-05 10:21:31 2016-12-05 10:37:29               1025   \n",
       "1041841 2016-12-05 10:47:11 2016-12-05 11:26:41               1032   \n",
       "1042700 2016-12-06 01:47:57 2016-12-06 02:09:14               1134   \n",
       "1043255 2016-12-06 15:04:51 2016-12-06 15:30:08               1068   \n",
       "1044171 2016-12-07 10:23:07 2016-12-07 11:14:49               1065   \n",
       "1044272 2016-12-07 11:47:40 2016-12-07 12:30:14               1121   \n",
       "1047693 2016-12-10 09:02:02 2016-12-10 09:16:32               1065   \n",
       "1049053 2016-12-11 00:07:52 2016-12-11 00:21:45               1055   \n",
       "1063631 2016-12-28 01:33:32 2016-12-28 01:39:54               1100   \n",
       "1063706 2016-12-28 09:27:28 2016-12-28 09:55:21               1146   \n",
       "\n",
       "         Endstation_ID  Fahrrad_ID                       Subscriber_ID  \\\n",
       "109378            1116        1982  0x0689FC43A03EAE0077B58707E03BBC62   \n",
       "109460            1071        1982  0x8F77C1BFC0DB0C45AD4BABF33E71ACF9   \n",
       "110253            1143        1982  0xB35719BFB4453A4E5B0E5F8CF262652A   \n",
       "111181            1109        1982  0xC4240D2D6B7D672170B09FE05F598511   \n",
       "111546            1028        1982  0x42F5C019ADFBAEC5C909837A00B7DF50   \n",
       "111664            1074        1982  0x59E50CD91921A338AE8F1F296C859D9F   \n",
       "112565            1053        1982  0x4D16E310E8843F500FB15EC6D69464BC   \n",
       "113409            1024        1982  0xF8E884A68975D1B60D54D692E7CE27D0   \n",
       "113817            1074        1982  0xD824001FAC45C4B5A23B7BA9DD180FB5   \n",
       "114524            1030        1982  0xC0810978F87BF244A24EAB33B5C545C5   \n",
       "125087            1118        1982  0x865D1F739B7F09701C06CD12405DB93F   \n",
       "125511            1128        1982  0xAF8C495DD44F2EBE13DECB7A4B5BB42B   \n",
       "125609            1086        1982  0xF86655CDAE7B7C24003B58BCEC47BA13   \n",
       "126363            1080        1982  0xBA8904C15E285BA26F22DF71CFAFC752   \n",
       "127902            1119        1982  0xA0B524026C54151CB27D8ACBD636D5EB   \n",
       "132007            1046        1982  0xB89A2469333122893E8084E98304901E   \n",
       "136310            1077        1982  0xFB10F11B5845579609970F2B0D647E0A   \n",
       "138896            1051        1982  0xA5E9252080FDFEADF20A7A95FD04E159   \n",
       "139668            1020        1982  0x094849C45626DA5FF3F6B3A519FC28A5   \n",
       "140337            1077        1982  0x6847AC566E3173C261C616674EC243C5   \n",
       "141008            1067        1982  0x1D37039555162F6DE518413DA34FB6F4   \n",
       "141170            1109        1982  0x4D02BFD4F725FC7EA3AAAE7C00AB50F6   \n",
       "141438            1134        1982  0xB817E71F48F3F81EB8123C06D145192D   \n",
       "141587            1029        1982  0x2583AFF5DC69CB613593B47A776BCD15   \n",
       "142423            1105        1982  0xF717E42D2CA711FF4C33D18340F661DD   \n",
       "143401            1066        1982  0x8EF59B684ED807613F4E9DB5FA747256   \n",
       "145156            1032        1982  0x4F3417E328B104B237ABBA8AD3B7320A   \n",
       "146792            1033        1982  0x4AAA43EA82FD98C0F771858F18BB146E   \n",
       "149615            1105        1982  0x52E60F21556FF9D2180F6586B7DB10FF   \n",
       "149997            1023        1982  0xF8B36B76D28D14084F2F364827FFF1D2   \n",
       "...                ...         ...                                 ...   \n",
       "1028622           1069        1982  0x5383BBF2B69421DB3DB2E15DC96871E5   \n",
       "1029066           1138        1982  0x904432DF6AE7A6218E11D39C586FA373   \n",
       "1031631           1086        1982  0x5A40813601493528453415638DCB12CF   \n",
       "1031698           1029        1982  0x34C418411AB7EFF022B5B26E6067F69D   \n",
       "1032394           1074        1982  0xBB689C50FC10B2D8D1B86167E4FF1A91   \n",
       "1032754           1071        1982  0xAED5F3719528B27872DB934D7280E0A4   \n",
       "1033685           1032        1982  0x83AC1CB100C19369990349D3CDF75201   \n",
       "1033800           1144        1982  0xA3FBCD0182D8CAEBD621AA7F57FCF7BF   \n",
       "1034499           1057        1982  0x5270CF3C58F5E889C450FA9B7C918C30   \n",
       "1034883           1068        1982  0x82BE405D324C1A6010E5357554FCD4C8   \n",
       "1035031           1123        1982  0x528E3CDB01D572556100A2E866A0AFA9   \n",
       "1036319           1029        1982  0x3D6D5C74B9C750E45ADFC029E1042E68   \n",
       "1036469           1061        1982  0x64D9F6E9A6B9627CF424AAFF9ECEA5D0   \n",
       "1037289           1090        1982  0xAC1324E0E71CA990CC620475477B4BB1   \n",
       "1038336           1062        1982  0xE69AB9C38EF69EA282310F7DA7F9DC9C   \n",
       "1039529           1060        1982  0xF0E8D5F88CE447301DE63DB823C55A68   \n",
       "1039669           1032        1982  0x944802D74DEDB50E438D8C74B8CE5AEA   \n",
       "1040706           1053        1982  0xB81A8A8EAE87009703433CFA5A63D7A5   \n",
       "1040908           1086        1982  0x07C2C2818BFEC84B14D180AAA177CE7F   \n",
       "1041549           1025        1982  0x73DEDD82796A52CC4391564DFC8DB58A   \n",
       "1041816           1032        1982  0xCC9169CC3E553FEA2EF6234897A55F45   \n",
       "1041841           1134        1982  0xC37A326E10E7F7CA74D43DEF4DE2B12C   \n",
       "1042700           1068        1982  0x096E2503624AEB9037AC5602C72B79A4   \n",
       "1043255           1065        1982  0xEB8116C9731C649F3006FF18ACF2ADD3   \n",
       "1044171           1121        1982  0x721387B70173A1E4DF3C8E6AD8BE7832   \n",
       "1044272           1065        1982  0x721387B70173A1E4DF3C8E6AD8BE7832   \n",
       "1047693           1055        1982  0xD21B9912CF7BF85A56BA1366E2A15D55   \n",
       "1049053           1100        1982  0xF9B0BDAAA5A874F8C8A8190A629390BB   \n",
       "1063631           1146        1982  0x1C3FB737E486C40B68F0363FF8DD31AB   \n",
       "1063706           1033        1982  0x069D121179BFDF42D3B8DD2ED04790C9   \n",
       "\n",
       "        Fahrtdauer  Fahrtpreis  \n",
       "109378    00:12:00         0.0  \n",
       "109460    00:46:21         0.0  \n",
       "110253    01:03:19         1.0  \n",
       "111181    00:18:25         0.0  \n",
       "111546    00:15:37         0.0  \n",
       "111664    00:58:55         0.0  \n",
       "112565    00:49:12         0.0  \n",
       "113409    00:11:17         0.0  \n",
       "113817    00:41:57         0.0  \n",
       "114524    01:27:55         1.0  \n",
       "125087    00:08:24         0.0  \n",
       "125511    00:05:03         0.0  \n",
       "125609    00:16:41         0.0  \n",
       "126363    00:08:11         0.0  \n",
       "127902    00:22:36         0.0  \n",
       "132007    00:07:43         0.0  \n",
       "136310    01:43:41         1.0  \n",
       "138896    00:12:51         0.0  \n",
       "139668    00:11:43         0.0  \n",
       "140337    02:52:25         3.0  \n",
       "141008    00:22:18         0.0  \n",
       "141170    00:37:13         0.0  \n",
       "141438    00:12:51         0.0  \n",
       "141587    00:14:47         0.0  \n",
       "142423    00:09:17         0.0  \n",
       "143401    00:11:44         0.0  \n",
       "145156    00:16:36         0.0  \n",
       "146792    02:57:12         3.0  \n",
       "149615    00:40:54         0.0  \n",
       "149997    00:11:03         0.0  \n",
       "...            ...         ...  \n",
       "1028622   00:08:07         0.0  \n",
       "1029066   00:05:29         0.0  \n",
       "1031631   00:07:58         0.0  \n",
       "1031698   00:09:36         0.0  \n",
       "1032394   00:35:29         0.0  \n",
       "1032754   00:05:17         0.0  \n",
       "1033685   00:11:08         0.0  \n",
       "1033800   00:38:25         0.0  \n",
       "1034499   00:22:17         0.0  \n",
       "1034883   00:25:12         0.0  \n",
       "1035031   00:12:44         0.0  \n",
       "1036319   00:05:33         0.0  \n",
       "1036469   00:09:05         0.0  \n",
       "1037289   00:10:00         0.0  \n",
       "1038336   00:24:31         0.0  \n",
       "1039529   00:05:34         0.0  \n",
       "1039669   00:11:30         0.0  \n",
       "1040706   00:13:49         0.0  \n",
       "1040908   00:06:13         0.0  \n",
       "1041549   00:17:22         0.0  \n",
       "1041816   00:15:58         0.0  \n",
       "1041841   00:39:30         0.0  \n",
       "1042700   00:21:17         0.0  \n",
       "1043255   00:25:17         0.0  \n",
       "1044171   00:51:42         0.0  \n",
       "1044272   00:42:34         0.0  \n",
       "1047693   00:14:30         0.0  \n",
       "1049053   00:13:53         0.0  \n",
       "1063631   00:06:22         0.0  \n",
       "1063706   00:27:53         0.0  \n",
       "\n",
       "[721 rows x 8 columns]"
      ]
     },
     "execution_count": 21,
     "metadata": {},
     "output_type": "execute_result"
    }
   ],
   "source": [
    "df2016[(df2016['Fahrrad_ID'] == 1982) ]"
   ]
  },
  {
   "cell_type": "markdown",
   "metadata": {},
   "source": [
    "## Kennzahlen zur Nutzung des Systems"
   ]
  },
  {
   "cell_type": "markdown",
   "metadata": {},
   "source": [
    "### Was ist das Verhältnis zwischen einmaligen Benutzern und regelmäßigen Nutzern (2016+2017)"
   ]
  },
  {
   "cell_type": "code",
   "execution_count": 22,
   "metadata": {},
   "outputs": [],
   "source": [
    "df_total_groups = df_total_cleansed.groupby('Subscriber_ID')"
   ]
  },
  {
   "cell_type": "code",
   "execution_count": 23,
   "metadata": {},
   "outputs": [],
   "source": [
    "aggregated_by_subscriber_series    = df_total_groups['Fahrrad_ID'].agg(np.size)\n",
    "aggregated_by_subscriber_dataframe = aggregated_by_subscriber_series.to_frame('ANZAHL_FAHRTEN')"
   ]
  },
  {
   "cell_type": "code",
   "execution_count": 24,
   "metadata": {},
   "outputs": [],
   "source": [
    "def categorize(number_trips):\n",
    "    if(number_trips == 1):\n",
    "        return 'A'\n",
    "    elif((number_trips > 1) & (number_trips < 11)):\n",
    "        return 'B'\n",
    "    elif((number_trips > 10) & (number_trips < 51)):\n",
    "        return 'C'\n",
    "    elif((number_trips > 50) & (number_trips < 101)):\n",
    "        return 'D'\n",
    "    elif((number_trips > 100) & (number_trips < 2000)):\n",
    "        return 'E'"
   ]
  },
  {
   "cell_type": "code",
   "execution_count": 25,
   "metadata": {},
   "outputs": [
    {
     "data": {
      "text/plain": [
       "227959"
      ]
     },
     "execution_count": 25,
     "metadata": {},
     "output_type": "execute_result"
    }
   ],
   "source": [
    "aggregated_by_subscriber_dataframe['Kategorie'] = aggregated_by_subscriber_dataframe['ANZAHL_FAHRTEN'].apply(categorize)\n",
    "\n",
    "aggregated_by_subscriber_dataframe['Kategorie'] = aggregated_by_subscriber_dataframe['Kategorie']\n",
    "\n",
    "grouped_by_category_dataframe = aggregated_by_subscriber_dataframe.groupby('Kategorie')\n",
    "\n",
    "aggregated_by_category_dataframe = grouped_by_category_dataframe.agg(np.size)\n",
    "\n",
    "aggregated_by_category_dataframe['ANZAHL_FAHRTEN'].sum()"
   ]
  },
  {
   "cell_type": "code",
   "execution_count": 29,
   "metadata": {},
   "outputs": [],
   "source": [
    "aggregated_by_category_series = aggregated_by_category_dataframe['ANZAHL_FAHRTEN']"
   ]
  },
  {
   "cell_type": "markdown",
   "metadata": {},
   "source": [
    "Stimmt die Anzahl der Subscriber"
   ]
  },
  {
   "cell_type": "code",
   "execution_count": 30,
   "metadata": {},
   "outputs": [
    {
     "data": {
      "text/plain": [
       "227959"
      ]
     },
     "execution_count": 30,
     "metadata": {},
     "output_type": "execute_result"
    }
   ],
   "source": [
    "df_total_cleansed['Subscriber_ID'].nunique()"
   ]
  },
  {
   "cell_type": "code",
   "execution_count": 100,
   "metadata": {
    "scrolled": true
   },
   "outputs": [
    {
     "data": {
      "image/png": "[encoded data removed]",
      "text/plain": [
       "<matplotlib.figure.Figure at 0x2b185a47f28>"
      ]
     },
     "metadata": {},
     "output_type": "display_data"
    }
   ],
   "source": [
    "plt.figure(figsize=(10,5))\n",
    "\n",
    "sns.set_style(\"whitegrid\")\n",
    "sns.set_context(\"talk\")\n",
    "\n",
    "index = ['1', '2-10', '11-50', '51-100', '>100']\n",
    "\n",
    "ax = sns.barplot(aggregated_by_category_series.index, aggregated_by_category_series, alpha=0.9 )\n",
    "\n",
    "ax.set_xlabel('Kategorie')\n",
    "ax.set_ylabel('Anzahl an Subscribern')\n",
    "ax.set_xticklabels(index, rotation='horizontal', fontsize=12)\n",
    "ax.set_title('Verteilung der Nutzer von CityBike Wien nach Oftheit von Nutzung')\n",
    "\n",
    "plt.show()"
   ]
  },
  {
   "cell_type": "markdown",
   "metadata": {},
   "source": [
    "Aus dem Graphen ist ersichtlich, dass ein beträchtlicher Anteil der Nutzer One-Time User sind. Der größte Ant In der Arbeit Beschreiben"
   ]
  },
  {
   "cell_type": "markdown",
   "metadata": {},
   "source": [
    "## Visuelle Darstellung der Auslastung des Systems nach Monat und Jahr"
   ]
  },
  {
   "cell_type": "code",
   "execution_count": 32,
   "metadata": {},
   "outputs": [],
   "source": [
    "df2016_copy = df2016\n",
    "df2017_copy = df2017"
   ]
  },
  {
   "cell_type": "markdown",
   "metadata": {},
   "source": [
    "Damit pd.Grouper angewendet werden kann muss der Index ein DateTimeIndex sein:"
   ]
  },
  {
   "cell_type": "code",
   "execution_count": 33,
   "metadata": {},
   "outputs": [],
   "source": [
    "df2016_copy.index = df2016_copy['Startdatum'] \n",
    "df2017_copy.index = df2017_copy['Startdatum']"
   ]
  },
  {
   "cell_type": "markdown",
   "metadata": {},
   "source": [
    "Passt"
   ]
  },
  {
   "cell_type": "code",
   "execution_count": 34,
   "metadata": {},
   "outputs": [
    {
     "data": {
      "text/plain": [
       "pandas.core.indexes.datetimes.DatetimeIndex"
      ]
     },
     "execution_count": 34,
     "metadata": {},
     "output_type": "execute_result"
    }
   ],
   "source": [
    "type(df2016_copy.index)"
   ]
  },
  {
   "cell_type": "markdown",
   "metadata": {},
   "source": [
    "Die Trips werden zuerst für das Jahr 2016 je Monat aggregiert"
   ]
  },
  {
   "cell_type": "code",
   "execution_count": 35,
   "metadata": {},
   "outputs": [],
   "source": [
    "df2016_grouped_month = df2016.groupby(pd.Grouper(freq='M'))\n",
    "\n",
    "aggregated_by_month_2016_dataframe = df2016_grouped_month.agg(np.size)\n",
    "\n",
    "aggregated_by_month_2016 = aggregated_by_month_2016_dataframe['Startdatum']\n",
    "\n",
    "agg2016 = aggregated_by_month_2016.to_frame('Anzahl_Fahrten_Monat')"
   ]
  },
  {
   "cell_type": "markdown",
   "metadata": {},
   "source": [
    "Nun wird das Gleiche für das Jahr 2017 gemacht"
   ]
  },
  {
   "cell_type": "code",
   "execution_count": 36,
   "metadata": {},
   "outputs": [],
   "source": [
    "df2017_grouped_month = df2017.groupby(pd.Grouper(freq='M'))\n",
    "\n",
    "aggregated_by_month_2017_dataframe = df2017_grouped_month.agg(np.size)\n",
    "\n",
    "aggregated_by_month_2017 = aggregated_by_month_2017_dataframe['Startdatum']\n",
    "\n",
    "agg_2017 = aggregated_by_month_2017.to_frame('Anzahl_Fahrten_Monat')"
   ]
  },
  {
   "cell_type": "markdown",
   "metadata": {},
   "source": [
    "Visualisierung der aggregierten Daten"
   ]
  },
  {
   "cell_type": "code",
   "execution_count": null,
   "metadata": {},
   "outputs": [],
   "source": []
  },
  {
   "cell_type": "code",
   "execution_count": null,
   "metadata": {},
   "outputs": [],
   "source": []
  },
  {
   "cell_type": "code",
   "execution_count": null,
   "metadata": {},
   "outputs": [],
   "source": []
  },
  {
   "cell_type": "code",
   "execution_count": null,
   "metadata": {},
   "outputs": [],
   "source": []
  },
  {
   "cell_type": "markdown",
   "metadata": {},
   "source": [
    "### Statistische Kennzahlen zur Fahrtdauer"
   ]
  },
  {
   "cell_type": "code",
   "execution_count": 37,
   "metadata": {},
   "outputs": [
    {
     "data": {
      "text/plain": [
       "count                   1897764\n",
       "mean     0 days 00:26:06.235559\n",
       "std      0 days 00:48:40.033084\n",
       "min      0 days 00:02:00.103000\n",
       "25%             0 days 00:09:42\n",
       "50%             0 days 00:16:22\n",
       "75%             0 days 00:28:21\n",
       "max             6 days 08:24:51\n",
       "Name: Fahrtdauer, dtype: object"
      ]
     },
     "execution_count": 37,
     "metadata": {},
     "output_type": "execute_result"
    }
   ],
   "source": [
    "df_total_cleansed['Fahrtdauer'].describe()"
   ]
  },
  {
   "cell_type": "markdown",
   "metadata": {},
   "source": [
    "### Statistische Kennzahlen zum Fahrtpreis 2016 bei Fahrten die mehr als 7 Euro gekostet haben"
   ]
  },
  {
   "cell_type": "code",
   "execution_count": 38,
   "metadata": {},
   "outputs": [
    {
     "data": {
      "text/plain": [
       "count    4220.000000\n",
       "mean       18.635308\n",
       "std        28.181630\n",
       "min        11.000000\n",
       "25%        11.000000\n",
       "50%        15.000000\n",
       "75%        19.000000\n",
       "max       600.000000\n",
       "Name: Fahrtpreis, dtype: float64"
      ]
     },
     "execution_count": 38,
     "metadata": {},
     "output_type": "execute_result"
    }
   ],
   "source": [
    "df2016[df2016['Fahrtpreis'] > 7]['Fahrtpreis'].describe()"
   ]
  },
  {
   "cell_type": "markdown",
   "metadata": {},
   "source": [
    "## Stationen einlesen"
   ]
  },
  {
   "cell_type": "markdown",
   "metadata": {},
   "source": [
    "In den folgenden Zellen werden eine Liste der Stationen in ein DataFrame transformiert. \n",
    "\n",
    "Die Datenquelle in XML-Format befindet sich unter der offiziellen (?) API unter http://dynamisch.citybikewien.at/citybike_xml.php . Da Pandas keine DataFrame-Erstellung aus XML unterstützt war es nötig die Daten von XML in JSON zu transformieren. Hierzu wurde ein öffentlich verfügbarer Dienst verwendet welcher unter der Adresse: http://www.utilities-online.info/xmltojson zu finden ist. \n",
    "\n",
    "Nachdem die Daten in einer JSON-Datei gespeichert wurden, werden diese in der unteren Zelle gelesen und mithilfe der JSON-Bibliothek in ein Python-Dictionary transformiert. Das Dictionary kann einfach in ein Pandas DataFrame-Objekt umgewandelt werden wodurch die nötigen Operationen vorgenommen werden können. Hierbei muss die Struktur des Dictionaries beachtet werden."
   ]
  },
  {
   "cell_type": "code",
   "execution_count": 93,
   "metadata": {},
   "outputs": [],
   "source": [
    "import json\n",
    "\n",
    "data_file = open('CityBikeWien/Stationendaten.json', encoding='UTF-8')   \n",
    "json_dict = json.load(data_file)\n",
    "stations_dataframe = pd.DataFrame(json_dict['stations']['station'])"
   ]
  },
  {
   "cell_type": "code",
   "execution_count": 101,
   "metadata": {},
   "outputs": [
    {
     "data": {
      "text/html": [
       "<div>\n",
       "<style scoped>\n",
       "    .dataframe tbody tr th:only-of-type {\n",
       "        vertical-align: middle;\n",
       "    }\n",
       "\n",
       "    .dataframe tbody tr th {\n",
       "        vertical-align: top;\n",
       "    }\n",
       "\n",
       "    .dataframe thead th {\n",
       "        text-align: right;\n",
       "    }\n",
       "</style>\n",
       "<table border=\"1\" class=\"dataframe\">\n",
       "  <thead>\n",
       "    <tr style=\"text-align: right;\">\n",
       "      <th></th>\n",
       "      <th>boxes</th>\n",
       "      <th>description</th>\n",
       "      <th>free_bikes</th>\n",
       "      <th>free_boxes</th>\n",
       "      <th>id</th>\n",
       "      <th>internal_id</th>\n",
       "      <th>latitude</th>\n",
       "      <th>longitude</th>\n",
       "      <th>name</th>\n",
       "      <th>status</th>\n",
       "    </tr>\n",
       "  </thead>\n",
       "  <tbody>\n",
       "  </tbody>\n",
       "</table>\n",
       "</div>"
      ],
      "text/plain": [
       "Empty DataFrame\n",
       "Columns: [boxes, description, free_bikes, free_boxes, id, internal_id, latitude, longitude, name, status]\n",
       "Index: []"
      ]
     },
     "execution_count": 101,
     "metadata": {},
     "output_type": "execute_result"
    }
   ],
   "source": [
    "stations_dataframe[(stations_dataframe['id'] == 11) | (stations_dataframe['internal_id'] == 11)]"
   ]
  },
  {
   "cell_type": "code",
   "execution_count": null,
   "metadata": {},
   "outputs": [],
   "source": []
  }
 ],
 "metadata": {
  "kernelspec": {
   "display_name": "Python 3",
   "language": "python",
   "name": "python3"
  }
 },
 "nbformat": 4,
 "nbformat_minor": 2
}
