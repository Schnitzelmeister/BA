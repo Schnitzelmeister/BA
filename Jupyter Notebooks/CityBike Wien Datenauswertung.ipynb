{
 "cells": [
  {
   "cell_type": "markdown",
   "metadata": {},
   "source": [
    "# CityBike Wien Datensetanalyse für die Jahre 2016 und 2017"
   ]
  },
  {
   "cell_type": "markdown",
   "metadata": {},
   "source": [
    "== Inhalt und Struktur dieses Notebooks \n",
    "\n"
   ]
  },
  {
   "cell_type": "markdown",
   "metadata": {},
   "source": [
    "<hr/>\n",
    "## Datenset importieren bereinigen und transformieren"
   ]
  },
  {
   "cell_type": "markdown",
   "metadata": {},
   "source": [
    "Im folgenden Abschnitt werden Fahrt- und Stationendaten eingelesen und je nach Anforderungen transformiert. \n",
    "\n",
    "Zuerst werden die, für die Auswertung und Visualisierung erforderlichen Bibliotheken importiert. Im gleichen Schritt werden die Fahrtdaten für beide Jahre aus CSV-Dateien gelesen."
   ]
  },
  {
   "cell_type": "code",
   "execution_count": 1,
   "metadata": {},
   "outputs": [],
   "source": [
    "%matplotlib inline\n",
    "import pandas as pd\n",
    "import datetime\n",
    "import numpy as np\n",
    "import matplotlib.pyplot as plt\n",
    "import seaborn as sns\n",
    "import warnings\n",
    "import math\n",
    "import json\n",
    "#Warnungen seitens Jupyter sollen ignoriert werden\n",
    "warnings.filterwarnings('ignore')\n",
    "\n",
    "df2016 = pd.read_csv('CityBikeWien/2016trips.csv', error_bad_lines=False, parse_dates=['Startdatum', 'Enddatum'], \n",
    "                     delimiter=';')\n",
    "df2017 = pd.read_csv('CityBikeWien/2017trips.csv', error_bad_lines=False, parse_dates=['Startdatum', 'Enddatum'], \n",
    "                     delimiter=';')"
   ]
  },
  {
   "cell_type": "markdown",
   "metadata": {},
   "source": [
    "<i>Die beiden DataFrames für die Jahre 2016 und 2017 werden zusammengeführt:</i>"
   ]
  },
  {
   "cell_type": "code",
   "execution_count": 2,
   "metadata": {},
   "outputs": [],
   "source": [
    "df_total = df2016.append(df2017)"
   ]
  },
  {
   "cell_type": "markdown",
   "metadata": {},
   "source": [
    "<i>Bei dem neuen DataFrame muss der Index neu gesetzt werden:</i>"
   ]
  },
  {
   "cell_type": "code",
   "execution_count": 3,
   "metadata": {},
   "outputs": [],
   "source": [
    "df_total = df_total.reset_index(drop=True)"
   ]
  },
  {
   "cell_type": "markdown",
   "metadata": {},
   "source": [
    "<i>Eine neue Spalte für die Fahrtdauer wird hinzugefügt (Enddatum-Startdatum):</i>"
   ]
  },
  {
   "cell_type": "code",
   "execution_count": 4,
   "metadata": {},
   "outputs": [],
   "source": [
    "df_total['Fahrtdauer'] =  df_total['Enddatum'] - df_total['Startdatum']\n",
    "df2016['Fahrtdauer']   =  df2016['Enddatum']   - df2016['Startdatum']\n",
    "df2017['Fahrtdauer']   =  df2017['Enddatum']   - df2017['Startdatum']"
   ]
  },
  {
   "cell_type": "markdown",
   "metadata": {},
   "source": [
    "Der folgende Transformationsschritt beinhaltet die Löschung von Fahrten die weniger als zwei Minuten dauern und zugleich an der gleichen Station enden. "
   ]
  },
  {
   "cell_type": "markdown",
   "metadata": {},
   "source": [
    "<i>Die ungewollten Werte werden aus den Datensets herausgenommen:</i>"
   ]
  },
  {
   "cell_type": "code",
   "execution_count": 5,
   "metadata": {},
   "outputs": [],
   "source": [
    "df_total_cleansed = df_total[ (df_total['Fahrtdauer'] > pd.Timedelta('120 sec')) \n",
    "                            & (df_total['Anfangsstation_ID'] != df_total['Endstation_ID'])]\n",
    "\n",
    "df2016            = df2016[ (df2016['Fahrtdauer'] > pd.Timedelta('120 sec'))\n",
    "                            & (df2016['Anfangsstation_ID'] != df2016['Endstation_ID'])]\n",
    "\n",
    "df2017            = df2017[ (df2017['Fahrtdauer'] > pd.Timedelta('120 sec'))\n",
    "                            & (df2017['Anfangsstation_ID'] != df2017['Endstation_ID'])]"
   ]
  },
  {
   "cell_type": "markdown",
   "metadata": {},
   "source": [
    "<i>Die Details werden für das zusammengeführte und bereinigte DataFrame (df_total_cleansed) angezeigt</i>"
   ]
  },
  {
   "cell_type": "code",
   "execution_count": 6,
   "metadata": {
    "scrolled": true
   },
   "outputs": [
    {
     "name": "stdout",
     "output_type": "stream",
     "text": [
      "<class 'pandas.core.frame.DataFrame'>\n",
      "Int64Index: 1897764 entries, 1 to 2080071\n",
      "Data columns (total 7 columns):\n",
      "Startdatum           datetime64[ns]\n",
      "Enddatum             datetime64[ns]\n",
      "Anfangsstation_ID    int64\n",
      "Endstation_ID        int64\n",
      "Fahrrad_ID           int64\n",
      "Subscriber_ID        object\n",
      "Fahrtdauer           timedelta64[ns]\n",
      "dtypes: datetime64[ns](2), int64(3), object(1), timedelta64[ns](1)\n",
      "memory usage: 115.8+ MB\n"
     ]
    }
   ],
   "source": [
    "df_total_cleansed.info()"
   ]
  },
  {
   "cell_type": "markdown",
   "metadata": {},
   "source": [
    "<u>Das bereinigte DataFrame enthält insgesamt 1.897.764 Einträge für die Jahre 2016 und 2017 und setzt sich zum jetzigen Zeitpunkt aus sieben Spalten zusammen.</u>"
   ]
  },
  {
   "cell_type": "markdown",
   "metadata": {},
   "source": [
    "<i>Erste Zeile des zusammengeführten DataFrames als Referenz:</i>"
   ]
  },
  {
   "cell_type": "code",
   "execution_count": 7,
   "metadata": {
    "scrolled": true
   },
   "outputs": [
    {
     "data": {
      "text/html": [
       "<div>\n",
       "<style scoped>\n",
       "    .dataframe tbody tr th:only-of-type {\n",
       "        vertical-align: middle;\n",
       "    }\n",
       "\n",
       "    .dataframe tbody tr th {\n",
       "        vertical-align: top;\n",
       "    }\n",
       "\n",
       "    .dataframe thead th {\n",
       "        text-align: right;\n",
       "    }\n",
       "</style>\n",
       "<table border=\"1\" class=\"dataframe\">\n",
       "  <thead>\n",
       "    <tr style=\"text-align: right;\">\n",
       "      <th></th>\n",
       "      <th>Startdatum</th>\n",
       "      <th>Enddatum</th>\n",
       "      <th>Anfangsstation_ID</th>\n",
       "      <th>Endstation_ID</th>\n",
       "      <th>Fahrrad_ID</th>\n",
       "      <th>Subscriber_ID</th>\n",
       "      <th>Fahrtdauer</th>\n",
       "    </tr>\n",
       "  </thead>\n",
       "  <tbody>\n",
       "    <tr>\n",
       "      <th>1</th>\n",
       "      <td>2016-01-01 00:13:04</td>\n",
       "      <td>2016-01-01 00:38:05</td>\n",
       "      <td>1026</td>\n",
       "      <td>1100</td>\n",
       "      <td>2539</td>\n",
       "      <td>0x04084286D0CC7FA3973C16F8306802A1</td>\n",
       "      <td>00:25:01</td>\n",
       "    </tr>\n",
       "  </tbody>\n",
       "</table>\n",
       "</div>"
      ],
      "text/plain": [
       "           Startdatum            Enddatum  Anfangsstation_ID  Endstation_ID  \\\n",
       "1 2016-01-01 00:13:04 2016-01-01 00:38:05               1026           1100   \n",
       "\n",
       "   Fahrrad_ID                       Subscriber_ID Fahrtdauer  \n",
       "1        2539  0x04084286D0CC7FA3973C16F8306802A1   00:25:01  "
      ]
     },
     "execution_count": 7,
     "metadata": {},
     "output_type": "execute_result"
    }
   ],
   "source": [
    "df_total_cleansed.head(1)"
   ]
  },
  {
   "cell_type": "markdown",
   "metadata": {},
   "source": [
    "Zum jetzigen Zeitpunkt stehen drei bereinigte DataFrames welche die Fahrtdaten beinhalten zur Verfügung. Und zwar \"<b>df2016</b>\", \"<b>df2017</b>\" und das Produkt der beiden DataFrames: \"<b>df_total_cleansed</b>\""
   ]
  },
  {
   "cell_type": "markdown",
   "metadata": {},
   "source": [
    "<i></i>"
   ]
  },
  {
   "cell_type": "markdown",
   "metadata": {},
   "source": [
    "<hr/>\n",
    "### Stationendaten einlesen"
   ]
  },
  {
   "cell_type": "markdown",
   "metadata": {},
   "source": [
    "In den folgenden Zellen wird eine Datenquelle, welche die einzelnen Stationendaten beinhaltet in ein DataFrame transformiert. \n",
    "\n",
    "Die Datenquelle in XML-Format befindet sich unter der offiziellen (?) API unter http://dynamisch.citybikewien.at/citybike_xml.php . Da Pandas eigenständig keinen XML-Import unterstützt war es nötig die Daten aus XML in JSON zu transformieren. Hierzu wurde ein öffentlich verfügbarer Dienst verwendet welcher unter der Adresse: http://www.utilities-online.info/xmltojson zu finden ist. \n",
    "\n",
    "Die JSON-Daten werden in einer lokalen Datei gespeichert welche mithilfe der open()-Funktion gelesen werden kann. Es folgt die Transformation des Streams in ein Python-Dictionary welches mithilfe von Pandas in ein DataFrame transformiert wird."
   ]
  },
  {
   "cell_type": "markdown",
   "metadata": {},
   "source": [
    "<i></i>"
   ]
  },
  {
   "cell_type": "code",
   "execution_count": 8,
   "metadata": {},
   "outputs": [],
   "source": [
    "data_file = open('CityBikeWien/Stationendaten.json', encoding='UTF-8')  \n",
    "\n",
    "json_dict = json.load(data_file)\n",
    "\n",
    "stations_dataframe = pd.DataFrame(json_dict['stations']['station'])"
   ]
  },
  {
   "cell_type": "markdown",
   "metadata": {},
   "source": [
    "<i>Erste Zeile als Referenz:</i>"
   ]
  },
  {
   "cell_type": "code",
   "execution_count": 9,
   "metadata": {},
   "outputs": [
    {
     "data": {
      "text/html": [
       "<div>\n",
       "<style scoped>\n",
       "    .dataframe tbody tr th:only-of-type {\n",
       "        vertical-align: middle;\n",
       "    }\n",
       "\n",
       "    .dataframe tbody tr th {\n",
       "        vertical-align: top;\n",
       "    }\n",
       "\n",
       "    .dataframe thead th {\n",
       "        text-align: right;\n",
       "    }\n",
       "</style>\n",
       "<table border=\"1\" class=\"dataframe\">\n",
       "  <thead>\n",
       "    <tr style=\"text-align: right;\">\n",
       "      <th></th>\n",
       "      <th>boxes</th>\n",
       "      <th>description</th>\n",
       "      <th>free_bikes</th>\n",
       "      <th>free_boxes</th>\n",
       "      <th>id</th>\n",
       "      <th>internal_id</th>\n",
       "      <th>latitude</th>\n",
       "      <th>longitude</th>\n",
       "      <th>name</th>\n",
       "      <th>status</th>\n",
       "    </tr>\n",
       "  </thead>\n",
       "  <tbody>\n",
       "    <tr>\n",
       "      <th>0</th>\n",
       "      <td>35</td>\n",
       "      <td>Ecke Lichtenfelsgasse U2 Station Rathaus</td>\n",
       "      <td>12</td>\n",
       "      <td>23</td>\n",
       "      <td>108</td>\n",
       "      <td>1026</td>\n",
       "      <td>48.210425</td>\n",
       "      <td>16.356100</td>\n",
       "      <td>Friedrich Schmidtplatz</td>\n",
       "      <td>aktiv</td>\n",
       "    </tr>\n",
       "  </tbody>\n",
       "</table>\n",
       "</div>"
      ],
      "text/plain": [
       "  boxes                               description free_bikes free_boxes   id  \\\n",
       "0    35  Ecke Lichtenfelsgasse U2 Station Rathaus         12         23  108   \n",
       "\n",
       "  internal_id   latitude  longitude                    name status  \n",
       "0        1026  48.210425  16.356100  Friedrich Schmidtplatz  aktiv  "
      ]
     },
     "execution_count": 9,
     "metadata": {},
     "output_type": "execute_result"
    }
   ],
   "source": [
    "stations_dataframe.head(1)"
   ]
  },
  {
   "cell_type": "markdown",
   "metadata": {},
   "source": [
    "<i>Aus wie vielen Stationen setzt sich Citybike Wien zusammen?</i>"
   ]
  },
  {
   "cell_type": "code",
   "execution_count": 10,
   "metadata": {},
   "outputs": [
    {
     "data": {
      "text/plain": [
       "120"
      ]
     },
     "execution_count": 10,
     "metadata": {},
     "output_type": "execute_result"
    }
   ],
   "source": [
    "stations_dataframe['internal_id'].count()"
   ]
  },
  {
   "cell_type": "markdown",
   "metadata": {},
   "source": [
    "<i>Wie viele Docks haben die Stationen insgesamt?</i>"
   ]
  },
  {
   "cell_type": "code",
   "execution_count": 11,
   "metadata": {},
   "outputs": [
    {
     "data": {
      "text/plain": [
       "3079"
      ]
     },
     "execution_count": 11,
     "metadata": {},
     "output_type": "execute_result"
    }
   ],
   "source": [
    "stations_dataframe['boxes'] = stations_dataframe['boxes'].astype('int')\n",
    "\n",
    "stations_dataframe['boxes'].sum()"
   ]
  },
  {
   "cell_type": "markdown",
   "metadata": {},
   "source": [
    "<i>Wie viele Docks hat die kleinste Station?</i>"
   ]
  },
  {
   "cell_type": "code",
   "execution_count": 12,
   "metadata": {},
   "outputs": [
    {
     "data": {
      "text/plain": [
       "10"
      ]
     },
     "execution_count": 12,
     "metadata": {},
     "output_type": "execute_result"
    }
   ],
   "source": [
    "stations_dataframe['boxes'].min()"
   ]
  },
  {
   "cell_type": "markdown",
   "metadata": {},
   "source": [
    "<i>Wie viele Docks hat die größte Station?</i>"
   ]
  },
  {
   "cell_type": "code",
   "execution_count": 13,
   "metadata": {},
   "outputs": [
    {
     "data": {
      "text/plain": [
       "40"
      ]
     },
     "execution_count": 13,
     "metadata": {},
     "output_type": "execute_result"
    }
   ],
   "source": [
    "stations_dataframe['boxes'].max()"
   ]
  },
  {
   "cell_type": "markdown",
   "metadata": {},
   "source": [
    "<u>Das System besteht aus 120 unterschiedlichen Docking-Stastionen welche insgesamt 3079 Docks zur Verfügung stellen. Die kleinste Station bietet zehn Docking-Plätze zur Verfügung wobei die gröte Station vierzig Stellplätze zur Verfügung stellt</u>"
   ]
  },
  {
   "cell_type": "markdown",
   "metadata": {},
   "source": [
    "<hr/>\n",
    "## Finde die ersten 10 Benutzer nach Benutzung für den gesamten Zeitraum (2016+2017)"
   ]
  },
  {
   "cell_type": "markdown",
   "metadata": {},
   "source": [
    "\n",
    "In der folgenden Zelle wird das DataFrame anhand der 'Subscriber_ID' gruppiert. \n",
    "\n",
    "Darauffolgend wird eine Aggregatfunktion (np.size) auf das gruppierte Objekt angewendet um die Anzahl der Fahrten je Subscriber zu erhalten. Somit erhält man ein Series-Objekt welches sortiert werden muss. \n",
    "\n",
    "Um die Handhabung zu erleichtern wird das Series-Objekt zu einem DataFrame mit einer einzigen Spalte transformiert."
   ]
  },
  {
   "cell_type": "code",
   "execution_count": 14,
   "metadata": {},
   "outputs": [],
   "source": [
    "grouped_by_subscriber_groups              = df_total.groupby('Subscriber_ID')\n",
    "\n",
    "aggregated_by_subscriber_series           = grouped_by_subscriber_groups['Fahrrad_ID'].agg(np.size)\n",
    "\n",
    "aggregated_sorted_by_subscriber_series    = aggregated_by_subscriber_series.sort_values(ascending=False)\n",
    "\n",
    "aggregated_by_subscriber_dataframe        = aggregated_sorted_by_subscriber_series.to_frame('ANZAHL_FAHRTEN')"
   ]
  },
  {
   "cell_type": "markdown",
   "metadata": {},
   "source": [
    "<i>Die ersten zehn Subscriber werden extrahiert und es wird eine Spalte die den Rang angibt hinzugefügt:</i>"
   ]
  },
  {
   "cell_type": "code",
   "execution_count": 15,
   "metadata": {},
   "outputs": [
    {
     "data": {
      "text/html": [
       "<div>\n",
       "<style scoped>\n",
       "    .dataframe tbody tr th:only-of-type {\n",
       "        vertical-align: middle;\n",
       "    }\n",
       "\n",
       "    .dataframe tbody tr th {\n",
       "        vertical-align: top;\n",
       "    }\n",
       "\n",
       "    .dataframe thead th {\n",
       "        text-align: right;\n",
       "    }\n",
       "</style>\n",
       "<table border=\"1\" class=\"dataframe\">\n",
       "  <thead>\n",
       "    <tr style=\"text-align: right;\">\n",
       "      <th></th>\n",
       "      <th>ANZAHL_FAHRTEN</th>\n",
       "      <th>RANG</th>\n",
       "    </tr>\n",
       "    <tr>\n",
       "      <th>Subscriber_ID</th>\n",
       "      <th></th>\n",
       "      <th></th>\n",
       "    </tr>\n",
       "  </thead>\n",
       "  <tbody>\n",
       "    <tr>\n",
       "      <th>0x30EF7C4D0C1211B47ADBA3295EF47C61</th>\n",
       "      <td>1790</td>\n",
       "      <td>1</td>\n",
       "    </tr>\n",
       "    <tr>\n",
       "      <th>0xB9AF912E74C4F6602CF849721E28B621</th>\n",
       "      <td>1400</td>\n",
       "      <td>2</td>\n",
       "    </tr>\n",
       "    <tr>\n",
       "      <th>0xAC44D643FD2F8AE0CCD64B35A269DCC1</th>\n",
       "      <td>1297</td>\n",
       "      <td>3</td>\n",
       "    </tr>\n",
       "    <tr>\n",
       "      <th>0x30F9A85D6ADB8CFA380C4EA7D77C574E</th>\n",
       "      <td>1281</td>\n",
       "      <td>4</td>\n",
       "    </tr>\n",
       "    <tr>\n",
       "      <th>0xCA316F5E99321FD79D33C3CAB1000DA5</th>\n",
       "      <td>1193</td>\n",
       "      <td>5</td>\n",
       "    </tr>\n",
       "    <tr>\n",
       "      <th>0xE88FAEE35C9817B6BD91961D8DD186E0</th>\n",
       "      <td>1028</td>\n",
       "      <td>6</td>\n",
       "    </tr>\n",
       "    <tr>\n",
       "      <th>0x62B4268B5D5AB0FD8B0FDC93D79498DD</th>\n",
       "      <td>1025</td>\n",
       "      <td>7</td>\n",
       "    </tr>\n",
       "    <tr>\n",
       "      <th>0x24384492DBD8ACA63F4C29FC8BC3B36A</th>\n",
       "      <td>1011</td>\n",
       "      <td>8</td>\n",
       "    </tr>\n",
       "    <tr>\n",
       "      <th>0xD372854C5186AB811AEE55325547CC85</th>\n",
       "      <td>1009</td>\n",
       "      <td>9</td>\n",
       "    </tr>\n",
       "    <tr>\n",
       "      <th>0x0156CCFCAAF6097587BCB2B1C711F1FE</th>\n",
       "      <td>980</td>\n",
       "      <td>10</td>\n",
       "    </tr>\n",
       "  </tbody>\n",
       "</table>\n",
       "</div>"
      ],
      "text/plain": [
       "                                    ANZAHL_FAHRTEN  RANG\n",
       "Subscriber_ID                                           \n",
       "0x30EF7C4D0C1211B47ADBA3295EF47C61            1790     1\n",
       "0xB9AF912E74C4F6602CF849721E28B621            1400     2\n",
       "0xAC44D643FD2F8AE0CCD64B35A269DCC1            1297     3\n",
       "0x30F9A85D6ADB8CFA380C4EA7D77C574E            1281     4\n",
       "0xCA316F5E99321FD79D33C3CAB1000DA5            1193     5\n",
       "0xE88FAEE35C9817B6BD91961D8DD186E0            1028     6\n",
       "0x62B4268B5D5AB0FD8B0FDC93D79498DD            1025     7\n",
       "0x24384492DBD8ACA63F4C29FC8BC3B36A            1011     8\n",
       "0xD372854C5186AB811AEE55325547CC85            1009     9\n",
       "0x0156CCFCAAF6097587BCB2B1C711F1FE             980    10"
      ]
     },
     "execution_count": 15,
     "metadata": {},
     "output_type": "execute_result"
    }
   ],
   "source": [
    "aggregated_by_subscriber_dataframe_top_10         = aggregated_by_subscriber_dataframe[:10]\n",
    "\n",
    "aggregated_by_subscriber_dataframe_top_10['RANG'] = np.arange(1,11) \n",
    "\n",
    "aggregated_by_subscriber_dataframe_top_10"
   ]
  },
  {
   "cell_type": "markdown",
   "metadata": {},
   "source": [
    "<u>Es ist zu erkennen, dass es Nutzer gibt welche das System ausgiebig nutzen</u>"
   ]
  },
  {
   "cell_type": "markdown",
   "metadata": {},
   "source": [
    "<hr/>\n",
    "## Was hat der Benutzer mit den meisten Fahrten für die Nutzung des Systems bezahlt?"
   ]
  },
  {
   "cell_type": "markdown",
   "metadata": {},
   "source": [
    "<p>Der 'Citybike Wien'-Nutzer welcher das System innerhalb der beiden Jahren am meisten genutzt hat, fuhr insgesamt 1790 Fahrten. Es wäre interessant zu sehen was ihn die Nutzung des Systems über die Zeitdauer der beiden Jahre gekostet hat.</p> \n",
    "<p>Hierfür ist es nötig den Kostenplan von Citybike Wien zu kennen. Dieser ist progressiv eingestellt, das heißt, dass die erste Stunde kostenlos ist. Die zweite Stunde kostet einen Euro, die dritte das doppelte und die vierte Stunde dann vier Euro. Jede weitere Stunde kostet jeweils vier Euro. </p>"
   ]
  },
  {
   "cell_type": "markdown",
   "metadata": {},
   "source": [
    "<i>Wir suchen alle Fahrten für den Power-User heraus:</i>"
   ]
  },
  {
   "cell_type": "code",
   "execution_count": 16,
   "metadata": {},
   "outputs": [],
   "source": [
    "df_user_1 = df_total[df_total['Subscriber_ID'] == '0x30EF7C4D0C1211B47ADBA3295EF47C61']"
   ]
  },
  {
   "cell_type": "markdown",
   "metadata": {},
   "source": [
    "<i>Wie oft hat der Nutzer das Limit der einen Stunde überschritten:</i> "
   ]
  },
  {
   "cell_type": "code",
   "execution_count": 17,
   "metadata": {
    "scrolled": true
   },
   "outputs": [
    {
     "data": {
      "text/plain": [
       "98"
      ]
     },
     "execution_count": 17,
     "metadata": {},
     "output_type": "execute_result"
    }
   ],
   "source": [
    "df_user_1[df_user_1['Fahrtdauer'] > pd.Timedelta('60 min')].size"
   ]
  },
  {
   "cell_type": "markdown",
   "metadata": {},
   "source": [
    "<i>Gab es Fälle bei denen die Fahrt länger als zwei Stunden dauerte:</i>"
   ]
  },
  {
   "cell_type": "code",
   "execution_count": 18,
   "metadata": {},
   "outputs": [
    {
     "data": {
      "text/plain": [
       "0"
      ]
     },
     "execution_count": 18,
     "metadata": {},
     "output_type": "execute_result"
    }
   ],
   "source": [
    "df_user_1[df_user_1['Fahrtdauer'] > pd.Timedelta('120 min')].size"
   ]
  },
  {
   "cell_type": "markdown",
   "metadata": {},
   "source": [
    "<div>Insgesamt fielen 98 kostenpflichtige Fahrten an welche weniger als zwei Stunden gedauert haben. Somit hat der Anwender insgesamt 98 Euro für die Nutzung des Systems für die Zeitdauer der beiden Jahren bezahlt da jede Fahrt genau einen Euro gekostet hat. </div>\n",
    "\n",
    "<u>Im Schnitt hat der oder die NutzerIn ~ 5,5 Cent für jede Fahrt bezahlt. </u>\n"
   ]
  },
  {
   "cell_type": "markdown",
   "metadata": {},
   "source": [
    "<hr/>\n",
    "## Welchen Umsatz hat das System für das Jahr 2016 bzw. 2017 durch Einnahmen aus Fahrtpreisen und Gebühren generiert?"
   ]
  },
  {
   "cell_type": "markdown",
   "metadata": {},
   "source": [
    "Der Betreiber von CityBike Wien, die Gewista GmbH wählt ein hybrides Finanzierungsmodell. Das heißt, dass sich das System nicht nur aus den Beiträgen der einzelnen Nutzer finanziert, sondern auch aus Werbungen welche auf den Fahrrädern angezeigt werden. \n",
    "\n",
    "Wir untersuchen nun die Einnahmen welche durch die Nutzergemeinde des Systems entsteht. Dies ist durch die Kenntnis des Kostenmodells und der Länge der einzelnen Fahrten möglich. Die Anmeldegebühr von einem Euro wird nicht mit in die Berechnung einbezogen da aus dem Datenset nicht bekannt ist wann sich der Nutzer das erste Mal registriert hat. Somit könnte es sein, dass die Anmeldegebühr nicht in den Jahren 2016 oder 2017 verrechnet wurde."
   ]
  },
  {
   "cell_type": "markdown",
   "metadata": {},
   "source": [
    "<i>Um den Fahrtpreis je Fahrt und ggf. die anfallende Gebühr zu berechnen ist es nötig Funktionen zu verwenden:</i>"
   ]
  },
  {
   "cell_type": "code",
   "execution_count": 19,
   "metadata": {},
   "outputs": [],
   "source": [
    "def calculate_fare(fahrtdauer):\n",
    "    if(fahrtdauer < pd.Timedelta('60 min')):        \n",
    "        return int(0)\n",
    "    elif( (fahrtdauer > pd.Timedelta('60 min')) & (fahrtdauer < pd.Timedelta('120 min'))):\n",
    "        return int(1)\n",
    "    elif( (fahrtdauer > pd.Timedelta('120 min')) & (fahrtdauer < pd.Timedelta('180 min'))):\n",
    "        return int(3)\n",
    "    elif( (fahrtdauer > pd.Timedelta('180 min')) & (fahrtdauer < pd.Timedelta('240 min'))):\n",
    "        return int(7)\n",
    "    elif((fahrtdauer > pd.Timedelta('240 min')) & (fahrtdauer < pd.Timedelta('7200 min'))):\n",
    "        return ( int(7) +  ((math.ceil(fahrtdauer.total_seconds() // 3600))-3)*4)\n",
    "    elif(fahrtdauer > pd.Timedelta('7200 min')):\n",
    "        return int(600)\n",
    "    \n",
    "def calculate_fee(endstation):\n",
    "    if(endstation == 11):\n",
    "        return int(20)\n",
    "    else:\n",
    "        return int(0)"
   ]
  },
  {
   "cell_type": "markdown",
   "metadata": {},
   "source": [
    "<i>Die 'calculate_fare'-Funktion wird angewendet um den Fahrtpreis zu berechnen'</i>"
   ]
  },
  {
   "cell_type": "code",
   "execution_count": 20,
   "metadata": {},
   "outputs": [],
   "source": [
    "df2016['Fahrtpreis'] = df2016['Fahrtdauer'].apply(calculate_fare)\n",
    "\n",
    "df2017['Fahrtpreis'] = df2017['Fahrtdauer'].apply(calculate_fare)\n",
    "\n",
    "df_total_cleansed['Fahrtpreis'] = df_total_cleansed['Fahrtdauer'].apply(calculate_fare)"
   ]
  },
  {
   "cell_type": "markdown",
   "metadata": {},
   "source": [
    "Außerdem verrechnet der Betreiber von CityBike Wien eine Gebühr von 20 Euro sollte der Nutzer das Fahrrad nicht an einer \n",
    "Docking-Station returnieren. Fahrten die nicht an einer spezifischen Docking-Station enden werden mit der Endstation_ID   \n",
    "'11' markiert. \n",
    "\n",
    "Hierfür spricht die Tatsache, dass alle Fahrten/Entleihungen bei denen ein Fahrrad entwendet wurde in der Endstation '11' enden. (Siehe folgenden Abschnitt)"
   ]
  },
  {
   "cell_type": "markdown",
   "metadata": {},
   "source": [
    "<i>Eine Station mit der ID '11' ist in der Liste der Stationen nicht zu finden:</i>"
   ]
  },
  {
   "cell_type": "code",
   "execution_count": 21,
   "metadata": {},
   "outputs": [
    {
     "data": {
      "text/plain": [
       "0"
      ]
     },
     "execution_count": 21,
     "metadata": {},
     "output_type": "execute_result"
    }
   ],
   "source": [
    "stations_dataframe[(stations_dataframe['id']==11) | (stations_dataframe['internal_id']==11)].size"
   ]
  },
  {
   "cell_type": "markdown",
   "metadata": {},
   "source": [
    "Daher gilt es noch eine zusätzliche Spalte namens 'Gebuehr' zum DataFrame hinzuzufügen. Diese kann die Werte 0 oder 20 beinhalten und gibt an ob ein Fahrrad wie vorgeschrieben an eine Docking-Station returniert wurde."
   ]
  },
  {
   "cell_type": "markdown",
   "metadata": {},
   "source": [
    "<i>Die 'calculate_fee'-Funktion wird angewendet um die Gebühr zu berechnen'</i>"
   ]
  },
  {
   "cell_type": "code",
   "execution_count": 22,
   "metadata": {},
   "outputs": [],
   "source": [
    "df2016['Gebuehr'] = df2016['Endstation_ID'].apply(calculate_fee)\n",
    "\n",
    "df2017['Gebuehr'] = df2017['Endstation_ID'].apply(calculate_fee)\n",
    "\n",
    "df_total_cleansed['Gebuehr'] = df_total_cleansed['Endstation_ID'].apply(calculate_fee)"
   ]
  },
  {
   "cell_type": "markdown",
   "metadata": {},
   "source": [
    "<i>Umsatz aus Fahrtpreisen und Gebühren 2016:</i>"
   ]
  },
  {
   "cell_type": "code",
   "execution_count": 23,
   "metadata": {},
   "outputs": [
    {
     "data": {
      "text/plain": [
       "206331.0"
      ]
     },
     "execution_count": 23,
     "metadata": {},
     "output_type": "execute_result"
    }
   ],
   "source": [
    "df2016['Fahrtpreis'].sum() + df2016['Gebuehr'].sum()"
   ]
  },
  {
   "cell_type": "markdown",
   "metadata": {},
   "source": [
    "<i>Umsatz aus Fahrtpreisen und Gebühren 2017:</i>"
   ]
  },
  {
   "cell_type": "code",
   "execution_count": 24,
   "metadata": {},
   "outputs": [
    {
     "data": {
      "text/plain": [
       "202436.0"
      ]
     },
     "execution_count": 24,
     "metadata": {},
     "output_type": "execute_result"
    }
   ],
   "source": [
    "df2017['Fahrtpreis'].sum() + df2017['Gebuehr'].sum()"
   ]
  },
  {
   "cell_type": "markdown",
   "metadata": {},
   "source": [
    "<hr/>\n",
    "## Wie viele Fahrräder wurden 2016/2017 entwendet?"
   ]
  },
  {
   "cell_type": "markdown",
   "metadata": {},
   "source": [
    "<ul>\n",
    "<li><h3>Für das Jahr 2016</h3></li>\n",
    "</ul>"
   ]
  },
  {
   "cell_type": "markdown",
   "metadata": {},
   "source": [
    "Auf der Webseite von CityBike Wien wird angegebeben, dass eine Gebühr von 600 Euro verrechnet wird sollte das Fahrrad nicht innerhalb von 120 Stunden (5 Tagen) zurückgegeben werden. Ob aus Gründen von Diebstahl oder Zeitüberschreitung spielt keine Rolle. Nun kann es passieren, dass ein Nutzer das Zeitlimit von 120 Stunden überschreitet ohne die Absicht das Fahrrad zu stehlen. In diesem Falle wird die Gebühr von 600 Euro verrechnet, allerdings taucht das Fahrrad im System wieder auf.\n",
    "\n",
    "Der oben genannte Fall ist von Diebstahl zu unterscheiden, da die Person das Fahrrad wieder zurückgibt. Diebstahl hingegen kann man daran erkennen, dass das Fahrrad (Fahrrad_ID) für zukünftige Fahrten nicht mehr benutzt wird und somit im System nicht mehr auftritt. "
   ]
  },
  {
   "cell_type": "markdown",
   "metadata": {},
   "source": [
    "<i>Suche alle Entleihungen welche die 120-Stundengrenze überschreiten:</i>"
   ]
  },
  {
   "cell_type": "code",
   "execution_count": 25,
   "metadata": {
    "scrolled": true
   },
   "outputs": [
    {
     "data": {
      "text/html": [
       "<div>\n",
       "<style scoped>\n",
       "    .dataframe tbody tr th:only-of-type {\n",
       "        vertical-align: middle;\n",
       "    }\n",
       "\n",
       "    .dataframe tbody tr th {\n",
       "        vertical-align: top;\n",
       "    }\n",
       "\n",
       "    .dataframe thead th {\n",
       "        text-align: right;\n",
       "    }\n",
       "</style>\n",
       "<table border=\"1\" class=\"dataframe\">\n",
       "  <thead>\n",
       "    <tr style=\"text-align: right;\">\n",
       "      <th></th>\n",
       "      <th>Startdatum</th>\n",
       "      <th>Enddatum</th>\n",
       "      <th>Anfangsstation_ID</th>\n",
       "      <th>Endstation_ID</th>\n",
       "      <th>Fahrrad_ID</th>\n",
       "      <th>Subscriber_ID</th>\n",
       "      <th>Fahrtdauer</th>\n",
       "      <th>Fahrtpreis</th>\n",
       "      <th>Gebuehr</th>\n",
       "    </tr>\n",
       "  </thead>\n",
       "  <tbody>\n",
       "    <tr>\n",
       "      <th>135485</th>\n",
       "      <td>2016-04-04 03:16:37</td>\n",
       "      <td>2016-04-10 11:41:28</td>\n",
       "      <td>1033</td>\n",
       "      <td>11</td>\n",
       "      <td>3392</td>\n",
       "      <td>0x07C6A16845C84A5C763075C0AC4D68D8</td>\n",
       "      <td>6 days 08:24:51</td>\n",
       "      <td>600.0</td>\n",
       "      <td>20</td>\n",
       "    </tr>\n",
       "    <tr>\n",
       "      <th>135486</th>\n",
       "      <td>2016-04-04 03:20:11</td>\n",
       "      <td>2016-04-10 11:41:28</td>\n",
       "      <td>1033</td>\n",
       "      <td>11</td>\n",
       "      <td>3191</td>\n",
       "      <td>0x07C6A16845C84A5C763075C0AC4D68D8</td>\n",
       "      <td>6 days 08:21:17</td>\n",
       "      <td>600.0</td>\n",
       "      <td>20</td>\n",
       "    </tr>\n",
       "    <tr>\n",
       "      <th>568650</th>\n",
       "      <td>2016-07-18 01:02:17</td>\n",
       "      <td>2016-07-24 09:20:04</td>\n",
       "      <td>1032</td>\n",
       "      <td>11</td>\n",
       "      <td>1982</td>\n",
       "      <td>0x79FDEEFD920B3B353F3757273D97529B</td>\n",
       "      <td>6 days 08:17:47</td>\n",
       "      <td>600.0</td>\n",
       "      <td>20</td>\n",
       "    </tr>\n",
       "    <tr>\n",
       "      <th>708929</th>\n",
       "      <td>2016-08-16 15:36:22</td>\n",
       "      <td>2016-08-22 23:51:36</td>\n",
       "      <td>1086</td>\n",
       "      <td>11</td>\n",
       "      <td>1948</td>\n",
       "      <td>0x57C66E447D19E7F0EEC1B89995018D6C</td>\n",
       "      <td>6 days 08:15:14</td>\n",
       "      <td>600.0</td>\n",
       "      <td>20</td>\n",
       "    </tr>\n",
       "    <tr>\n",
       "      <th>965089</th>\n",
       "      <td>2016-10-21 12:18:58</td>\n",
       "      <td>2016-10-27 20:39:43</td>\n",
       "      <td>1128</td>\n",
       "      <td>11</td>\n",
       "      <td>2190</td>\n",
       "      <td>0xCB802DA7BE64212DA28B2B6602D01B21</td>\n",
       "      <td>6 days 08:20:45</td>\n",
       "      <td>600.0</td>\n",
       "      <td>20</td>\n",
       "    </tr>\n",
       "  </tbody>\n",
       "</table>\n",
       "</div>"
      ],
      "text/plain": [
       "                Startdatum            Enddatum  Anfangsstation_ID  \\\n",
       "135485 2016-04-04 03:16:37 2016-04-10 11:41:28               1033   \n",
       "135486 2016-04-04 03:20:11 2016-04-10 11:41:28               1033   \n",
       "568650 2016-07-18 01:02:17 2016-07-24 09:20:04               1032   \n",
       "708929 2016-08-16 15:36:22 2016-08-22 23:51:36               1086   \n",
       "965089 2016-10-21 12:18:58 2016-10-27 20:39:43               1128   \n",
       "\n",
       "        Endstation_ID  Fahrrad_ID                       Subscriber_ID  \\\n",
       "135485             11        3392  0x07C6A16845C84A5C763075C0AC4D68D8   \n",
       "135486             11        3191  0x07C6A16845C84A5C763075C0AC4D68D8   \n",
       "568650             11        1982  0x79FDEEFD920B3B353F3757273D97529B   \n",
       "708929             11        1948  0x57C66E447D19E7F0EEC1B89995018D6C   \n",
       "965089             11        2190  0xCB802DA7BE64212DA28B2B6602D01B21   \n",
       "\n",
       "            Fahrtdauer  Fahrtpreis  Gebuehr  \n",
       "135485 6 days 08:24:51       600.0       20  \n",
       "135486 6 days 08:21:17       600.0       20  \n",
       "568650 6 days 08:17:47       600.0       20  \n",
       "708929 6 days 08:15:14       600.0       20  \n",
       "965089 6 days 08:20:45       600.0       20  "
      ]
     },
     "execution_count": 25,
     "metadata": {},
     "output_type": "execute_result"
    }
   ],
   "source": [
    "df2016[df2016['Fahrtdauer'] > pd.Timedelta('7200 min')]"
   ]
  },
  {
   "cell_type": "markdown",
   "metadata": {},
   "source": [
    "Die Fahrräder mit den IDs: 3392, 3191, 1948, 2190 wurden nach dem Enddatum im System nicht wieder benutzt, somit können wir davon ausgehen, dass diese entwendet wurden. Das Fahrrad mit der ID: 1982 taucht im System wieder auf. Der Nutzer hat die Frist von 120 Stunden überschritten. In diesem Fall fällt die Pauschale von 600 Euro an. Für diese Berechnung wird davon ausgegangen, dass die Kosten für die Überschreitung der maximalen Frist die gleichen sind wie im Falle, dass ein Fahrrad entwendet wird.\n",
    "\n",
    "Interessanterweise wurden die Fahrräder mit den IDs 3392 und 3191 von der gleichen Person ausgeliehen und darauffolgends entwendet."
   ]
  },
  {
   "cell_type": "markdown",
   "metadata": {},
   "source": [
    "<u>Somit wurden 2016 vier Fahrräder entwendet</u>"
   ]
  },
  {
   "cell_type": "markdown",
   "metadata": {},
   "source": [
    "<ul>\n",
    "<li><h3>Für das Jahr 2017</h3></li>\n",
    "</ul>"
   ]
  },
  {
   "cell_type": "code",
   "execution_count": 26,
   "metadata": {
    "scrolled": true
   },
   "outputs": [
    {
     "data": {
      "text/html": [
       "<div>\n",
       "<style scoped>\n",
       "    .dataframe tbody tr th:only-of-type {\n",
       "        vertical-align: middle;\n",
       "    }\n",
       "\n",
       "    .dataframe tbody tr th {\n",
       "        vertical-align: top;\n",
       "    }\n",
       "\n",
       "    .dataframe thead th {\n",
       "        text-align: right;\n",
       "    }\n",
       "</style>\n",
       "<table border=\"1\" class=\"dataframe\">\n",
       "  <thead>\n",
       "    <tr style=\"text-align: right;\">\n",
       "      <th></th>\n",
       "      <th>Startdatum</th>\n",
       "      <th>Enddatum</th>\n",
       "      <th>Anfangsstation_ID</th>\n",
       "      <th>Endstation_ID</th>\n",
       "      <th>Fahrrad_ID</th>\n",
       "      <th>Subscriber_ID</th>\n",
       "      <th>Fahrtdauer</th>\n",
       "      <th>Fahrtpreis</th>\n",
       "      <th>Gebuehr</th>\n",
       "    </tr>\n",
       "  </thead>\n",
       "  <tbody>\n",
       "    <tr>\n",
       "      <th>16034</th>\n",
       "      <td>2017-01-18 20:54:05</td>\n",
       "      <td>2017-01-25 05:14:14</td>\n",
       "      <td>1054</td>\n",
       "      <td>11</td>\n",
       "      <td>2138</td>\n",
       "      <td>0x7DBDD6C7B20622B8AD58D70B9D431BB4</td>\n",
       "      <td>6 days 08:20:09</td>\n",
       "      <td>600.0</td>\n",
       "      <td>20</td>\n",
       "    </tr>\n",
       "    <tr>\n",
       "      <th>19124</th>\n",
       "      <td>2017-04-05 03:35:45</td>\n",
       "      <td>2017-04-11 11:51:48</td>\n",
       "      <td>1112</td>\n",
       "      <td>11</td>\n",
       "      <td>2408</td>\n",
       "      <td>0xF7521820428B7F25DBA5345EDDA1025C</td>\n",
       "      <td>6 days 08:16:03</td>\n",
       "      <td>600.0</td>\n",
       "      <td>20</td>\n",
       "    </tr>\n",
       "    <tr>\n",
       "      <th>22298</th>\n",
       "      <td>2017-05-21 01:18:01</td>\n",
       "      <td>2017-05-27 09:34:32</td>\n",
       "      <td>1025</td>\n",
       "      <td>11</td>\n",
       "      <td>2075</td>\n",
       "      <td>0x88F29882B4614746033E13829EBEBD1C</td>\n",
       "      <td>6 days 08:16:31</td>\n",
       "      <td>600.0</td>\n",
       "      <td>20</td>\n",
       "    </tr>\n",
       "    <tr>\n",
       "      <th>28927</th>\n",
       "      <td>2017-08-27 02:08:03</td>\n",
       "      <td>2017-09-02 10:19:44</td>\n",
       "      <td>1055</td>\n",
       "      <td>11</td>\n",
       "      <td>3157</td>\n",
       "      <td>0xB60B30694F42EA56652BEFEA6A3BD249</td>\n",
       "      <td>6 days 08:11:41</td>\n",
       "      <td>600.0</td>\n",
       "      <td>20</td>\n",
       "    </tr>\n",
       "    <tr>\n",
       "      <th>29801</th>\n",
       "      <td>2017-09-20 13:42:46</td>\n",
       "      <td>2017-09-26 21:57:17</td>\n",
       "      <td>1145</td>\n",
       "      <td>11</td>\n",
       "      <td>55</td>\n",
       "      <td>0x3F2B5608F8E8A6B9DD556CECFA87E3FC</td>\n",
       "      <td>6 days 08:14:31</td>\n",
       "      <td>600.0</td>\n",
       "      <td>20</td>\n",
       "    </tr>\n",
       "    <tr>\n",
       "      <th>30038</th>\n",
       "      <td>2017-09-29 11:19:42</td>\n",
       "      <td>2017-10-05 19:33:43</td>\n",
       "      <td>1077</td>\n",
       "      <td>11</td>\n",
       "      <td>2065</td>\n",
       "      <td>0x17779C3C345DE2E12172556CF244EFE3</td>\n",
       "      <td>6 days 08:14:01</td>\n",
       "      <td>600.0</td>\n",
       "      <td>20</td>\n",
       "    </tr>\n",
       "    <tr>\n",
       "      <th>30047</th>\n",
       "      <td>2017-09-29 14:31:20</td>\n",
       "      <td>2017-10-05 22:49:35</td>\n",
       "      <td>1115</td>\n",
       "      <td>11</td>\n",
       "      <td>2271</td>\n",
       "      <td>0x1E10D94BEEB562ADCC948444A85FE9BF</td>\n",
       "      <td>6 days 08:18:15</td>\n",
       "      <td>600.0</td>\n",
       "      <td>20</td>\n",
       "    </tr>\n",
       "    <tr>\n",
       "      <th>31389</th>\n",
       "      <td>2017-12-09 02:07:45</td>\n",
       "      <td>2017-12-15 10:29:34</td>\n",
       "      <td>1075</td>\n",
       "      <td>11</td>\n",
       "      <td>2798</td>\n",
       "      <td>0x2F27BFD4FC7D8FEC7E302C5339CC63F5</td>\n",
       "      <td>6 days 08:21:49</td>\n",
       "      <td>600.0</td>\n",
       "      <td>20</td>\n",
       "    </tr>\n",
       "    <tr>\n",
       "      <th>196136</th>\n",
       "      <td>2017-07-22 02:52:42</td>\n",
       "      <td>2017-07-27 10:57:33</td>\n",
       "      <td>1124</td>\n",
       "      <td>1047</td>\n",
       "      <td>3147</td>\n",
       "      <td>0x0834153F0DFCB7459BD1A51702EFD545</td>\n",
       "      <td>5 days 08:04:51</td>\n",
       "      <td>600.0</td>\n",
       "      <td>0</td>\n",
       "    </tr>\n",
       "    <tr>\n",
       "      <th>310575</th>\n",
       "      <td>2017-05-05 18:37:44</td>\n",
       "      <td>2017-05-11 18:35:36</td>\n",
       "      <td>1140</td>\n",
       "      <td>1044</td>\n",
       "      <td>3640</td>\n",
       "      <td>0x7A6B8C49112A4CAD9D873101D28EAFE0</td>\n",
       "      <td>5 days 23:57:52</td>\n",
       "      <td>600.0</td>\n",
       "      <td>0</td>\n",
       "    </tr>\n",
       "  </tbody>\n",
       "</table>\n",
       "</div>"
      ],
      "text/plain": [
       "                Startdatum            Enddatum  Anfangsstation_ID  \\\n",
       "16034  2017-01-18 20:54:05 2017-01-25 05:14:14               1054   \n",
       "19124  2017-04-05 03:35:45 2017-04-11 11:51:48               1112   \n",
       "22298  2017-05-21 01:18:01 2017-05-27 09:34:32               1025   \n",
       "28927  2017-08-27 02:08:03 2017-09-02 10:19:44               1055   \n",
       "29801  2017-09-20 13:42:46 2017-09-26 21:57:17               1145   \n",
       "30038  2017-09-29 11:19:42 2017-10-05 19:33:43               1077   \n",
       "30047  2017-09-29 14:31:20 2017-10-05 22:49:35               1115   \n",
       "31389  2017-12-09 02:07:45 2017-12-15 10:29:34               1075   \n",
       "196136 2017-07-22 02:52:42 2017-07-27 10:57:33               1124   \n",
       "310575 2017-05-05 18:37:44 2017-05-11 18:35:36               1140   \n",
       "\n",
       "        Endstation_ID  Fahrrad_ID                       Subscriber_ID  \\\n",
       "16034              11        2138  0x7DBDD6C7B20622B8AD58D70B9D431BB4   \n",
       "19124              11        2408  0xF7521820428B7F25DBA5345EDDA1025C   \n",
       "22298              11        2075  0x88F29882B4614746033E13829EBEBD1C   \n",
       "28927              11        3157  0xB60B30694F42EA56652BEFEA6A3BD249   \n",
       "29801              11          55  0x3F2B5608F8E8A6B9DD556CECFA87E3FC   \n",
       "30038              11        2065  0x17779C3C345DE2E12172556CF244EFE3   \n",
       "30047              11        2271  0x1E10D94BEEB562ADCC948444A85FE9BF   \n",
       "31389              11        2798  0x2F27BFD4FC7D8FEC7E302C5339CC63F5   \n",
       "196136           1047        3147  0x0834153F0DFCB7459BD1A51702EFD545   \n",
       "310575           1044        3640  0x7A6B8C49112A4CAD9D873101D28EAFE0   \n",
       "\n",
       "            Fahrtdauer  Fahrtpreis  Gebuehr  \n",
       "16034  6 days 08:20:09       600.0       20  \n",
       "19124  6 days 08:16:03       600.0       20  \n",
       "22298  6 days 08:16:31       600.0       20  \n",
       "28927  6 days 08:11:41       600.0       20  \n",
       "29801  6 days 08:14:31       600.0       20  \n",
       "30038  6 days 08:14:01       600.0       20  \n",
       "30047  6 days 08:18:15       600.0       20  \n",
       "31389  6 days 08:21:49       600.0       20  \n",
       "196136 5 days 08:04:51       600.0        0  \n",
       "310575 5 days 23:57:52       600.0        0  "
      ]
     },
     "execution_count": 26,
     "metadata": {},
     "output_type": "execute_result"
    }
   ],
   "source": [
    "df2017[df2017['Fahrtdauer'] > pd.Timedelta('7200 min')]"
   ]
  },
  {
   "cell_type": "code",
   "execution_count": null,
   "metadata": {},
   "outputs": [],
   "source": []
  },
  {
   "cell_type": "code",
   "execution_count": null,
   "metadata": {},
   "outputs": [],
   "source": []
  },
  {
   "cell_type": "code",
   "execution_count": null,
   "metadata": {},
   "outputs": [],
   "source": []
  },
  {
   "cell_type": "markdown",
   "metadata": {},
   "source": [
    "<hr/>\n",
    "## Visualisierung der Daten"
   ]
  },
  {
   "cell_type": "markdown",
   "metadata": {},
   "source": [
    "### Was ist das Verhältnis zwischen einmaligen Benutzern und regelmäßigen Nutzern (2016+2017)"
   ]
  },
  {
   "cell_type": "markdown",
   "metadata": {},
   "source": [
    "<i>Um die Nutzer in Kategorien zu unterteilen muss zuerst nach 'Subscriber_ID' gruppiert werden und eine Aggregatfunktion benutzt werden um die Anzahl der Fahrten je Nutzer zu erhalten:</i>"
   ]
  },
  {
   "cell_type": "code",
   "execution_count": 27,
   "metadata": {},
   "outputs": [],
   "source": [
    "df_total_groups = df_total_cleansed.groupby('Subscriber_ID')\n",
    "\n",
    "aggregated_by_subscriber_series    = df_total_groups['Fahrrad_ID'].agg(np.size)\n",
    "\n",
    "aggregated_by_subscriber_dataframe = aggregated_by_subscriber_series.to_frame('ANZAHL_FAHRTEN')"
   ]
  },
  {
   "cell_type": "markdown",
   "metadata": {},
   "source": [
    "<i>Danach gilt es eine Funktion zu Kategorisierungszwecken zu definieren damit man die Nutzer Kategorien nach Anzahl der unternommenen Fahrten einteilen kann: </i> "
   ]
  },
  {
   "cell_type": "code",
   "execution_count": 28,
   "metadata": {},
   "outputs": [],
   "source": [
    "def categorize(number_trips):\n",
    "    if(number_trips == 1):\n",
    "        return 'A'\n",
    "    elif((number_trips > 1) & (number_trips < 11)):\n",
    "        return 'B'\n",
    "    elif((number_trips > 10) & (number_trips < 51)):\n",
    "        return 'C'\n",
    "    elif((number_trips > 50) & (number_trips < 101)):\n",
    "        return 'D'\n",
    "    elif((number_trips > 100) & (number_trips < 2000)):\n",
    "        return 'E'"
   ]
  },
  {
   "cell_type": "markdown",
   "metadata": {},
   "source": [
    "Die Funktion wird auf die Spalte 'ANZAHL_FAHRTEN' angewendet wodurch eine neue Spalte namens 'Kategorie' entsteht.\n",
    "\n",
    "Nach Erstellung der Spalte 'Kategorie' wird diese gruppiert und die Anzahl der Subscriber innerhalb dieser Gruppen wird mithilfe np.size in ein DataFrame aggregiert. Dieses DataFrame wird zu Visualisierungszwecken in ein Series-Objekt transformiert."
   ]
  },
  {
   "cell_type": "code",
   "execution_count": 29,
   "metadata": {
    "scrolled": true
   },
   "outputs": [],
   "source": [
    "aggregated_by_subscriber_dataframe['Kategorie'] = aggregated_by_subscriber_dataframe['ANZAHL_FAHRTEN'].apply(categorize)\n",
    "\n",
    "aggregated_by_subscriber_dataframe['Kategorie'] = aggregated_by_subscriber_dataframe['Kategorie']\n",
    "\n",
    "grouped_by_category_dataframe = aggregated_by_subscriber_dataframe.groupby('Kategorie')\n",
    "\n",
    "aggregated_by_category_dataframe = grouped_by_category_dataframe.agg(np.size)\n",
    "\n",
    "aggregated_by_category_series = aggregated_by_category_dataframe['ANZAHL_FAHRTEN']"
   ]
  },
  {
   "cell_type": "markdown",
   "metadata": {},
   "source": [
    "<i>Nachdem die transformierten Daten zur Verfügung stehen, werden diese visualisiert:</i>"
   ]
  },
  {
   "cell_type": "code",
   "execution_count": 30,
   "metadata": {
    "scrolled": true
   },
   "outputs": [
    {
     "data": {
      "image/png": "[encoded data removed]",
      "text/plain": [
       "<matplotlib.figure.Figure at 0x1c15f04ff60>"
      ]
     },
     "metadata": {},
     "output_type": "display_data"
    }
   ],
   "source": [
    "plt.figure(figsize=(8,5))\n",
    "\n",
    "sns.set_style(\"whitegrid\")\n",
    "sns.set_context(\"talk\")\n",
    "\n",
    "index = ['1', '2-10', '11-50', '51-100', '>100']\n",
    "\n",
    "ax = sns.barplot(aggregated_by_category_series.index, aggregated_by_category_series, alpha=0.9 )\n",
    "\n",
    "ax.set_xlabel('Kategorie')\n",
    "ax.set_ylabel('Nutzeranzahl')\n",
    "ax.set_xticklabels(index, rotation='horizontal', fontsize=12)\n",
    "ax.set_title('Nutzer nach Verwendung')\n",
    "\n",
    "plt.show()"
   ]
  },
  {
   "cell_type": "markdown",
   "metadata": {},
   "source": [
    "<u>Das Balkendiagramm zeigt die Verteilung der Nutzer nach Nutzungsverhalten über die Dauer der beiden Jahre</u> "
   ]
  },
  {
   "cell_type": "markdown",
   "metadata": {},
   "source": [
    "## Was ist die Auslastung des Systems nach Monat und Jahr?"
   ]
  },
  {
   "cell_type": "markdown",
   "metadata": {},
   "source": [
    "<i>Eine Kopie der oben bereinigten DataFrames wird erstellt:</i>"
   ]
  },
  {
   "cell_type": "code",
   "execution_count": 31,
   "metadata": {},
   "outputs": [],
   "source": [
    "df2016_copy = df2016\n",
    "df2017_copy = df2017"
   ]
  },
  {
   "cell_type": "markdown",
   "metadata": {},
   "source": [
    "<i>Damit pd.Grouper angewendet werden kann muss der Index ein DateTimeIndex sein:</i>"
   ]
  },
  {
   "cell_type": "code",
   "execution_count": 32,
   "metadata": {},
   "outputs": [],
   "source": [
    "df2016_copy.index = df2016_copy['Startdatum'] \n",
    "df2017_copy.index = df2017_copy['Startdatum']"
   ]
  },
  {
   "cell_type": "markdown",
   "metadata": {},
   "source": [
    "<i>Die Trips werden zuerst für das Jahr 2016 je Monat gruppiert und aggregiert:</i>"
   ]
  },
  {
   "cell_type": "code",
   "execution_count": 33,
   "metadata": {},
   "outputs": [],
   "source": [
    "df2016_grouped_month = df2016.groupby(pd.Grouper(freq='M'))\n",
    "\n",
    "aggregated_by_month_2016_dataframe = df2016_grouped_month.agg(np.size)\n",
    "\n",
    "aggregated_by_month_2016 = aggregated_by_month_2016_dataframe['Startdatum']\n",
    "\n",
    "agg_sechzehn = aggregated_by_month_2016.to_frame('Anzahl_Fahrten_Monat')"
   ]
  },
  {
   "cell_type": "markdown",
   "metadata": {},
   "source": [
    "<i>Nun wird das Gleiche für das Jahr 2017 gemacht:</i>"
   ]
  },
  {
   "cell_type": "code",
   "execution_count": 34,
   "metadata": {},
   "outputs": [],
   "source": [
    "df2017_grouped_month = df2017.groupby(pd.Grouper(freq='M'))\n",
    "\n",
    "aggregated_by_month_2017_dataframe = df2017_grouped_month.agg(np.size)\n",
    "\n",
    "aggregated_by_month_2017 = aggregated_by_month_2017_dataframe['Startdatum']\n",
    "\n",
    "agg_siebzehn = aggregated_by_month_2017.to_frame('Anzahl_Fahrten_Monat')"
   ]
  },
  {
   "cell_type": "markdown",
   "metadata": {},
   "source": [
    "<i>Die beiden DataFrames werden zu Series-Objekten transformiert da einfacher visualisierbar:</i>"
   ]
  },
  {
   "cell_type": "code",
   "execution_count": 35,
   "metadata": {},
   "outputs": [],
   "source": [
    "agg_sechzehn_series  = agg_sechzehn['Anzahl_Fahrten_Monat']\n",
    "agg_siebzehn_series  = agg_siebzehn['Anzahl_Fahrten_Monat']"
   ]
  },
  {
   "cell_type": "markdown",
   "metadata": {},
   "source": [
    "<i>Nachdem die transformierten Daten zur Verfügung stehen, werden diese visualisiert:</i>"
   ]
  },
  {
   "cell_type": "code",
   "execution_count": 36,
   "metadata": {},
   "outputs": [
    {
     "data": {
      "image/png": "[encoded data removed]",
      "text/plain": [
       "<matplotlib.figure.Figure at 0x1c15f59b908>"
      ]
     },
     "metadata": {},
     "output_type": "display_data"
    }
   ],
   "source": [
    "fig_size = plt.rcParams[\"figure.figsize\"]\n",
    "fig_size[0] = 8.0\n",
    "fig_size[1] = 5.0\n",
    "\n",
    "sns.set_style(\"ticks\")\n",
    "sns.set_context(\"talk\")\n",
    "\n",
    "fig, ax = plt.subplots()\n",
    "index = np.arange(12)\n",
    "bar_breite = 0.4\n",
    "\n",
    "bars1 = ax.bar(index, agg_sechzehn_series, bar_breite, alpha=0.8, color='y')\n",
    "bars2 = ax.bar(index+bar_breite, agg_siebzehn_series, bar_breite, alpha=0.8, color='g')\n",
    "\n",
    "ax.set_xticks(index + bar_breite / 2)\n",
    "ax.set_title('Gegenüberstellung für 2016 und 2017')\n",
    "ax.set_xticklabels(('Jan','Feb','Mar','Apr','Mai','Jun','Jul','Aug','Sep','Okt','Nov','Dez'))\n",
    "ax.set_ylabel('Fahrten pro Monat')\n",
    "ax.legend((bars1, bars2), ('2016', '2017'))\n",
    "\n",
    "plt.show()"
   ]
  },
  {
   "cell_type": "markdown",
   "metadata": {},
   "source": [
    "### Statistische Kennzahlen zur Fahrtdauer"
   ]
  },
  {
   "cell_type": "code",
   "execution_count": 37,
   "metadata": {},
   "outputs": [
    {
     "data": {
      "text/plain": [
       "count                   1897764\n",
       "mean     0 days 00:26:06.235559\n",
       "std      0 days 00:48:40.033084\n",
       "min      0 days 00:02:00.103000\n",
       "25%             0 days 00:09:42\n",
       "50%             0 days 00:16:22\n",
       "75%             0 days 00:28:21\n",
       "max             6 days 08:24:51\n",
       "Name: Fahrtdauer, dtype: object"
      ]
     },
     "execution_count": 37,
     "metadata": {},
     "output_type": "execute_result"
    }
   ],
   "source": [
    "df_total_cleansed['Fahrtdauer'].describe()"
   ]
  },
  {
   "cell_type": "markdown",
   "metadata": {},
   "source": [
    "### Statistische Kennzahlen zum Fahrtpreis 2016 bei Fahrten die mehr als 7 Euro gekostet haben"
   ]
  },
  {
   "cell_type": "code",
   "execution_count": 38,
   "metadata": {},
   "outputs": [
    {
     "data": {
      "text/plain": [
       "count    4220.000000\n",
       "mean       18.635308\n",
       "std        28.181630\n",
       "min        11.000000\n",
       "25%        11.000000\n",
       "50%        15.000000\n",
       "75%        19.000000\n",
       "max       600.000000\n",
       "Name: Fahrtpreis, dtype: float64"
      ]
     },
     "execution_count": 38,
     "metadata": {},
     "output_type": "execute_result"
    }
   ],
   "source": [
    "df2016[df2016['Fahrtpreis'] > 7]['Fahrtpreis'].describe()"
   ]
  },
  {
   "cell_type": "markdown",
   "metadata": {},
   "source": [
    "## Wie korrelieren die Daten miteinander?"
   ]
  }
 ],
 "metadata": {
  "kernelspec": {
   "display_name": "Python 3",
   "language": "python",
   "name": "python3"
  },
  "language_info": {
   "codemirror_mode": {
    "name": "ipython",
    "version": 3
   },
   "file_extension": ".py",
   "mimetype": "text/x-python",
   "name": "python",
   "nbconvert_exporter": "python",
   "pygments_lexer": "ipython3",
   "version": "3.6.4"
  }
 },
 "nbformat": 4,
 "nbformat_minor": 2
}
