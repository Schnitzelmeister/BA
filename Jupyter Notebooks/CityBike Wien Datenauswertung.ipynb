{
 "cells": [
  {
   "cell_type": "markdown",
   "metadata": {},
   "source": [
    "# CityBike Wien Datensetanalye für die Jahre 2016 und 2017"
   ]
  },
  {
   "cell_type": "markdown",
   "metadata": {},
   "source": [
    "== Inhalt und Struktur dieses Notebooks \n",
    "\n"
   ]
  },
  {
   "cell_type": "markdown",
   "metadata": {},
   "source": [
    "## Datenset importieren bereinigen und transformieren"
   ]
  },
  {
   "cell_type": "markdown",
   "metadata": {},
   "source": [
    "Die Daten werden zuerst eingelesen und nötige Transformationen werden vorgenommen. \n",
    "\n",
    "In erste Linie werden alle Fahrten die unter zwei Minuten dauern und an der gleichen Station enden aus dem Datenset herausgenommen da man davon ausgehen kann, dass der Nutzer das System nicht benutzt hat. "
   ]
  },
  {
   "cell_type": "code",
   "execution_count": 46,
   "metadata": {},
   "outputs": [],
   "source": [
    "%matplotlib inline\n",
    "import pandas as pd\n",
    "import datetime\n",
    "import numpy as np\n",
    "import matplotlib.pyplot as plt\n",
    "import seaborn as sns\n",
    "\n",
    "df2016 = pd.read_csv('CityBikeWien/2016trips.csv', error_bad_lines=False, parse_dates=['Startdatum', 'Enddatum'], delimiter=';')\n",
    "df2017 = pd.read_csv('CityBikeWien/2017trips.csv', error_bad_lines=False, parse_dates=['Startdatum', 'Enddatum'], delimiter=';')"
   ]
  },
  {
   "cell_type": "markdown",
   "metadata": {},
   "source": [
    "Nachdem die beiden DataFrames konkateniert wurden muss der Index neu gesetzt werden"
   ]
  },
  {
   "cell_type": "code",
   "execution_count": 28,
   "metadata": {},
   "outputs": [],
   "source": [
    "df_total = df2016.append(df2017)\n",
    "df_total.reset_index(drop=True)"
   ]
  },
  {
   "cell_type": "markdown",
   "metadata": {},
   "source": [
    "Neue Spalte für die Fahrtdauer hinzufügen"
   ]
  },
  {
   "cell_type": "code",
   "execution_count": null,
   "metadata": {},
   "outputs": [],
   "source": [
    "df_total['Fahrtdauer'] =  df_total['Enddatum'] - df_total['Startdatum']"
   ]
  },
  {
   "cell_type": "markdown",
   "metadata": {},
   "source": [
    "Uns interessieren nur Fahrten die länger als zwei Minuten dauern und gleichzeitig nicht an der gleichen Station beendet wurden"
   ]
  },
  {
   "cell_type": "code",
   "execution_count": 32,
   "metadata": {},
   "outputs": [],
   "source": [
    "df_total_cleansed = df_total[ (df_total['Fahrtdauer'] > pd.Timedelta('120 sec')) \n",
    "                            & (df_total['Anfangsstation_ID'] != df_total['Endstation_ID'])]"
   ]
  },
  {
   "cell_type": "markdown",
   "metadata": {},
   "source": [
    "Das bereinigte DataFrame enthält insgesamt 1.897.764 Einträge für die Jahre 2016 und 2017 - Siehe Beispiel"
   ]
  },
  {
   "cell_type": "code",
   "execution_count": 49,
   "metadata": {},
   "outputs": [
    {
     "name": "stdout",
     "output_type": "stream",
     "text": [
      "<class 'pandas.core.frame.DataFrame'>\n",
      "Int64Index: 1897764 entries, 1 to 1013368\n",
      "Data columns (total 7 columns):\n",
      "Startdatum           datetime64[ns]\n",
      "Enddatum             datetime64[ns]\n",
      "Anfangsstation_ID    int64\n",
      "Endstation_ID        int64\n",
      "Fahrrad_ID           int64\n",
      "Subscriber_ID        object\n",
      "Fahrtdauer           timedelta64[ns]\n",
      "dtypes: datetime64[ns](2), int64(3), object(1), timedelta64[ns](1)\n",
      "memory usage: 155.8+ MB\n"
     ]
    },
    {
     "data": {
      "text/html": [
       "<div>\n",
       "<style scoped>\n",
       "    .dataframe tbody tr th:only-of-type {\n",
       "        vertical-align: middle;\n",
       "    }\n",
       "\n",
       "    .dataframe tbody tr th {\n",
       "        vertical-align: top;\n",
       "    }\n",
       "\n",
       "    .dataframe thead th {\n",
       "        text-align: right;\n",
       "    }\n",
       "</style>\n",
       "<table border=\"1\" class=\"dataframe\">\n",
       "  <thead>\n",
       "    <tr style=\"text-align: right;\">\n",
       "      <th></th>\n",
       "      <th>Startdatum</th>\n",
       "      <th>Enddatum</th>\n",
       "      <th>Anfangsstation_ID</th>\n",
       "      <th>Endstation_ID</th>\n",
       "      <th>Fahrrad_ID</th>\n",
       "      <th>Subscriber_ID</th>\n",
       "      <th>Fahrtdauer</th>\n",
       "    </tr>\n",
       "  </thead>\n",
       "  <tbody>\n",
       "    <tr>\n",
       "      <th>1</th>\n",
       "      <td>2016-01-01 00:13:04</td>\n",
       "      <td>2016-01-01 00:38:05</td>\n",
       "      <td>1026</td>\n",
       "      <td>1100</td>\n",
       "      <td>2539</td>\n",
       "      <td>0x04084286D0CC7FA3973C16F8306802A1</td>\n",
       "      <td>00:25:01</td>\n",
       "    </tr>\n",
       "  </tbody>\n",
       "</table>\n",
       "</div>"
      ],
      "text/plain": [
       "           Startdatum            Enddatum  Anfangsstation_ID  Endstation_ID  \\\n",
       "1 2016-01-01 00:13:04 2016-01-01 00:38:05               1026           1100   \n",
       "\n",
       "   Fahrrad_ID                       Subscriber_ID Fahrtdauer  \n",
       "1        2539  0x04084286D0CC7FA3973C16F8306802A1   00:25:01  "
      ]
     },
     "execution_count": 49,
     "metadata": {},
     "output_type": "execute_result"
    }
   ],
   "source": [
    "df_total_cleansed.info()\n",
    "df_total_cleansed.head(1)"
   ]
  },
  {
   "cell_type": "markdown",
   "metadata": {},
   "source": [
    "## Finde die ersten 50 Benutzer nach Benutzung für den gesamten Zeitraum (2016+2017)"
   ]
  },
  {
   "cell_type": "markdown",
   "metadata": {},
   "source": [
    "\n",
    "In der folgenden Zelle wird das DataFrame anhand der 'Subscriber_ID' gruppiert. \n",
    "\n",
    "Darauffolgend wird eine Aggregatfunktion (np.size) auf das gruppierte Objekt angewendet um die Anzahl der Fahrten je Subscriber zu erhalten. Somit erhält man ein Series-Objekt welches sortiert werden muss. \n",
    "\n",
    "Um die Handhabung zu erleichtern wird das Series-Objekt zu einem DataFrame mit einer einzigen Spalte transformiert."
   ]
  },
  {
   "cell_type": "code",
   "execution_count": 51,
   "metadata": {},
   "outputs": [],
   "source": [
    "grouped_by_subscriber_groups              = df_total.groupby('Subscriber_ID')\n",
    "aggregated_by_subscriber_series           = grouped_by_subscriber_groups['Fahrrad_ID'].agg(np.size)\n",
    "aggregated_sorted_by_subscriber_series    = aggregated_by_subscriber_series.sort_values(ascending=False)\n",
    "aggregated_by_subscriber_dataframe        = aggregated_sorted_by_subscriber_series.to_frame('ANZAHL_FAHRTEN')"
   ]
  },
  {
   "cell_type": "markdown",
   "metadata": {},
   "source": [
    "Die ersten fünfzig Subscriber werden extrahiert und zudem wird eine Spalte mit dem Rang hinzugefügt. Danach wird das DataFrame ausgegeben. "
   ]
  },
  {
   "cell_type": "code",
   "execution_count": 52,
   "metadata": {
    "collapsed": true
   },
   "outputs": [
    {
     "name": "stderr",
     "output_type": "stream",
     "text": [
      "C:\\Users\\jzvonek\\AppData\\Local\\Continuum\\anaconda3\\lib\\site-packages\\ipykernel_launcher.py:2: SettingWithCopyWarning: \n",
      "A value is trying to be set on a copy of a slice from a DataFrame.\n",
      "Try using .loc[row_indexer,col_indexer] = value instead\n",
      "\n",
      "See the caveats in the documentation: http://pandas.pydata.org/pandas-docs/stable/indexing.html#indexing-view-versus-copy\n",
      "  \n"
     ]
    },
    {
     "data": {
      "text/html": [
       "<div>\n",
       "<style scoped>\n",
       "    .dataframe tbody tr th:only-of-type {\n",
       "        vertical-align: middle;\n",
       "    }\n",
       "\n",
       "    .dataframe tbody tr th {\n",
       "        vertical-align: top;\n",
       "    }\n",
       "\n",
       "    .dataframe thead th {\n",
       "        text-align: right;\n",
       "    }\n",
       "</style>\n",
       "<table border=\"1\" class=\"dataframe\">\n",
       "  <thead>\n",
       "    <tr style=\"text-align: right;\">\n",
       "      <th></th>\n",
       "      <th>ANZAHL_FAHRTEN</th>\n",
       "      <th>RANG</th>\n",
       "    </tr>\n",
       "    <tr>\n",
       "      <th>Subscriber_ID</th>\n",
       "      <th></th>\n",
       "      <th></th>\n",
       "    </tr>\n",
       "  </thead>\n",
       "  <tbody>\n",
       "    <tr>\n",
       "      <th>0x30EF7C4D0C1211B47ADBA3295EF47C61</th>\n",
       "      <td>1790</td>\n",
       "      <td>1</td>\n",
       "    </tr>\n",
       "    <tr>\n",
       "      <th>0xB9AF912E74C4F6602CF849721E28B621</th>\n",
       "      <td>1400</td>\n",
       "      <td>2</td>\n",
       "    </tr>\n",
       "    <tr>\n",
       "      <th>0xAC44D643FD2F8AE0CCD64B35A269DCC1</th>\n",
       "      <td>1297</td>\n",
       "      <td>3</td>\n",
       "    </tr>\n",
       "    <tr>\n",
       "      <th>0x30F9A85D6ADB8CFA380C4EA7D77C574E</th>\n",
       "      <td>1281</td>\n",
       "      <td>4</td>\n",
       "    </tr>\n",
       "    <tr>\n",
       "      <th>0xCA316F5E99321FD79D33C3CAB1000DA5</th>\n",
       "      <td>1193</td>\n",
       "      <td>5</td>\n",
       "    </tr>\n",
       "    <tr>\n",
       "      <th>0xE88FAEE35C9817B6BD91961D8DD186E0</th>\n",
       "      <td>1028</td>\n",
       "      <td>6</td>\n",
       "    </tr>\n",
       "    <tr>\n",
       "      <th>0x62B4268B5D5AB0FD8B0FDC93D79498DD</th>\n",
       "      <td>1025</td>\n",
       "      <td>7</td>\n",
       "    </tr>\n",
       "    <tr>\n",
       "      <th>0x24384492DBD8ACA63F4C29FC8BC3B36A</th>\n",
       "      <td>1011</td>\n",
       "      <td>8</td>\n",
       "    </tr>\n",
       "    <tr>\n",
       "      <th>0xD372854C5186AB811AEE55325547CC85</th>\n",
       "      <td>1009</td>\n",
       "      <td>9</td>\n",
       "    </tr>\n",
       "    <tr>\n",
       "      <th>0x0156CCFCAAF6097587BCB2B1C711F1FE</th>\n",
       "      <td>980</td>\n",
       "      <td>10</td>\n",
       "    </tr>\n",
       "    <tr>\n",
       "      <th>0xDB988F2168331E2562CF11B4AA937860</th>\n",
       "      <td>914</td>\n",
       "      <td>11</td>\n",
       "    </tr>\n",
       "    <tr>\n",
       "      <th>0x9B5B9677893258343CC40826B4B5E582</th>\n",
       "      <td>908</td>\n",
       "      <td>12</td>\n",
       "    </tr>\n",
       "    <tr>\n",
       "      <th>0xF80385A6C71AC84445AE35C85FA2D307</th>\n",
       "      <td>904</td>\n",
       "      <td>13</td>\n",
       "    </tr>\n",
       "    <tr>\n",
       "      <th>0x8EC6CD3003D6A2AC0C2D5A9E01A27586</th>\n",
       "      <td>902</td>\n",
       "      <td>14</td>\n",
       "    </tr>\n",
       "    <tr>\n",
       "      <th>0xAED5F3719528B27872DB934D7280E0A4</th>\n",
       "      <td>899</td>\n",
       "      <td>15</td>\n",
       "    </tr>\n",
       "    <tr>\n",
       "      <th>0xBF15E2F74294EBEB21342C4E8F9DF1F9</th>\n",
       "      <td>874</td>\n",
       "      <td>16</td>\n",
       "    </tr>\n",
       "    <tr>\n",
       "      <th>0x10A2DF03C250033F669D8CD64EA1C92C</th>\n",
       "      <td>866</td>\n",
       "      <td>17</td>\n",
       "    </tr>\n",
       "    <tr>\n",
       "      <th>0xF59B43A5D1BB99657202DB6B7A65E139</th>\n",
       "      <td>856</td>\n",
       "      <td>18</td>\n",
       "    </tr>\n",
       "    <tr>\n",
       "      <th>0xB626CA7D9A7AE9387D017E36CA5601A8</th>\n",
       "      <td>824</td>\n",
       "      <td>19</td>\n",
       "    </tr>\n",
       "    <tr>\n",
       "      <th>0x98BC792F6BD17D35AFBB463091213AA6</th>\n",
       "      <td>823</td>\n",
       "      <td>20</td>\n",
       "    </tr>\n",
       "    <tr>\n",
       "      <th>0x055540908A692CD1A391072009551566</th>\n",
       "      <td>813</td>\n",
       "      <td>21</td>\n",
       "    </tr>\n",
       "    <tr>\n",
       "      <th>0xC2C60165B483417724DD61B69CF68A4A</th>\n",
       "      <td>806</td>\n",
       "      <td>22</td>\n",
       "    </tr>\n",
       "    <tr>\n",
       "      <th>0x7386E3479C3BE38ABEAB43891F4EDA94</th>\n",
       "      <td>797</td>\n",
       "      <td>23</td>\n",
       "    </tr>\n",
       "    <tr>\n",
       "      <th>0xA5BFB3D198AC0049584C4FD9AC243F4C</th>\n",
       "      <td>790</td>\n",
       "      <td>24</td>\n",
       "    </tr>\n",
       "    <tr>\n",
       "      <th>0x22095B5BEC58305276EDEE9F7A4EFB6D</th>\n",
       "      <td>783</td>\n",
       "      <td>25</td>\n",
       "    </tr>\n",
       "    <tr>\n",
       "      <th>0x59D866EFE52D04FCDECFF8A67E37E7A9</th>\n",
       "      <td>780</td>\n",
       "      <td>26</td>\n",
       "    </tr>\n",
       "    <tr>\n",
       "      <th>0x1A47EB392816EDEA8F120F77641A264B</th>\n",
       "      <td>768</td>\n",
       "      <td>27</td>\n",
       "    </tr>\n",
       "    <tr>\n",
       "      <th>0xB7B63D69D1FAB073AD829D8EF201DE5A</th>\n",
       "      <td>765</td>\n",
       "      <td>28</td>\n",
       "    </tr>\n",
       "    <tr>\n",
       "      <th>0x6A1D9883E43921543C4831303D42A53A</th>\n",
       "      <td>758</td>\n",
       "      <td>29</td>\n",
       "    </tr>\n",
       "    <tr>\n",
       "      <th>0x24E35CEEE3AD22D854C97DB030343E22</th>\n",
       "      <td>753</td>\n",
       "      <td>30</td>\n",
       "    </tr>\n",
       "    <tr>\n",
       "      <th>0x8687608A10D76B8178603F6A6AD186B8</th>\n",
       "      <td>724</td>\n",
       "      <td>31</td>\n",
       "    </tr>\n",
       "    <tr>\n",
       "      <th>0x39581CB8744B97374E6879A289200F36</th>\n",
       "      <td>718</td>\n",
       "      <td>32</td>\n",
       "    </tr>\n",
       "    <tr>\n",
       "      <th>0x1B4D8C51DAAED258487ECA7024BDDD7E</th>\n",
       "      <td>708</td>\n",
       "      <td>33</td>\n",
       "    </tr>\n",
       "    <tr>\n",
       "      <th>0x679B982CBC0722F58B9761D82E33753D</th>\n",
       "      <td>697</td>\n",
       "      <td>34</td>\n",
       "    </tr>\n",
       "    <tr>\n",
       "      <th>0x9D850E350775EBA740305FAB73412D13</th>\n",
       "      <td>692</td>\n",
       "      <td>35</td>\n",
       "    </tr>\n",
       "    <tr>\n",
       "      <th>0x0A5F59E822D7E976D826D07CA2711836</th>\n",
       "      <td>691</td>\n",
       "      <td>36</td>\n",
       "    </tr>\n",
       "    <tr>\n",
       "      <th>0xFE27E72DC19AA0C06055C3F1F90BEC30</th>\n",
       "      <td>678</td>\n",
       "      <td>37</td>\n",
       "    </tr>\n",
       "    <tr>\n",
       "      <th>0x2DB7C845ECE411C2F84A7AEF4E3DAD62</th>\n",
       "      <td>678</td>\n",
       "      <td>38</td>\n",
       "    </tr>\n",
       "    <tr>\n",
       "      <th>0x3148FB73874751086476ABFA39C7C5F4</th>\n",
       "      <td>669</td>\n",
       "      <td>39</td>\n",
       "    </tr>\n",
       "    <tr>\n",
       "      <th>0x70FDEDA0F0D9F16E47C6F7CB29E2657C</th>\n",
       "      <td>668</td>\n",
       "      <td>40</td>\n",
       "    </tr>\n",
       "    <tr>\n",
       "      <th>0x6CED7CEFE44B0667B67E01133B69EA20</th>\n",
       "      <td>656</td>\n",
       "      <td>41</td>\n",
       "    </tr>\n",
       "    <tr>\n",
       "      <th>0x8A8AF41B49E87E80792990AAF579D350</th>\n",
       "      <td>650</td>\n",
       "      <td>42</td>\n",
       "    </tr>\n",
       "    <tr>\n",
       "      <th>0xCE38D518E5FEBDDD388613A4ED226033</th>\n",
       "      <td>646</td>\n",
       "      <td>43</td>\n",
       "    </tr>\n",
       "    <tr>\n",
       "      <th>0x8A572518683A2934178E7C14E072B8FD</th>\n",
       "      <td>642</td>\n",
       "      <td>44</td>\n",
       "    </tr>\n",
       "    <tr>\n",
       "      <th>0xED6D6D7860D516255D28B399347B7186</th>\n",
       "      <td>636</td>\n",
       "      <td>45</td>\n",
       "    </tr>\n",
       "    <tr>\n",
       "      <th>0xA090565952081966B00E1090DC55CAC4</th>\n",
       "      <td>632</td>\n",
       "      <td>46</td>\n",
       "    </tr>\n",
       "    <tr>\n",
       "      <th>0x0BD52C879F8AA276E68FB3F132374C99</th>\n",
       "      <td>632</td>\n",
       "      <td>47</td>\n",
       "    </tr>\n",
       "    <tr>\n",
       "      <th>0xD2470D200D666AEF57D21C2692A5ADF2</th>\n",
       "      <td>630</td>\n",
       "      <td>48</td>\n",
       "    </tr>\n",
       "    <tr>\n",
       "      <th>0x114CC44BDD7E9F98317C994ACB7EC517</th>\n",
       "      <td>630</td>\n",
       "      <td>49</td>\n",
       "    </tr>\n",
       "    <tr>\n",
       "      <th>0xEE34232BDD4B2585CCFB5FE1151550C7</th>\n",
       "      <td>614</td>\n",
       "      <td>50</td>\n",
       "    </tr>\n",
       "  </tbody>\n",
       "</table>\n",
       "</div>"
      ],
      "text/plain": [
       "                                    ANZAHL_FAHRTEN  RANG\n",
       "Subscriber_ID                                           \n",
       "0x30EF7C4D0C1211B47ADBA3295EF47C61            1790     1\n",
       "0xB9AF912E74C4F6602CF849721E28B621            1400     2\n",
       "0xAC44D643FD2F8AE0CCD64B35A269DCC1            1297     3\n",
       "0x30F9A85D6ADB8CFA380C4EA7D77C574E            1281     4\n",
       "0xCA316F5E99321FD79D33C3CAB1000DA5            1193     5\n",
       "0xE88FAEE35C9817B6BD91961D8DD186E0            1028     6\n",
       "0x62B4268B5D5AB0FD8B0FDC93D79498DD            1025     7\n",
       "0x24384492DBD8ACA63F4C29FC8BC3B36A            1011     8\n",
       "0xD372854C5186AB811AEE55325547CC85            1009     9\n",
       "0x0156CCFCAAF6097587BCB2B1C711F1FE             980    10\n",
       "0xDB988F2168331E2562CF11B4AA937860             914    11\n",
       "0x9B5B9677893258343CC40826B4B5E582             908    12\n",
       "0xF80385A6C71AC84445AE35C85FA2D307             904    13\n",
       "0x8EC6CD3003D6A2AC0C2D5A9E01A27586             902    14\n",
       "0xAED5F3719528B27872DB934D7280E0A4             899    15\n",
       "0xBF15E2F74294EBEB21342C4E8F9DF1F9             874    16\n",
       "0x10A2DF03C250033F669D8CD64EA1C92C             866    17\n",
       "0xF59B43A5D1BB99657202DB6B7A65E139             856    18\n",
       "0xB626CA7D9A7AE9387D017E36CA5601A8             824    19\n",
       "0x98BC792F6BD17D35AFBB463091213AA6             823    20\n",
       "0x055540908A692CD1A391072009551566             813    21\n",
       "0xC2C60165B483417724DD61B69CF68A4A             806    22\n",
       "0x7386E3479C3BE38ABEAB43891F4EDA94             797    23\n",
       "0xA5BFB3D198AC0049584C4FD9AC243F4C             790    24\n",
       "0x22095B5BEC58305276EDEE9F7A4EFB6D             783    25\n",
       "0x59D866EFE52D04FCDECFF8A67E37E7A9             780    26\n",
       "0x1A47EB392816EDEA8F120F77641A264B             768    27\n",
       "0xB7B63D69D1FAB073AD829D8EF201DE5A             765    28\n",
       "0x6A1D9883E43921543C4831303D42A53A             758    29\n",
       "0x24E35CEEE3AD22D854C97DB030343E22             753    30\n",
       "0x8687608A10D76B8178603F6A6AD186B8             724    31\n",
       "0x39581CB8744B97374E6879A289200F36             718    32\n",
       "0x1B4D8C51DAAED258487ECA7024BDDD7E             708    33\n",
       "0x679B982CBC0722F58B9761D82E33753D             697    34\n",
       "0x9D850E350775EBA740305FAB73412D13             692    35\n",
       "0x0A5F59E822D7E976D826D07CA2711836             691    36\n",
       "0xFE27E72DC19AA0C06055C3F1F90BEC30             678    37\n",
       "0x2DB7C845ECE411C2F84A7AEF4E3DAD62             678    38\n",
       "0x3148FB73874751086476ABFA39C7C5F4             669    39\n",
       "0x70FDEDA0F0D9F16E47C6F7CB29E2657C             668    40\n",
       "0x6CED7CEFE44B0667B67E01133B69EA20             656    41\n",
       "0x8A8AF41B49E87E80792990AAF579D350             650    42\n",
       "0xCE38D518E5FEBDDD388613A4ED226033             646    43\n",
       "0x8A572518683A2934178E7C14E072B8FD             642    44\n",
       "0xED6D6D7860D516255D28B399347B7186             636    45\n",
       "0xA090565952081966B00E1090DC55CAC4             632    46\n",
       "0x0BD52C879F8AA276E68FB3F132374C99             632    47\n",
       "0xD2470D200D666AEF57D21C2692A5ADF2             630    48\n",
       "0x114CC44BDD7E9F98317C994ACB7EC517             630    49\n",
       "0xEE34232BDD4B2585CCFB5FE1151550C7             614    50"
      ]
     },
     "execution_count": 52,
     "metadata": {},
     "output_type": "execute_result"
    }
   ],
   "source": [
    "aggregated_by_subscriber_dataframe_top_50 = aggregated_by_subscriber_dataframe[:50]\n",
    "aggregated_by_subscriber_dataframe_top_50['RANG'] = np.arange(1,51) \n",
    "aggregated_by_subscriber_dataframe_top_50"
   ]
  },
  {
   "cell_type": "markdown",
   "metadata": {},
   "source": [
    "## Was hat der Benutzer mit den meisten Fahrten für die Nutzung des Systems bezahlt?"
   ]
  },
  {
   "cell_type": "markdown",
   "metadata": {},
   "source": [
    "Der 'Citybike Wien'-Nutzer welcher das System innerhalb der beiden Jahren am meisten genutzt hat, fuhr insgesamt 1790 Fahrten. Es wäre interessant zu sehen was ihn die Nutzung des Systems über die Zeitdauer der beiden Jahre gekostet hat. \n",
    "\n",
    "Hierfür ist es nötig den Kostenplan von Citybike Wien zu kennen. Dieser ist progressiv eingestellt, das heißt, dass die erste Stunde kostenlos ist. Die zweite Stunde kostet einen Euro, die dritte das doppelte und die vierte Stunde dann vier Euro. Jede weitere Stunde kostet jeweils vier Euro. "
   ]
  },
  {
   "cell_type": "markdown",
   "metadata": {},
   "source": [
    "Wir suchen alle Fahrten für den Power-User heraus"
   ]
  },
  {
   "cell_type": "code",
   "execution_count": 53,
   "metadata": {},
   "outputs": [],
   "source": [
    "df_user_1 = df_total[df_total['Subscriber_ID'] == '0x30EF7C4D0C1211B47ADBA3295EF47C61']"
   ]
  },
  {
   "cell_type": "markdown",
   "metadata": {},
   "source": [
    "Wie oft hat der Nutzer das Limit der einen Stunde überschritten? Insgesamt 98 mal."
   ]
  },
  {
   "cell_type": "code",
   "execution_count": 60,
   "metadata": {},
   "outputs": [
    {
     "data": {
      "text/plain": [
       "98"
      ]
     },
     "execution_count": 60,
     "metadata": {},
     "output_type": "execute_result"
    }
   ],
   "source": [
    "df_user_1[df_user_1['Fahrtdauer'] > pd.Timedelta('60 min')].size"
   ]
  },
  {
   "cell_type": "markdown",
   "metadata": {},
   "source": [
    "Gab es Fälle bei denen die Fahrt länger als zwei Stunden dauerte? Nein"
   ]
  },
  {
   "cell_type": "code",
   "execution_count": 63,
   "metadata": {},
   "outputs": [
    {
     "data": {
      "text/plain": [
       "0"
      ]
     },
     "execution_count": 63,
     "metadata": {},
     "output_type": "execute_result"
    }
   ],
   "source": [
    "df_user_1[df_user_1['Fahrtdauer'] > pd.Timedelta('120 min')].size"
   ]
  },
  {
   "cell_type": "markdown",
   "metadata": {},
   "source": [
    "Insgesamt fielen 98 kostenpflichtige Fahrten an welche weniger als zwei Stunden gedauert haben. Somit hat der Anwender insgesamt 98 Euro für die Nutzung des Systems bezahlt.\n",
    "\n",
    "Im Schnitt hat der oder die NutzerIn ~ 5,5 Cent für jede Fahrt bezahl.\n"
   ]
  },
  {
   "cell_type": "markdown",
   "metadata": {},
   "source": [
    "## Welchen Umsatz hat das System für das Jahr 2016 bzw. 2017 generiert?"
   ]
  },
  {
   "cell_type": "markdown",
   "metadata": {},
   "source": [
    "Es wäre interessant zu sehen wie viel Umsatz alleine durch die Nutzung des Systems entstanden ist. \n",
    "\n",
    "Der Betreiber von CityBike Wien, die Gewista GmbH wählt ein hybrides Finanzierungsmodell. Das heißt, dass sich das System nicht nur aus den Beiträgen der einzelnen Nutzer finanziert, sondern auch aus Werbungen welche auf den Fahrrädern angezeigt werden. Inwieweit oder ob das System durch die Stadt Wien subventioniert wird ist nicht bekannt. \n",
    "\n",
    "Wir untersuchen nun die Einnahmen welche durch die Nutzergemeinde des Systems entsteht. Dies ist durch die Kenntniss des Kostenmodells und der Länge der einzelnen Fahrten möglich."
   ]
  },
  {
   "cell_type": "code",
   "execution_count": null,
   "metadata": {},
   "outputs": [],
   "source": []
  }
 ],
 "metadata": {
  "kernelspec": {
   "display_name": "Python 3",
   "language": "python",
   "name": "python3"
  },
  "language_info": {
   "codemirror_mode": {
    "name": "ipython",
    "version": 3
   },
   "file_extension": ".py",
   "mimetype": "text/x-python",
   "name": "python",
   "nbconvert_exporter": "python",
   "pygments_lexer": "ipython3",
   "version": "3.6.4"
  }
 },
 "nbformat": 4,
 "nbformat_minor": 2
}
